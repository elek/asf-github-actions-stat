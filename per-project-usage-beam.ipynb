{
 "cells": [
  {
   "cell_type": "code",
   "execution_count": 1,
   "metadata": {
    "execution": {
     "iopub.execute_input": "2021-04-17T20:26:03.881442Z",
     "iopub.status.busy": "2021-04-17T20:26:03.880871Z",
     "iopub.status.idle": "2021-04-17T20:26:04.261845Z",
     "shell.execute_reply": "2021-04-17T20:26:04.261423Z"
    },
    "jupyter": {
     "source_hidden": true
    },
    "papermill": {
     "duration": 0.428997,
     "end_time": "2021-04-17T20:26:04.261938",
     "exception": false,
     "start_time": "2021-04-17T20:26:03.832941",
     "status": "completed"
    },
    "tags": []
   },
   "outputs": [],
   "source": [
    "import pandas as pd\n",
    "import matplotlib.pyplot as plt\n",
    "pd.set_option('display.max_rows', 500)\n"
   ]
  },
  {
   "cell_type": "code",
   "execution_count": 2,
   "metadata": {
    "execution": {
     "iopub.execute_input": "2021-04-17T20:26:04.286896Z",
     "iopub.status.busy": "2021-04-17T20:26:04.286520Z",
     "iopub.status.idle": "2021-04-17T20:26:04.288575Z",
     "shell.execute_reply": "2021-04-17T20:26:04.288200Z"
    },
    "jupyter": {
     "source_hidden": true
    },
    "papermill": {
     "duration": 0.015392,
     "end_time": "2021-04-17T20:26:04.288657",
     "exception": false,
     "start_time": "2021-04-17T20:26:04.273265",
     "status": "completed"
    },
    "tags": []
   },
   "outputs": [],
   "source": [
    "def asf_project(pr):\n",
    "    name = pr.split(\"-\")[0]\n",
    "    if name == \"incubator\":\n",
    "        return pr.split(\"-\")[1]\n",
    "    return name"
   ]
  },
  {
   "cell_type": "code",
   "execution_count": 3,
   "metadata": {
    "execution": {
     "iopub.execute_input": "2021-04-17T20:26:04.314169Z",
     "iopub.status.busy": "2021-04-17T20:26:04.313784Z",
     "iopub.status.idle": "2021-04-17T20:26:04.315681Z",
     "shell.execute_reply": "2021-04-17T20:26:04.315288Z"
    },
    "jupyter": {
     "source_hidden": true
    },
    "papermill": {
     "duration": 0.016288,
     "end_time": "2021-04-17T20:26:04.315764",
     "exception": false,
     "start_time": "2021-04-17T20:26:04.299476",
     "status": "completed"
    },
    "tags": [
     "parameters"
    ]
   },
   "outputs": [],
   "source": [
    "project = \"ozone\""
   ]
  },
  {
   "cell_type": "code",
   "execution_count": 4,
   "metadata": {
    "execution": {
     "iopub.execute_input": "2021-04-17T20:26:04.342976Z",
     "iopub.status.busy": "2021-04-17T20:26:04.342586Z",
     "iopub.status.idle": "2021-04-17T20:26:04.344582Z",
     "shell.execute_reply": "2021-04-17T20:26:04.344242Z"
    },
    "jupyter": {
     "source_hidden": true
    },
    "papermill": {
     "duration": 0.017243,
     "end_time": "2021-04-17T20:26:04.344669",
     "exception": false,
     "start_time": "2021-04-17T20:26:04.327426",
     "status": "completed"
    },
    "tags": [
     "injected-parameters"
    ]
   },
   "outputs": [],
   "source": [
    "# Parameters\n",
    "project = \"beam\"\n"
   ]
  },
  {
   "cell_type": "code",
   "execution_count": 5,
   "metadata": {
    "execution": {
     "iopub.execute_input": "2021-04-17T20:26:04.372822Z",
     "iopub.status.busy": "2021-04-17T20:26:04.372433Z",
     "iopub.status.idle": "2021-04-17T20:26:06.401087Z",
     "shell.execute_reply": "2021-04-17T20:26:06.401388Z"
    },
    "jupyter": {
     "source_hidden": true
    },
    "papermill": {
     "duration": 2.044846,
     "end_time": "2021-04-17T20:26:06.401497",
     "exception": false,
     "start_time": "2021-04-17T20:26:04.356651",
     "status": "completed"
    },
    "tags": []
   },
   "outputs": [],
   "source": [
    "actions = pd.read_csv(\"github-action-run.csv.gz\")\n",
    "                          \n",
    "actions.createdat = pd.to_datetime(actions.createdat * 1000000, utc = True)\n",
    "actions.updatedat = pd.to_datetime(actions.updatedat * 1000000, utc = True)\n",
    "actions.firstjobstarted = pd.to_datetime(actions.firstjobstarted * 1000000, utc = True)\n",
    "actions.lastjobcompleted = pd.to_datetime(actions.lastjobcompleted * 1000000, utc = True)                "
   ]
  },
  {
   "cell_type": "code",
   "execution_count": 6,
   "metadata": {
    "execution": {
     "iopub.execute_input": "2021-04-17T20:26:06.426623Z",
     "iopub.status.busy": "2021-04-17T20:26:06.426210Z",
     "iopub.status.idle": "2021-04-17T20:26:12.242146Z",
     "shell.execute_reply": "2021-04-17T20:26:12.241721Z"
    },
    "jupyter": {
     "source_hidden": true
    },
    "papermill": {
     "duration": 5.829785,
     "end_time": "2021-04-17T20:26:12.242229",
     "exception": false,
     "start_time": "2021-04-17T20:26:06.412444",
     "status": "completed"
    },
    "tags": []
   },
   "outputs": [],
   "source": [
    "actions[\"project\"] = actions.repo.apply(asf_project)\n",
    "actions[\"jobhours\"] = actions.jobseconds / 60 / 60\n",
    "actions[\"month\"] = actions.createdat.dt.strftime(\"%Y-%m\")"
   ]
  },
  {
   "cell_type": "code",
   "execution_count": 7,
   "metadata": {
    "execution": {
     "iopub.execute_input": "2021-04-17T20:26:12.323043Z",
     "iopub.status.busy": "2021-04-17T20:26:12.322667Z",
     "iopub.status.idle": "2021-04-17T20:26:12.524792Z",
     "shell.execute_reply": "2021-04-17T20:26:12.525081Z"
    },
    "jupyter": {
     "source_hidden": true
    },
    "papermill": {
     "duration": 0.272221,
     "end_time": "2021-04-17T20:26:12.525239",
     "exception": false,
     "start_time": "2021-04-17T20:26:12.253018",
     "status": "completed"
    },
    "tags": []
   },
   "outputs": [],
   "source": [
    "actions =  actions[actions.month.isin([\"2021-03\",\"2021-02\"])]\n",
    "last_month = \"2021-03\"\n",
    "actions = actions[actions.project == project]"
   ]
  },
  {
   "cell_type": "markdown",
   "metadata": {
    "papermill": {
     "duration": 0.010647,
     "end_time": "2021-04-17T20:26:12.546647",
     "exception": false,
     "start_time": "2021-04-17T20:26:12.536000",
     "status": "completed"
    },
    "tags": []
   },
   "source": [
    "## Number of jobhours used by month\n",
    "\n",
    "Maximum available value is 180 * 24 * days == 129600 (30 days) .. 133920 (31 days)"
   ]
  },
  {
   "cell_type": "code",
   "execution_count": 8,
   "metadata": {
    "execution": {
     "iopub.execute_input": "2021-04-17T20:26:12.576361Z",
     "iopub.status.busy": "2021-04-17T20:26:12.575932Z",
     "iopub.status.idle": "2021-04-17T20:26:12.585833Z",
     "shell.execute_reply": "2021-04-17T20:26:12.585477Z"
    },
    "jupyter": {
     "source_hidden": true
    },
    "papermill": {
     "duration": 0.027691,
     "end_time": "2021-04-17T20:26:12.585915",
     "exception": false,
     "start_time": "2021-04-17T20:26:12.558224",
     "status": "completed"
    },
    "tags": []
   },
   "outputs": [
    {
     "data": {
      "text/html": [
       "<div>\n",
       "<style scoped>\n",
       "    .dataframe tbody tr th:only-of-type {\n",
       "        vertical-align: middle;\n",
       "    }\n",
       "\n",
       "    .dataframe tbody tr th {\n",
       "        vertical-align: top;\n",
       "    }\n",
       "\n",
       "    .dataframe thead th {\n",
       "        text-align: right;\n",
       "    }\n",
       "</style>\n",
       "<table border=\"1\" class=\"dataframe\">\n",
       "  <thead>\n",
       "    <tr style=\"text-align: right;\">\n",
       "      <th></th>\n",
       "      <th>jobhours</th>\n",
       "    </tr>\n",
       "    <tr>\n",
       "      <th>month</th>\n",
       "      <th></th>\n",
       "    </tr>\n",
       "  </thead>\n",
       "  <tbody>\n",
       "    <tr>\n",
       "      <th>2021-02</th>\n",
       "      <td>3448</td>\n",
       "    </tr>\n",
       "    <tr>\n",
       "      <th>2021-03</th>\n",
       "      <td>4042</td>\n",
       "    </tr>\n",
       "  </tbody>\n",
       "</table>\n",
       "</div>"
      ],
      "text/plain": [
       "         jobhours\n",
       "month            \n",
       "2021-02      3448\n",
       "2021-03      4042"
      ]
     },
     "execution_count": 8,
     "metadata": {},
     "output_type": "execute_result"
    }
   ],
   "source": [
    "actions[[\"jobhours\"]].groupby([actions.project,actions.month]).count().reset_index().groupby(\"month\").sum()"
   ]
  },
  {
   "cell_type": "markdown",
   "metadata": {
    "papermill": {
     "duration": 0.010812,
     "end_time": "2021-04-17T20:26:12.607520",
     "exception": false,
     "start_time": "2021-04-17T20:26:12.596708",
     "status": "completed"
    },
    "tags": []
   },
   "source": [
    "## Number of jobs executed by git repositories (last month)"
   ]
  },
  {
   "cell_type": "code",
   "execution_count": 9,
   "metadata": {
    "execution": {
     "iopub.execute_input": "2021-04-17T20:26:12.633122Z",
     "iopub.status.busy": "2021-04-17T20:26:12.632745Z",
     "iopub.status.idle": "2021-04-17T20:26:12.643319Z",
     "shell.execute_reply": "2021-04-17T20:26:12.642961Z"
    },
    "jupyter": {
     "source_hidden": true
    },
    "papermill": {
     "duration": 0.025055,
     "end_time": "2021-04-17T20:26:12.643407",
     "exception": false,
     "start_time": "2021-04-17T20:26:12.618352",
     "status": "completed"
    },
    "tags": []
   },
   "outputs": [
    {
     "data": {
      "text/html": [
       "<div>\n",
       "<style scoped>\n",
       "    .dataframe tbody tr th:only-of-type {\n",
       "        vertical-align: middle;\n",
       "    }\n",
       "\n",
       "    .dataframe tbody tr th {\n",
       "        vertical-align: top;\n",
       "    }\n",
       "\n",
       "    .dataframe thead tr th {\n",
       "        text-align: left;\n",
       "    }\n",
       "\n",
       "    .dataframe thead tr:last-of-type th {\n",
       "        text-align: right;\n",
       "    }\n",
       "</style>\n",
       "<table border=\"1\" class=\"dataframe\">\n",
       "  <thead>\n",
       "    <tr>\n",
       "      <th></th>\n",
       "      <th colspan=\"3\" halign=\"left\">jobhours</th>\n",
       "    </tr>\n",
       "    <tr>\n",
       "      <th></th>\n",
       "      <th>sum</th>\n",
       "      <th>mean</th>\n",
       "      <th>max</th>\n",
       "    </tr>\n",
       "    <tr>\n",
       "      <th>repo</th>\n",
       "      <th></th>\n",
       "      <th></th>\n",
       "      <th></th>\n",
       "    </tr>\n",
       "  </thead>\n",
       "  <tbody>\n",
       "    <tr>\n",
       "      <th>beam</th>\n",
       "      <td>2782.366111</td>\n",
       "      <td>0.688364</td>\n",
       "      <td>46.451667</td>\n",
       "    </tr>\n",
       "  </tbody>\n",
       "</table>\n",
       "</div>"
      ],
      "text/plain": [
       "         jobhours                     \n",
       "              sum      mean        max\n",
       "repo                                  \n",
       "beam  2782.366111  0.688364  46.451667"
      ]
     },
     "execution_count": 9,
     "metadata": {},
     "output_type": "execute_result"
    }
   ],
   "source": [
    "actions[actions.month == last_month][[\"repo\",\"jobhours\"]].groupby(\"repo\").agg({\"jobhours\":[\"sum\",\"mean\", \"max\"]}).sort_values(('jobhours',\"sum\"), ascending=False).head(20)"
   ]
  },
  {
   "cell_type": "markdown",
   "metadata": {
    "papermill": {
     "duration": 0.011197,
     "end_time": "2021-04-17T20:26:12.665839",
     "exception": false,
     "start_time": "2021-04-17T20:26:12.654642",
     "status": "completed"
    },
    "tags": []
   },
   "source": [
    "## Job hour statustics per workflows"
   ]
  },
  {
   "cell_type": "code",
   "execution_count": 10,
   "metadata": {
    "execution": {
     "iopub.execute_input": "2021-04-17T20:26:12.694405Z",
     "iopub.status.busy": "2021-04-17T20:26:12.694037Z",
     "iopub.status.idle": "2021-04-17T20:26:12.706588Z",
     "shell.execute_reply": "2021-04-17T20:26:12.706231Z"
    },
    "jupyter": {
     "source_hidden": true
    },
    "papermill": {
     "duration": 0.028996,
     "end_time": "2021-04-17T20:26:12.706671",
     "exception": false,
     "start_time": "2021-04-17T20:26:12.677675",
     "status": "completed"
    },
    "tags": []
   },
   "outputs": [
    {
     "data": {
      "text/html": [
       "<div>\n",
       "<style scoped>\n",
       "    .dataframe tbody tr th:only-of-type {\n",
       "        vertical-align: middle;\n",
       "    }\n",
       "\n",
       "    .dataframe tbody tr th {\n",
       "        vertical-align: top;\n",
       "    }\n",
       "\n",
       "    .dataframe thead tr th {\n",
       "        text-align: left;\n",
       "    }\n",
       "\n",
       "    .dataframe thead tr:last-of-type th {\n",
       "        text-align: right;\n",
       "    }\n",
       "</style>\n",
       "<table border=\"1\" class=\"dataframe\">\n",
       "  <thead>\n",
       "    <tr>\n",
       "      <th></th>\n",
       "      <th></th>\n",
       "      <th colspan=\"3\" halign=\"left\">jobhours</th>\n",
       "    </tr>\n",
       "    <tr>\n",
       "      <th></th>\n",
       "      <th></th>\n",
       "      <th>sum</th>\n",
       "      <th>mean</th>\n",
       "      <th>max</th>\n",
       "    </tr>\n",
       "    <tr>\n",
       "      <th>repo</th>\n",
       "      <th>workflowid</th>\n",
       "      <th></th>\n",
       "      <th></th>\n",
       "      <th></th>\n",
       "    </tr>\n",
       "  </thead>\n",
       "  <tbody>\n",
       "    <tr>\n",
       "      <th rowspan=\"4\" valign=\"top\">beam</th>\n",
       "      <th>2083803</th>\n",
       "      <td>1310.275833</td>\n",
       "      <td>2.232156</td>\n",
       "      <td>46.451667</td>\n",
       "    </tr>\n",
       "    <tr>\n",
       "      <th>2173354</th>\n",
       "      <td>1109.999167</td>\n",
       "      <td>1.394471</td>\n",
       "      <td>7.466667</td>\n",
       "    </tr>\n",
       "    <tr>\n",
       "      <th>1729654</th>\n",
       "      <td>347.849722</td>\n",
       "      <td>0.545219</td>\n",
       "      <td>1.052500</td>\n",
       "    </tr>\n",
       "    <tr>\n",
       "      <th>1729655</th>\n",
       "      <td>14.241389</td>\n",
       "      <td>0.007047</td>\n",
       "      <td>0.174167</td>\n",
       "    </tr>\n",
       "  </tbody>\n",
       "</table>\n",
       "</div>"
      ],
      "text/plain": [
       "                    jobhours                     \n",
       "                         sum      mean        max\n",
       "repo workflowid                                  \n",
       "beam 2083803     1310.275833  2.232156  46.451667\n",
       "     2173354     1109.999167  1.394471   7.466667\n",
       "     1729654      347.849722  0.545219   1.052500\n",
       "     1729655       14.241389  0.007047   0.174167"
      ]
     },
     "execution_count": 10,
     "metadata": {},
     "output_type": "execute_result"
    }
   ],
   "source": [
    "actions[actions.month == last_month][[\"repo\",\"workflowid\",\"jobhours\"]].groupby([\"repo\",\"workflowid\"]).agg({\"jobhours\":[\"sum\",\"mean\", \"max\"]}).sort_values(('jobhours',\"sum\"), ascending=False)"
   ]
  },
  {
   "cell_type": "markdown",
   "metadata": {
    "papermill": {
     "duration": 0.011904,
     "end_time": "2021-04-17T20:26:12.730152",
     "exception": false,
     "start_time": "2021-04-17T20:26:12.718248",
     "status": "completed"
    },
    "tags": []
   },
   "source": [
    "## Slowest workflow runs\n"
   ]
  },
  {
   "cell_type": "code",
   "execution_count": 11,
   "metadata": {
    "execution": {
     "iopub.execute_input": "2021-04-17T20:26:12.760124Z",
     "iopub.status.busy": "2021-04-17T20:26:12.759677Z",
     "iopub.status.idle": "2021-04-17T20:26:12.778870Z",
     "shell.execute_reply": "2021-04-17T20:26:12.779143Z"
    },
    "jupyter": {
     "source_hidden": true
    },
    "papermill": {
     "duration": 0.035849,
     "end_time": "2021-04-17T20:26:12.779243",
     "exception": false,
     "start_time": "2021-04-17T20:26:12.743394",
     "status": "completed"
    },
    "tags": []
   },
   "outputs": [
    {
     "data": {
      "text/html": [
       "<div>\n",
       "<style scoped>\n",
       "    .dataframe tbody tr th:only-of-type {\n",
       "        vertical-align: middle;\n",
       "    }\n",
       "\n",
       "    .dataframe tbody tr th {\n",
       "        vertical-align: top;\n",
       "    }\n",
       "\n",
       "    .dataframe thead th {\n",
       "        text-align: right;\n",
       "    }\n",
       "</style>\n",
       "<table border=\"1\" class=\"dataframe\">\n",
       "  <thead>\n",
       "    <tr style=\"text-align: right;\">\n",
       "      <th></th>\n",
       "      <th>org</th>\n",
       "      <th>repo</th>\n",
       "      <th>id</th>\n",
       "      <th>runnumber</th>\n",
       "      <th>createdat</th>\n",
       "      <th>updatedat</th>\n",
       "      <th>status</th>\n",
       "      <th>conclusion</th>\n",
       "      <th>workflowid</th>\n",
       "      <th>firstjobstarted</th>\n",
       "      <th>lastjobcompleted</th>\n",
       "      <th>jobdetails</th>\n",
       "      <th>jobs</th>\n",
       "      <th>jobseconds</th>\n",
       "      <th>project</th>\n",
       "      <th>jobhours</th>\n",
       "      <th>month</th>\n",
       "    </tr>\n",
       "  </thead>\n",
       "  <tbody>\n",
       "    <tr>\n",
       "      <th>488121</th>\n",
       "      <td>apache</td>\n",
       "      <td>beam</td>\n",
       "      <td>549821700</td>\n",
       "      <td>3141</td>\n",
       "      <td>2021-02-09 00:59:15+00:00</td>\n",
       "      <td>2021-02-09 07:03:28+00:00</td>\n",
       "      <td>completed</td>\n",
       "      <td>failure</td>\n",
       "      <td>2083803</td>\n",
       "      <td>2021-02-09 00:59:35+00:00</td>\n",
       "      <td>2021-02-09 07:03:13+00:00</td>\n",
       "      <td>True</td>\n",
       "      <td>26</td>\n",
       "      <td>180058</td>\n",
       "      <td>beam</td>\n",
       "      <td>50.016111</td>\n",
       "      <td>2021-02</td>\n",
       "    </tr>\n",
       "    <tr>\n",
       "      <th>488779</th>\n",
       "      <td>apache</td>\n",
       "      <td>beam</td>\n",
       "      <td>647611216</td>\n",
       "      <td>3734</td>\n",
       "      <td>2021-03-12 22:25:29+00:00</td>\n",
       "      <td>2021-03-13 04:01:56+00:00</td>\n",
       "      <td>completed</td>\n",
       "      <td>failure</td>\n",
       "      <td>2083803</td>\n",
       "      <td>2021-03-12 22:25:39+00:00</td>\n",
       "      <td>2021-03-13 04:01:42+00:00</td>\n",
       "      <td>True</td>\n",
       "      <td>26</td>\n",
       "      <td>167226</td>\n",
       "      <td>beam</td>\n",
       "      <td>46.451667</td>\n",
       "      <td>2021-03</td>\n",
       "    </tr>\n",
       "    <tr>\n",
       "      <th>488764</th>\n",
       "      <td>apache</td>\n",
       "      <td>beam</td>\n",
       "      <td>645014377</td>\n",
       "      <td>3720</td>\n",
       "      <td>2021-03-12 04:02:16+00:00</td>\n",
       "      <td>2021-03-12 08:01:56+00:00</td>\n",
       "      <td>completed</td>\n",
       "      <td>failure</td>\n",
       "      <td>2083803</td>\n",
       "      <td>2021-03-12 04:32:19+00:00</td>\n",
       "      <td>2021-03-12 08:01:41+00:00</td>\n",
       "      <td>True</td>\n",
       "      <td>26</td>\n",
       "      <td>102804</td>\n",
       "      <td>beam</td>\n",
       "      <td>28.556667</td>\n",
       "      <td>2021-03</td>\n",
       "    </tr>\n",
       "    <tr>\n",
       "      <th>488756</th>\n",
       "      <td>apache</td>\n",
       "      <td>beam</td>\n",
       "      <td>644614586</td>\n",
       "      <td>3713</td>\n",
       "      <td>2021-03-12 00:41:42+00:00</td>\n",
       "      <td>2021-03-12 03:58:27+00:00</td>\n",
       "      <td>completed</td>\n",
       "      <td>cancelled</td>\n",
       "      <td>2083803</td>\n",
       "      <td>2021-03-12 00:44:08+00:00</td>\n",
       "      <td>2021-03-12 03:58:10+00:00</td>\n",
       "      <td>True</td>\n",
       "      <td>26</td>\n",
       "      <td>90594</td>\n",
       "      <td>beam</td>\n",
       "      <td>25.165000</td>\n",
       "      <td>2021-03</td>\n",
       "    </tr>\n",
       "    <tr>\n",
       "      <th>488116</th>\n",
       "      <td>apache</td>\n",
       "      <td>beam</td>\n",
       "      <td>549415326</td>\n",
       "      <td>3137</td>\n",
       "      <td>2021-02-08 21:54:46+00:00</td>\n",
       "      <td>2021-02-09 01:02:45+00:00</td>\n",
       "      <td>completed</td>\n",
       "      <td>cancelled</td>\n",
       "      <td>2083803</td>\n",
       "      <td>2021-02-08 22:26:36+00:00</td>\n",
       "      <td>2021-02-09 01:02:27+00:00</td>\n",
       "      <td>True</td>\n",
       "      <td>26</td>\n",
       "      <td>65927</td>\n",
       "      <td>beam</td>\n",
       "      <td>18.313056</td>\n",
       "      <td>2021-02</td>\n",
       "    </tr>\n",
       "    <tr>\n",
       "      <th>488059</th>\n",
       "      <td>apache</td>\n",
       "      <td>beam</td>\n",
       "      <td>541278687</td>\n",
       "      <td>3086</td>\n",
       "      <td>2021-02-05 18:38:30+00:00</td>\n",
       "      <td>2021-02-06 00:03:32+00:00</td>\n",
       "      <td>completed</td>\n",
       "      <td>failure</td>\n",
       "      <td>2083803</td>\n",
       "      <td>2021-02-05 18:54:57+00:00</td>\n",
       "      <td>2021-02-06 00:03:17+00:00</td>\n",
       "      <td>True</td>\n",
       "      <td>26</td>\n",
       "      <td>51419</td>\n",
       "      <td>beam</td>\n",
       "      <td>14.283056</td>\n",
       "      <td>2021-02</td>\n",
       "    </tr>\n",
       "    <tr>\n",
       "      <th>488039</th>\n",
       "      <td>apache</td>\n",
       "      <td>beam</td>\n",
       "      <td>538148910</td>\n",
       "      <td>3068</td>\n",
       "      <td>2021-02-04 19:07:08+00:00</td>\n",
       "      <td>2021-02-04 21:22:51+00:00</td>\n",
       "      <td>completed</td>\n",
       "      <td>failure</td>\n",
       "      <td>2083803</td>\n",
       "      <td>2021-02-04 19:31:59+00:00</td>\n",
       "      <td>2021-02-04 21:22:32+00:00</td>\n",
       "      <td>True</td>\n",
       "      <td>26</td>\n",
       "      <td>38823</td>\n",
       "      <td>beam</td>\n",
       "      <td>10.784167</td>\n",
       "      <td>2021-02</td>\n",
       "    </tr>\n",
       "    <tr>\n",
       "      <th>487979</th>\n",
       "      <td>apache</td>\n",
       "      <td>beam</td>\n",
       "      <td>529644857</td>\n",
       "      <td>3013</td>\n",
       "      <td>2021-02-02 03:39:37+00:00</td>\n",
       "      <td>2021-02-02 06:14:19+00:00</td>\n",
       "      <td>completed</td>\n",
       "      <td>failure</td>\n",
       "      <td>2083803</td>\n",
       "      <td>2021-02-02 04:11:42+00:00</td>\n",
       "      <td>2021-02-02 06:14:04+00:00</td>\n",
       "      <td>True</td>\n",
       "      <td>26</td>\n",
       "      <td>37509</td>\n",
       "      <td>beam</td>\n",
       "      <td>10.419167</td>\n",
       "      <td>2021-02</td>\n",
       "    </tr>\n",
       "    <tr>\n",
       "      <th>488026</th>\n",
       "      <td>apache</td>\n",
       "      <td>beam</td>\n",
       "      <td>535415053</td>\n",
       "      <td>3056</td>\n",
       "      <td>2021-02-03 23:13:34+00:00</td>\n",
       "      <td>2021-02-04 01:36:46+00:00</td>\n",
       "      <td>completed</td>\n",
       "      <td>failure</td>\n",
       "      <td>2083803</td>\n",
       "      <td>2021-02-03 23:46:54+00:00</td>\n",
       "      <td>2021-02-04 01:36:29+00:00</td>\n",
       "      <td>True</td>\n",
       "      <td>26</td>\n",
       "      <td>37224</td>\n",
       "      <td>beam</td>\n",
       "      <td>10.340000</td>\n",
       "      <td>2021-02</td>\n",
       "    </tr>\n",
       "    <tr>\n",
       "      <th>488084</th>\n",
       "      <td>apache</td>\n",
       "      <td>beam</td>\n",
       "      <td>542436517</td>\n",
       "      <td>3108</td>\n",
       "      <td>2021-02-06 05:04:26+00:00</td>\n",
       "      <td>2021-02-06 06:10:59+00:00</td>\n",
       "      <td>completed</td>\n",
       "      <td>failure</td>\n",
       "      <td>2083803</td>\n",
       "      <td>2021-02-06 05:04:37+00:00</td>\n",
       "      <td>2021-02-06 06:10:45+00:00</td>\n",
       "      <td>True</td>\n",
       "      <td>26</td>\n",
       "      <td>36563</td>\n",
       "      <td>beam</td>\n",
       "      <td>10.156389</td>\n",
       "      <td>2021-02</td>\n",
       "    </tr>\n",
       "    <tr>\n",
       "      <th>488537</th>\n",
       "      <td>apache</td>\n",
       "      <td>beam</td>\n",
       "      <td>617654198</td>\n",
       "      <td>3516</td>\n",
       "      <td>2021-03-03 13:20:27+00:00</td>\n",
       "      <td>2021-03-03 14:52:37+00:00</td>\n",
       "      <td>completed</td>\n",
       "      <td>failure</td>\n",
       "      <td>2083803</td>\n",
       "      <td>2021-03-03 13:21:02+00:00</td>\n",
       "      <td>2021-03-03 14:52:33+00:00</td>\n",
       "      <td>True</td>\n",
       "      <td>19</td>\n",
       "      <td>27873</td>\n",
       "      <td>beam</td>\n",
       "      <td>7.742500</td>\n",
       "      <td>2021-03</td>\n",
       "    </tr>\n",
       "    <tr>\n",
       "      <th>488225</th>\n",
       "      <td>apache</td>\n",
       "      <td>beam</td>\n",
       "      <td>562543976</td>\n",
       "      <td>3235</td>\n",
       "      <td>2021-02-12 23:46:22+00:00</td>\n",
       "      <td>2021-02-13 00:48:05+00:00</td>\n",
       "      <td>completed</td>\n",
       "      <td>failure</td>\n",
       "      <td>2083803</td>\n",
       "      <td>2021-02-12 23:46:41+00:00</td>\n",
       "      <td>2021-02-13 00:45:25+00:00</td>\n",
       "      <td>True</td>\n",
       "      <td>26</td>\n",
       "      <td>27612</td>\n",
       "      <td>beam</td>\n",
       "      <td>7.670000</td>\n",
       "      <td>2021-02</td>\n",
       "    </tr>\n",
       "    <tr>\n",
       "      <th>494882</th>\n",
       "      <td>apache</td>\n",
       "      <td>beam</td>\n",
       "      <td>641612122</td>\n",
       "      <td>5292</td>\n",
       "      <td>2021-03-11 04:26:46+00:00</td>\n",
       "      <td>2021-03-11 10:46:37+00:00</td>\n",
       "      <td>completed</td>\n",
       "      <td>failure</td>\n",
       "      <td>2173354</td>\n",
       "      <td>2021-03-11 04:33:12+00:00</td>\n",
       "      <td>2021-03-11 10:46:32+00:00</td>\n",
       "      <td>True</td>\n",
       "      <td>8</td>\n",
       "      <td>26880</td>\n",
       "      <td>beam</td>\n",
       "      <td>7.466667</td>\n",
       "      <td>2021-03</td>\n",
       "    </tr>\n",
       "    <tr>\n",
       "      <th>488224</th>\n",
       "      <td>apache</td>\n",
       "      <td>beam</td>\n",
       "      <td>562543930</td>\n",
       "      <td>3234</td>\n",
       "      <td>2021-02-12 23:46:21+00:00</td>\n",
       "      <td>2021-02-13 00:48:03+00:00</td>\n",
       "      <td>completed</td>\n",
       "      <td>success</td>\n",
       "      <td>2083803</td>\n",
       "      <td>2021-02-12 23:46:34+00:00</td>\n",
       "      <td>2021-02-13 00:42:38+00:00</td>\n",
       "      <td>True</td>\n",
       "      <td>26</td>\n",
       "      <td>25368</td>\n",
       "      <td>beam</td>\n",
       "      <td>7.046667</td>\n",
       "      <td>2021-02</td>\n",
       "    </tr>\n",
       "    <tr>\n",
       "      <th>488223</th>\n",
       "      <td>apache</td>\n",
       "      <td>beam</td>\n",
       "      <td>562526993</td>\n",
       "      <td>3233</td>\n",
       "      <td>2021-02-12 23:38:00+00:00</td>\n",
       "      <td>2021-02-13 00:26:57+00:00</td>\n",
       "      <td>completed</td>\n",
       "      <td>failure</td>\n",
       "      <td>2083803</td>\n",
       "      <td>2021-02-12 23:38:09+00:00</td>\n",
       "      <td>2021-02-13 00:26:45+00:00</td>\n",
       "      <td>True</td>\n",
       "      <td>26</td>\n",
       "      <td>20722</td>\n",
       "      <td>beam</td>\n",
       "      <td>5.756111</td>\n",
       "      <td>2021-02</td>\n",
       "    </tr>\n",
       "    <tr>\n",
       "      <th>488189</th>\n",
       "      <td>apache</td>\n",
       "      <td>beam</td>\n",
       "      <td>558786628</td>\n",
       "      <td>3202</td>\n",
       "      <td>2021-02-11 18:52:10+00:00</td>\n",
       "      <td>2021-02-11 20:36:04+00:00</td>\n",
       "      <td>completed</td>\n",
       "      <td>success</td>\n",
       "      <td>2083803</td>\n",
       "      <td>2021-02-11 18:52:56+00:00</td>\n",
       "      <td>2021-02-11 20:35:51+00:00</td>\n",
       "      <td>True</td>\n",
       "      <td>28</td>\n",
       "      <td>16699</td>\n",
       "      <td>beam</td>\n",
       "      <td>4.638611</td>\n",
       "      <td>2021-02</td>\n",
       "    </tr>\n",
       "    <tr>\n",
       "      <th>494808</th>\n",
       "      <td>apache</td>\n",
       "      <td>beam</td>\n",
       "      <td>636299766</td>\n",
       "      <td>5225</td>\n",
       "      <td>2021-03-09 15:43:12+00:00</td>\n",
       "      <td>2021-03-09 17:38:44+00:00</td>\n",
       "      <td>completed</td>\n",
       "      <td>failure</td>\n",
       "      <td>2173354</td>\n",
       "      <td>2021-03-09 15:43:45+00:00</td>\n",
       "      <td>2021-03-09 17:38:40+00:00</td>\n",
       "      <td>True</td>\n",
       "      <td>10</td>\n",
       "      <td>16657</td>\n",
       "      <td>beam</td>\n",
       "      <td>4.626944</td>\n",
       "      <td>2021-03</td>\n",
       "    </tr>\n",
       "    <tr>\n",
       "      <th>488328</th>\n",
       "      <td>apache</td>\n",
       "      <td>beam</td>\n",
       "      <td>590388808</td>\n",
       "      <td>3328</td>\n",
       "      <td>2021-02-22 20:24:17+00:00</td>\n",
       "      <td>2021-02-22 21:34:37+00:00</td>\n",
       "      <td>completed</td>\n",
       "      <td>failure</td>\n",
       "      <td>2083803</td>\n",
       "      <td>2021-02-22 20:42:22+00:00</td>\n",
       "      <td>2021-02-22 21:34:27+00:00</td>\n",
       "      <td>True</td>\n",
       "      <td>26</td>\n",
       "      <td>15567</td>\n",
       "      <td>beam</td>\n",
       "      <td>4.324167</td>\n",
       "      <td>2021-02</td>\n",
       "    </tr>\n",
       "    <tr>\n",
       "      <th>488926</th>\n",
       "      <td>apache</td>\n",
       "      <td>beam</td>\n",
       "      <td>669865112</td>\n",
       "      <td>3867</td>\n",
       "      <td>2021-03-20 02:42:08+00:00</td>\n",
       "      <td>2021-03-20 04:02:53+00:00</td>\n",
       "      <td>completed</td>\n",
       "      <td>success</td>\n",
       "      <td>2083803</td>\n",
       "      <td>2021-03-20 02:47:16+00:00</td>\n",
       "      <td>2021-03-20 04:02:41+00:00</td>\n",
       "      <td>True</td>\n",
       "      <td>26</td>\n",
       "      <td>15408</td>\n",
       "      <td>beam</td>\n",
       "      <td>4.280000</td>\n",
       "      <td>2021-03</td>\n",
       "    </tr>\n",
       "    <tr>\n",
       "      <th>488501</th>\n",
       "      <td>apache</td>\n",
       "      <td>beam</td>\n",
       "      <td>611630957</td>\n",
       "      <td>3484</td>\n",
       "      <td>2021-03-01 19:32:37+00:00</td>\n",
       "      <td>2021-03-01 22:10:50+00:00</td>\n",
       "      <td>completed</td>\n",
       "      <td>success</td>\n",
       "      <td>2083803</td>\n",
       "      <td>2021-03-01 20:07:48+00:00</td>\n",
       "      <td>2021-03-01 22:10:35+00:00</td>\n",
       "      <td>True</td>\n",
       "      <td>26</td>\n",
       "      <td>14299</td>\n",
       "      <td>beam</td>\n",
       "      <td>3.971944</td>\n",
       "      <td>2021-03</td>\n",
       "    </tr>\n",
       "    <tr>\n",
       "      <th>488254</th>\n",
       "      <td>apache</td>\n",
       "      <td>beam</td>\n",
       "      <td>572603541</td>\n",
       "      <td>3261</td>\n",
       "      <td>2021-02-16 19:13:05+00:00</td>\n",
       "      <td>2021-02-16 19:37:36+00:00</td>\n",
       "      <td>completed</td>\n",
       "      <td>cancelled</td>\n",
       "      <td>2083803</td>\n",
       "      <td>2021-02-16 19:13:19+00:00</td>\n",
       "      <td>2021-02-16 19:37:20+00:00</td>\n",
       "      <td>True</td>\n",
       "      <td>26</td>\n",
       "      <td>14268</td>\n",
       "      <td>beam</td>\n",
       "      <td>3.963333</td>\n",
       "      <td>2021-02</td>\n",
       "    </tr>\n",
       "    <tr>\n",
       "      <th>488310</th>\n",
       "      <td>apache</td>\n",
       "      <td>beam</td>\n",
       "      <td>582664491</td>\n",
       "      <td>3311</td>\n",
       "      <td>2021-02-19 21:08:24+00:00</td>\n",
       "      <td>2021-02-19 21:36:44+00:00</td>\n",
       "      <td>completed</td>\n",
       "      <td>success</td>\n",
       "      <td>2083803</td>\n",
       "      <td>2021-02-19 21:08:38+00:00</td>\n",
       "      <td>2021-02-19 21:36:35+00:00</td>\n",
       "      <td>True</td>\n",
       "      <td>26</td>\n",
       "      <td>14094</td>\n",
       "      <td>beam</td>\n",
       "      <td>3.915000</td>\n",
       "      <td>2021-02</td>\n",
       "    </tr>\n",
       "    <tr>\n",
       "      <th>488989</th>\n",
       "      <td>apache</td>\n",
       "      <td>beam</td>\n",
       "      <td>681761387</td>\n",
       "      <td>3923</td>\n",
       "      <td>2021-03-24 03:32:54+00:00</td>\n",
       "      <td>2021-03-24 04:30:05+00:00</td>\n",
       "      <td>completed</td>\n",
       "      <td>success</td>\n",
       "      <td>2083803</td>\n",
       "      <td>2021-03-24 03:40:19+00:00</td>\n",
       "      <td>2021-03-24 04:29:52+00:00</td>\n",
       "      <td>True</td>\n",
       "      <td>26</td>\n",
       "      <td>13956</td>\n",
       "      <td>beam</td>\n",
       "      <td>3.876667</td>\n",
       "      <td>2021-03</td>\n",
       "    </tr>\n",
       "    <tr>\n",
       "      <th>488572</th>\n",
       "      <td>apache</td>\n",
       "      <td>beam</td>\n",
       "      <td>623098695</td>\n",
       "      <td>3548</td>\n",
       "      <td>2021-03-05 02:36:56+00:00</td>\n",
       "      <td>2021-03-05 04:13:27+00:00</td>\n",
       "      <td>completed</td>\n",
       "      <td>success</td>\n",
       "      <td>2083803</td>\n",
       "      <td>2021-03-05 02:48:16+00:00</td>\n",
       "      <td>2021-03-05 04:13:14+00:00</td>\n",
       "      <td>True</td>\n",
       "      <td>26</td>\n",
       "      <td>13918</td>\n",
       "      <td>beam</td>\n",
       "      <td>3.866111</td>\n",
       "      <td>2021-03</td>\n",
       "    </tr>\n",
       "    <tr>\n",
       "      <th>488110</th>\n",
       "      <td>apache</td>\n",
       "      <td>beam</td>\n",
       "      <td>549256811</td>\n",
       "      <td>3131</td>\n",
       "      <td>2021-02-08 20:50:14+00:00</td>\n",
       "      <td>2021-02-08 21:19:17+00:00</td>\n",
       "      <td>completed</td>\n",
       "      <td>success</td>\n",
       "      <td>2083803</td>\n",
       "      <td>2021-02-08 20:50:29+00:00</td>\n",
       "      <td>2021-02-08 21:19:02+00:00</td>\n",
       "      <td>True</td>\n",
       "      <td>26</td>\n",
       "      <td>13790</td>\n",
       "      <td>beam</td>\n",
       "      <td>3.830556</td>\n",
       "      <td>2021-02</td>\n",
       "    </tr>\n",
       "  </tbody>\n",
       "</table>\n",
       "</div>"
      ],
      "text/plain": [
       "           org  repo         id  runnumber                 createdat  \\\n",
       "488121  apache  beam  549821700       3141 2021-02-09 00:59:15+00:00   \n",
       "488779  apache  beam  647611216       3734 2021-03-12 22:25:29+00:00   \n",
       "488764  apache  beam  645014377       3720 2021-03-12 04:02:16+00:00   \n",
       "488756  apache  beam  644614586       3713 2021-03-12 00:41:42+00:00   \n",
       "488116  apache  beam  549415326       3137 2021-02-08 21:54:46+00:00   \n",
       "488059  apache  beam  541278687       3086 2021-02-05 18:38:30+00:00   \n",
       "488039  apache  beam  538148910       3068 2021-02-04 19:07:08+00:00   \n",
       "487979  apache  beam  529644857       3013 2021-02-02 03:39:37+00:00   \n",
       "488026  apache  beam  535415053       3056 2021-02-03 23:13:34+00:00   \n",
       "488084  apache  beam  542436517       3108 2021-02-06 05:04:26+00:00   \n",
       "488537  apache  beam  617654198       3516 2021-03-03 13:20:27+00:00   \n",
       "488225  apache  beam  562543976       3235 2021-02-12 23:46:22+00:00   \n",
       "494882  apache  beam  641612122       5292 2021-03-11 04:26:46+00:00   \n",
       "488224  apache  beam  562543930       3234 2021-02-12 23:46:21+00:00   \n",
       "488223  apache  beam  562526993       3233 2021-02-12 23:38:00+00:00   \n",
       "488189  apache  beam  558786628       3202 2021-02-11 18:52:10+00:00   \n",
       "494808  apache  beam  636299766       5225 2021-03-09 15:43:12+00:00   \n",
       "488328  apache  beam  590388808       3328 2021-02-22 20:24:17+00:00   \n",
       "488926  apache  beam  669865112       3867 2021-03-20 02:42:08+00:00   \n",
       "488501  apache  beam  611630957       3484 2021-03-01 19:32:37+00:00   \n",
       "488254  apache  beam  572603541       3261 2021-02-16 19:13:05+00:00   \n",
       "488310  apache  beam  582664491       3311 2021-02-19 21:08:24+00:00   \n",
       "488989  apache  beam  681761387       3923 2021-03-24 03:32:54+00:00   \n",
       "488572  apache  beam  623098695       3548 2021-03-05 02:36:56+00:00   \n",
       "488110  apache  beam  549256811       3131 2021-02-08 20:50:14+00:00   \n",
       "\n",
       "                       updatedat     status conclusion  workflowid  \\\n",
       "488121 2021-02-09 07:03:28+00:00  completed    failure     2083803   \n",
       "488779 2021-03-13 04:01:56+00:00  completed    failure     2083803   \n",
       "488764 2021-03-12 08:01:56+00:00  completed    failure     2083803   \n",
       "488756 2021-03-12 03:58:27+00:00  completed  cancelled     2083803   \n",
       "488116 2021-02-09 01:02:45+00:00  completed  cancelled     2083803   \n",
       "488059 2021-02-06 00:03:32+00:00  completed    failure     2083803   \n",
       "488039 2021-02-04 21:22:51+00:00  completed    failure     2083803   \n",
       "487979 2021-02-02 06:14:19+00:00  completed    failure     2083803   \n",
       "488026 2021-02-04 01:36:46+00:00  completed    failure     2083803   \n",
       "488084 2021-02-06 06:10:59+00:00  completed    failure     2083803   \n",
       "488537 2021-03-03 14:52:37+00:00  completed    failure     2083803   \n",
       "488225 2021-02-13 00:48:05+00:00  completed    failure     2083803   \n",
       "494882 2021-03-11 10:46:37+00:00  completed    failure     2173354   \n",
       "488224 2021-02-13 00:48:03+00:00  completed    success     2083803   \n",
       "488223 2021-02-13 00:26:57+00:00  completed    failure     2083803   \n",
       "488189 2021-02-11 20:36:04+00:00  completed    success     2083803   \n",
       "494808 2021-03-09 17:38:44+00:00  completed    failure     2173354   \n",
       "488328 2021-02-22 21:34:37+00:00  completed    failure     2083803   \n",
       "488926 2021-03-20 04:02:53+00:00  completed    success     2083803   \n",
       "488501 2021-03-01 22:10:50+00:00  completed    success     2083803   \n",
       "488254 2021-02-16 19:37:36+00:00  completed  cancelled     2083803   \n",
       "488310 2021-02-19 21:36:44+00:00  completed    success     2083803   \n",
       "488989 2021-03-24 04:30:05+00:00  completed    success     2083803   \n",
       "488572 2021-03-05 04:13:27+00:00  completed    success     2083803   \n",
       "488110 2021-02-08 21:19:17+00:00  completed    success     2083803   \n",
       "\n",
       "                 firstjobstarted          lastjobcompleted  jobdetails  jobs  \\\n",
       "488121 2021-02-09 00:59:35+00:00 2021-02-09 07:03:13+00:00        True    26   \n",
       "488779 2021-03-12 22:25:39+00:00 2021-03-13 04:01:42+00:00        True    26   \n",
       "488764 2021-03-12 04:32:19+00:00 2021-03-12 08:01:41+00:00        True    26   \n",
       "488756 2021-03-12 00:44:08+00:00 2021-03-12 03:58:10+00:00        True    26   \n",
       "488116 2021-02-08 22:26:36+00:00 2021-02-09 01:02:27+00:00        True    26   \n",
       "488059 2021-02-05 18:54:57+00:00 2021-02-06 00:03:17+00:00        True    26   \n",
       "488039 2021-02-04 19:31:59+00:00 2021-02-04 21:22:32+00:00        True    26   \n",
       "487979 2021-02-02 04:11:42+00:00 2021-02-02 06:14:04+00:00        True    26   \n",
       "488026 2021-02-03 23:46:54+00:00 2021-02-04 01:36:29+00:00        True    26   \n",
       "488084 2021-02-06 05:04:37+00:00 2021-02-06 06:10:45+00:00        True    26   \n",
       "488537 2021-03-03 13:21:02+00:00 2021-03-03 14:52:33+00:00        True    19   \n",
       "488225 2021-02-12 23:46:41+00:00 2021-02-13 00:45:25+00:00        True    26   \n",
       "494882 2021-03-11 04:33:12+00:00 2021-03-11 10:46:32+00:00        True     8   \n",
       "488224 2021-02-12 23:46:34+00:00 2021-02-13 00:42:38+00:00        True    26   \n",
       "488223 2021-02-12 23:38:09+00:00 2021-02-13 00:26:45+00:00        True    26   \n",
       "488189 2021-02-11 18:52:56+00:00 2021-02-11 20:35:51+00:00        True    28   \n",
       "494808 2021-03-09 15:43:45+00:00 2021-03-09 17:38:40+00:00        True    10   \n",
       "488328 2021-02-22 20:42:22+00:00 2021-02-22 21:34:27+00:00        True    26   \n",
       "488926 2021-03-20 02:47:16+00:00 2021-03-20 04:02:41+00:00        True    26   \n",
       "488501 2021-03-01 20:07:48+00:00 2021-03-01 22:10:35+00:00        True    26   \n",
       "488254 2021-02-16 19:13:19+00:00 2021-02-16 19:37:20+00:00        True    26   \n",
       "488310 2021-02-19 21:08:38+00:00 2021-02-19 21:36:35+00:00        True    26   \n",
       "488989 2021-03-24 03:40:19+00:00 2021-03-24 04:29:52+00:00        True    26   \n",
       "488572 2021-03-05 02:48:16+00:00 2021-03-05 04:13:14+00:00        True    26   \n",
       "488110 2021-02-08 20:50:29+00:00 2021-02-08 21:19:02+00:00        True    26   \n",
       "\n",
       "        jobseconds project   jobhours    month  \n",
       "488121      180058    beam  50.016111  2021-02  \n",
       "488779      167226    beam  46.451667  2021-03  \n",
       "488764      102804    beam  28.556667  2021-03  \n",
       "488756       90594    beam  25.165000  2021-03  \n",
       "488116       65927    beam  18.313056  2021-02  \n",
       "488059       51419    beam  14.283056  2021-02  \n",
       "488039       38823    beam  10.784167  2021-02  \n",
       "487979       37509    beam  10.419167  2021-02  \n",
       "488026       37224    beam  10.340000  2021-02  \n",
       "488084       36563    beam  10.156389  2021-02  \n",
       "488537       27873    beam   7.742500  2021-03  \n",
       "488225       27612    beam   7.670000  2021-02  \n",
       "494882       26880    beam   7.466667  2021-03  \n",
       "488224       25368    beam   7.046667  2021-02  \n",
       "488223       20722    beam   5.756111  2021-02  \n",
       "488189       16699    beam   4.638611  2021-02  \n",
       "494808       16657    beam   4.626944  2021-03  \n",
       "488328       15567    beam   4.324167  2021-02  \n",
       "488926       15408    beam   4.280000  2021-03  \n",
       "488501       14299    beam   3.971944  2021-03  \n",
       "488254       14268    beam   3.963333  2021-02  \n",
       "488310       14094    beam   3.915000  2021-02  \n",
       "488989       13956    beam   3.876667  2021-03  \n",
       "488572       13918    beam   3.866111  2021-03  \n",
       "488110       13790    beam   3.830556  2021-02  "
      ]
     },
     "execution_count": 11,
     "metadata": {},
     "output_type": "execute_result"
    }
   ],
   "source": [
    "actions.sort_values(\"jobhours\", ascending=False).head(25)"
   ]
  },
  {
   "cell_type": "code",
   "execution_count": 12,
   "metadata": {
    "execution": {
     "iopub.execute_input": "2021-04-17T20:26:12.809228Z",
     "iopub.status.busy": "2021-04-17T20:26:12.808840Z",
     "iopub.status.idle": "2021-04-17T20:26:14.070227Z",
     "shell.execute_reply": "2021-04-17T20:26:14.069917Z"
    },
    "jupyter": {
     "source_hidden": true
    },
    "papermill": {
     "duration": 1.278588,
     "end_time": "2021-04-17T20:26:14.070314",
     "exception": false,
     "start_time": "2021-04-17T20:26:12.791726",
     "status": "completed"
    },
    "tags": []
   },
   "outputs": [],
   "source": [
    "job = pd.read_csv(\"github-action-job.csv.gz\")                          \n",
    "job.startedat = pd.to_datetime(job.startedat * 1000000, utc = True)\n",
    "job.completedat = pd.to_datetime(job.completedat * 1000000, utc = True)\n",
    "job[\"project\"] = job.repo.apply(asf_project)"
   ]
  },
  {
   "cell_type": "code",
   "execution_count": 13,
   "metadata": {
    "execution": {
     "iopub.execute_input": "2021-04-17T20:26:14.098230Z",
     "iopub.status.busy": "2021-04-17T20:26:14.097819Z",
     "iopub.status.idle": "2021-04-17T20:26:14.131200Z",
     "shell.execute_reply": "2021-04-17T20:26:14.130860Z"
    },
    "jupyter": {
     "source_hidden": true
    },
    "papermill": {
     "duration": 0.048851,
     "end_time": "2021-04-17T20:26:14.131334",
     "exception": false,
     "start_time": "2021-04-17T20:26:14.082483",
     "status": "completed"
    },
    "tags": []
   },
   "outputs": [],
   "source": [
    "job[\"jobhours\"] = (job.completedat - job.startedat).dt.seconds / 60 / 60"
   ]
  },
  {
   "cell_type": "code",
   "execution_count": 14,
   "metadata": {
    "execution": {
     "iopub.execute_input": "2021-04-17T20:26:14.200503Z",
     "iopub.status.busy": "2021-04-17T20:26:14.200008Z",
     "iopub.status.idle": "2021-04-17T20:26:14.295282Z",
     "shell.execute_reply": "2021-04-17T20:26:14.294867Z"
    },
    "jupyter": {
     "source_hidden": true
    },
    "papermill": {
     "duration": 0.151434,
     "end_time": "2021-04-17T20:26:14.295373",
     "exception": false,
     "start_time": "2021-04-17T20:26:14.143939",
     "status": "completed"
    },
    "tags": []
   },
   "outputs": [],
   "source": [
    "job = job[job.project == project]"
   ]
  },
  {
   "cell_type": "markdown",
   "metadata": {
    "papermill": {
     "duration": 0.012713,
     "end_time": "2021-04-17T20:26:14.320605",
     "exception": false,
     "start_time": "2021-04-17T20:26:14.307892",
     "status": "completed"
    },
    "tags": []
   },
   "source": [
    "## Slowest job executions by job names"
   ]
  },
  {
   "cell_type": "code",
   "execution_count": 15,
   "metadata": {
    "execution": {
     "iopub.execute_input": "2021-04-17T20:26:14.357875Z",
     "iopub.status.busy": "2021-04-17T20:26:14.357498Z",
     "iopub.status.idle": "2021-04-17T20:26:14.375279Z",
     "shell.execute_reply": "2021-04-17T20:26:14.374878Z"
    },
    "jupyter": {
     "source_hidden": true
    },
    "papermill": {
     "duration": 0.040759,
     "end_time": "2021-04-17T20:26:14.375381",
     "exception": false,
     "start_time": "2021-04-17T20:26:14.334622",
     "status": "completed"
    },
    "tags": []
   },
   "outputs": [
    {
     "data": {
      "text/html": [
       "<div>\n",
       "<style scoped>\n",
       "    .dataframe tbody tr th:only-of-type {\n",
       "        vertical-align: middle;\n",
       "    }\n",
       "\n",
       "    .dataframe tbody tr th {\n",
       "        vertical-align: top;\n",
       "    }\n",
       "\n",
       "    .dataframe thead th {\n",
       "        text-align: right;\n",
       "    }\n",
       "</style>\n",
       "<table border=\"1\" class=\"dataframe\">\n",
       "  <thead>\n",
       "    <tr style=\"text-align: right;\">\n",
       "      <th></th>\n",
       "      <th>org</th>\n",
       "      <th>repo</th>\n",
       "      <th>name</th>\n",
       "      <th>jobhours</th>\n",
       "    </tr>\n",
       "  </thead>\n",
       "  <tbody>\n",
       "    <tr>\n",
       "      <th>18</th>\n",
       "      <td>apache</td>\n",
       "      <td>beam</td>\n",
       "      <td>Java Wordcount Direct Runner (windows-latest)</td>\n",
       "      <td>441.193889</td>\n",
       "    </tr>\n",
       "    <tr>\n",
       "      <th>8</th>\n",
       "      <td>apache</td>\n",
       "      <td>beam</td>\n",
       "      <td>Java Unit Tests (macos-latest)</td>\n",
       "      <td>429.319167</td>\n",
       "    </tr>\n",
       "    <tr>\n",
       "      <th>16</th>\n",
       "      <td>apache</td>\n",
       "      <td>beam</td>\n",
       "      <td>Java Wordcount Direct Runner (macos-latest)</td>\n",
       "      <td>428.853333</td>\n",
       "    </tr>\n",
       "    <tr>\n",
       "      <th>10</th>\n",
       "      <td>apache</td>\n",
       "      <td>beam</td>\n",
       "      <td>Java Unit Tests (windows-latest)</td>\n",
       "      <td>410.553611</td>\n",
       "    </tr>\n",
       "    <tr>\n",
       "      <th>17</th>\n",
       "      <td>apache</td>\n",
       "      <td>beam</td>\n",
       "      <td>Java Wordcount Direct Runner (ubuntu-latest)</td>\n",
       "      <td>332.402222</td>\n",
       "    </tr>\n",
       "    <tr>\n",
       "      <th>9</th>\n",
       "      <td>apache</td>\n",
       "      <td>beam</td>\n",
       "      <td>Java Unit Tests (ubuntu-latest)</td>\n",
       "      <td>328.975278</td>\n",
       "    </tr>\n",
       "    <tr>\n",
       "      <th>3</th>\n",
       "      <td>apache</td>\n",
       "      <td>beam</td>\n",
       "      <td>Build python wheels on ubuntu-latest</td>\n",
       "      <td>282.569722</td>\n",
       "    </tr>\n",
       "    <tr>\n",
       "      <th>27</th>\n",
       "      <td>apache</td>\n",
       "      <td>beam</td>\n",
       "      <td>Python Unit Tests (ubuntu-latest, 3.6, py36)</td>\n",
       "      <td>277.053889</td>\n",
       "    </tr>\n",
       "    <tr>\n",
       "      <th>28</th>\n",
       "      <td>apache</td>\n",
       "      <td>beam</td>\n",
       "      <td>Python Unit Tests (ubuntu-latest, 3.7, py37)</td>\n",
       "      <td>269.586667</td>\n",
       "    </tr>\n",
       "    <tr>\n",
       "      <th>21</th>\n",
       "      <td>apache</td>\n",
       "      <td>beam</td>\n",
       "      <td>Python Unit Tests (macos-latest, 3.6, py36)</td>\n",
       "      <td>268.178611</td>\n",
       "    </tr>\n",
       "    <tr>\n",
       "      <th>29</th>\n",
       "      <td>apache</td>\n",
       "      <td>beam</td>\n",
       "      <td>Python Unit Tests (ubuntu-latest, 3.8, py38)</td>\n",
       "      <td>267.639167</td>\n",
       "    </tr>\n",
       "    <tr>\n",
       "      <th>22</th>\n",
       "      <td>apache</td>\n",
       "      <td>beam</td>\n",
       "      <td>Python Unit Tests (macos-latest, 3.7, py37)</td>\n",
       "      <td>264.843056</td>\n",
       "    </tr>\n",
       "    <tr>\n",
       "      <th>30</th>\n",
       "      <td>apache</td>\n",
       "      <td>beam</td>\n",
       "      <td>Python Unit Tests (windows-latest, 3.6, py36)</td>\n",
       "      <td>260.078056</td>\n",
       "    </tr>\n",
       "    <tr>\n",
       "      <th>2</th>\n",
       "      <td>apache</td>\n",
       "      <td>beam</td>\n",
       "      <td>Build python wheels on macos-latest</td>\n",
       "      <td>256.793889</td>\n",
       "    </tr>\n",
       "    <tr>\n",
       "      <th>23</th>\n",
       "      <td>apache</td>\n",
       "      <td>beam</td>\n",
       "      <td>Python Unit Tests (macos-latest, 3.8, py38)</td>\n",
       "      <td>255.583333</td>\n",
       "    </tr>\n",
       "    <tr>\n",
       "      <th>31</th>\n",
       "      <td>apache</td>\n",
       "      <td>beam</td>\n",
       "      <td>Python Unit Tests (windows-latest, 3.7, py37)</td>\n",
       "      <td>248.542222</td>\n",
       "    </tr>\n",
       "    <tr>\n",
       "      <th>4</th>\n",
       "      <td>apache</td>\n",
       "      <td>beam</td>\n",
       "      <td>Build python wheels on windows-latest</td>\n",
       "      <td>209.721111</td>\n",
       "    </tr>\n",
       "    <tr>\n",
       "      <th>15</th>\n",
       "      <td>apache</td>\n",
       "      <td>beam</td>\n",
       "      <td>Java Wordcount Dataflow (windows-latest)</td>\n",
       "      <td>182.065833</td>\n",
       "    </tr>\n",
       "    <tr>\n",
       "      <th>12</th>\n",
       "      <td>apache</td>\n",
       "      <td>beam</td>\n",
       "      <td>Java Wordcount Dataflow (macos-latest)</td>\n",
       "      <td>166.732222</td>\n",
       "    </tr>\n",
       "    <tr>\n",
       "      <th>14</th>\n",
       "      <td>apache</td>\n",
       "      <td>beam</td>\n",
       "      <td>Java Wordcount Dataflow (ubuntu-latest)</td>\n",
       "      <td>143.658889</td>\n",
       "    </tr>\n",
       "    <tr>\n",
       "      <th>41</th>\n",
       "      <td>apache</td>\n",
       "      <td>beam</td>\n",
       "      <td>Python Wordcount Direct Runner (macos-latest, ...</td>\n",
       "      <td>139.073889</td>\n",
       "    </tr>\n",
       "    <tr>\n",
       "      <th>35</th>\n",
       "      <td>apache</td>\n",
       "      <td>beam</td>\n",
       "      <td>Python Wordcount Dataflow (macos-latest, 3.8)</td>\n",
       "      <td>110.830833</td>\n",
       "    </tr>\n",
       "    <tr>\n",
       "      <th>40</th>\n",
       "      <td>apache</td>\n",
       "      <td>beam</td>\n",
       "      <td>Python Wordcount Dataflow (windows-latest, 3.7)</td>\n",
       "      <td>108.281111</td>\n",
       "    </tr>\n",
       "    <tr>\n",
       "      <th>39</th>\n",
       "      <td>apache</td>\n",
       "      <td>beam</td>\n",
       "      <td>Python Wordcount Dataflow (windows-latest, 3.6)</td>\n",
       "      <td>107.497222</td>\n",
       "    </tr>\n",
       "    <tr>\n",
       "      <th>33</th>\n",
       "      <td>apache</td>\n",
       "      <td>beam</td>\n",
       "      <td>Python Wordcount Dataflow (macos-latest, 3.6)</td>\n",
       "      <td>106.298889</td>\n",
       "    </tr>\n",
       "  </tbody>\n",
       "</table>\n",
       "</div>"
      ],
      "text/plain": [
       "       org  repo                                               name  \\\n",
       "18  apache  beam      Java Wordcount Direct Runner (windows-latest)   \n",
       "8   apache  beam                     Java Unit Tests (macos-latest)   \n",
       "16  apache  beam        Java Wordcount Direct Runner (macos-latest)   \n",
       "10  apache  beam                   Java Unit Tests (windows-latest)   \n",
       "17  apache  beam       Java Wordcount Direct Runner (ubuntu-latest)   \n",
       "9   apache  beam                    Java Unit Tests (ubuntu-latest)   \n",
       "3   apache  beam               Build python wheels on ubuntu-latest   \n",
       "27  apache  beam       Python Unit Tests (ubuntu-latest, 3.6, py36)   \n",
       "28  apache  beam       Python Unit Tests (ubuntu-latest, 3.7, py37)   \n",
       "21  apache  beam        Python Unit Tests (macos-latest, 3.6, py36)   \n",
       "29  apache  beam       Python Unit Tests (ubuntu-latest, 3.8, py38)   \n",
       "22  apache  beam        Python Unit Tests (macos-latest, 3.7, py37)   \n",
       "30  apache  beam      Python Unit Tests (windows-latest, 3.6, py36)   \n",
       "2   apache  beam                Build python wheels on macos-latest   \n",
       "23  apache  beam        Python Unit Tests (macos-latest, 3.8, py38)   \n",
       "31  apache  beam      Python Unit Tests (windows-latest, 3.7, py37)   \n",
       "4   apache  beam              Build python wheels on windows-latest   \n",
       "15  apache  beam           Java Wordcount Dataflow (windows-latest)   \n",
       "12  apache  beam             Java Wordcount Dataflow (macos-latest)   \n",
       "14  apache  beam            Java Wordcount Dataflow (ubuntu-latest)   \n",
       "41  apache  beam  Python Wordcount Direct Runner (macos-latest, ...   \n",
       "35  apache  beam      Python Wordcount Dataflow (macos-latest, 3.8)   \n",
       "40  apache  beam    Python Wordcount Dataflow (windows-latest, 3.7)   \n",
       "39  apache  beam    Python Wordcount Dataflow (windows-latest, 3.6)   \n",
       "33  apache  beam      Python Wordcount Dataflow (macos-latest, 3.6)   \n",
       "\n",
       "      jobhours  \n",
       "18  441.193889  \n",
       "8   429.319167  \n",
       "16  428.853333  \n",
       "10  410.553611  \n",
       "17  332.402222  \n",
       "9   328.975278  \n",
       "3   282.569722  \n",
       "27  277.053889  \n",
       "28  269.586667  \n",
       "21  268.178611  \n",
       "29  267.639167  \n",
       "22  264.843056  \n",
       "30  260.078056  \n",
       "2   256.793889  \n",
       "23  255.583333  \n",
       "31  248.542222  \n",
       "4   209.721111  \n",
       "15  182.065833  \n",
       "12  166.732222  \n",
       "14  143.658889  \n",
       "41  139.073889  \n",
       "35  110.830833  \n",
       "40  108.281111  \n",
       "39  107.497222  \n",
       "33  106.298889  "
      ]
     },
     "execution_count": 15,
     "metadata": {},
     "output_type": "execute_result"
    }
   ],
   "source": [
    "job[[\"jobhours\"]].groupby([job.org,job.repo, job.name]).sum().reset_index().sort_values(\"jobhours\", ascending=False).head(25)"
   ]
  },
  {
   "cell_type": "markdown",
   "metadata": {
    "papermill": {
     "duration": 0.01444,
     "end_time": "2021-04-17T20:26:14.403267",
     "exception": false,
     "start_time": "2021-04-17T20:26:14.388827",
     "status": "completed"
    },
    "tags": []
   },
   "source": [
    "## Number of job executions per status"
   ]
  },
  {
   "cell_type": "code",
   "execution_count": 16,
   "metadata": {
    "execution": {
     "iopub.execute_input": "2021-04-17T20:26:14.441732Z",
     "iopub.status.busy": "2021-04-17T20:26:14.441358Z",
     "iopub.status.idle": "2021-04-17T20:26:14.455289Z",
     "shell.execute_reply": "2021-04-17T20:26:14.454885Z"
    },
    "jupyter": {
     "source_hidden": true
    },
    "papermill": {
     "duration": 0.036736,
     "end_time": "2021-04-17T20:26:14.455382",
     "exception": false,
     "start_time": "2021-04-17T20:26:14.418646",
     "status": "completed"
    },
    "tags": []
   },
   "outputs": [
    {
     "data": {
      "text/html": [
       "<div>\n",
       "<style scoped>\n",
       "    .dataframe tbody tr th:only-of-type {\n",
       "        vertical-align: middle;\n",
       "    }\n",
       "\n",
       "    .dataframe tbody tr th {\n",
       "        vertical-align: top;\n",
       "    }\n",
       "\n",
       "    .dataframe thead th {\n",
       "        text-align: right;\n",
       "    }\n",
       "</style>\n",
       "<table border=\"1\" class=\"dataframe\">\n",
       "  <thead>\n",
       "    <tr style=\"text-align: right;\">\n",
       "      <th></th>\n",
       "      <th>org</th>\n",
       "      <th>repo</th>\n",
       "      <th>conclusion</th>\n",
       "      <th>id</th>\n",
       "    </tr>\n",
       "  </thead>\n",
       "  <tbody>\n",
       "    <tr>\n",
       "      <th>4</th>\n",
       "      <td>apache</td>\n",
       "      <td>beam</td>\n",
       "      <td>success</td>\n",
       "      <td>47118</td>\n",
       "    </tr>\n",
       "    <tr>\n",
       "      <th>0</th>\n",
       "      <td>apache</td>\n",
       "      <td>beam</td>\n",
       "      <td>cancelled</td>\n",
       "      <td>8853</td>\n",
       "    </tr>\n",
       "    <tr>\n",
       "      <th>3</th>\n",
       "      <td>apache</td>\n",
       "      <td>beam</td>\n",
       "      <td>skipped</td>\n",
       "      <td>8760</td>\n",
       "    </tr>\n",
       "    <tr>\n",
       "      <th>1</th>\n",
       "      <td>apache</td>\n",
       "      <td>beam</td>\n",
       "      <td>failure</td>\n",
       "      <td>2160</td>\n",
       "    </tr>\n",
       "    <tr>\n",
       "      <th>2</th>\n",
       "      <td>apache</td>\n",
       "      <td>beam</td>\n",
       "      <td>neutral</td>\n",
       "      <td>11</td>\n",
       "    </tr>\n",
       "  </tbody>\n",
       "</table>\n",
       "</div>"
      ],
      "text/plain": [
       "      org  repo conclusion     id\n",
       "4  apache  beam    success  47118\n",
       "0  apache  beam  cancelled   8853\n",
       "3  apache  beam    skipped   8760\n",
       "1  apache  beam    failure   2160\n",
       "2  apache  beam    neutral     11"
      ]
     },
     "execution_count": 16,
     "metadata": {},
     "output_type": "execute_result"
    }
   ],
   "source": [
    "job[[\"id\"]].groupby([job.org,job.repo,  job.conclusion]).count().reset_index().sort_values(\"id\", ascending=False).head(25)"
   ]
  },
  {
   "cell_type": "code",
   "execution_count": 17,
   "metadata": {
    "execution": {
     "iopub.execute_input": "2021-04-17T20:26:14.490713Z",
     "iopub.status.busy": "2021-04-17T20:26:14.490324Z",
     "iopub.status.idle": "2021-04-17T20:26:14.513817Z",
     "shell.execute_reply": "2021-04-17T20:26:14.513474Z"
    },
    "jupyter": {
     "source_hidden": true
    },
    "papermill": {
     "duration": 0.045033,
     "end_time": "2021-04-17T20:26:14.513917",
     "exception": false,
     "start_time": "2021-04-17T20:26:14.468884",
     "status": "completed"
    },
    "tags": []
   },
   "outputs": [],
   "source": [
    "start = job.loc[:,[\"org\",\"repo\",\"project\",\"id\",\"runid\",\"startedat\"]]\n",
    "start[\"value\"] = 1\n",
    "start = start.rename(columns={\"startedat\":\"date\"})\n",
    "\n",
    "end = job.loc[:,[\"org\",\"repo\",\"project\",\"id\",\"runid\",\"completedat\"]]\n",
    "end[\"value\"] = -1\n",
    "end = end.rename(columns={\"completedat\":\"date\"})\n",
    "events = pd.concat([start, end]).sort_values(\"date\")\n",
    "events[\"running\"] = events.value.cumsum()\n"
   ]
  },
  {
   "cell_type": "markdown",
   "metadata": {
    "papermill": {
     "duration": 0.014687,
     "end_time": "2021-04-17T20:26:14.542027",
     "exception": false,
     "start_time": "2021-04-17T20:26:14.527340",
     "status": "completed"
    },
    "tags": []
   },
   "source": [
    "## Average (12h window) parallel running/queued job at a given time"
   ]
  },
  {
   "cell_type": "code",
   "execution_count": 18,
   "metadata": {
    "execution": {
     "iopub.execute_input": "2021-04-17T20:26:14.578041Z",
     "iopub.status.busy": "2021-04-17T20:26:14.577581Z",
     "iopub.status.idle": "2021-04-17T20:26:14.738744Z",
     "shell.execute_reply": "2021-04-17T20:26:14.739022Z"
    },
    "jupyter": {
     "source_hidden": true
    },
    "papermill": {
     "duration": 0.181035,
     "end_time": "2021-04-17T20:26:14.739123",
     "exception": false,
     "start_time": "2021-04-17T20:26:14.558088",
     "status": "completed"
    },
    "tags": []
   },
   "outputs": [
    {
     "data": {
      "image/png": "[encoded data removed]",
      "text/plain": [
       "<Figure size 1440x576 with 1 Axes>"
      ]
     },
     "metadata": {
      "needs_background": "light"
     },
     "output_type": "display_data"
    }
   ],
   "source": [
    "\n",
    "r = events.set_index('date')\n",
    "r = r.sort_index()\n",
    "r = r.resample(\"12H\").mean().fillna(0)\n",
    "\n",
    "plt.figure(figsize=(20,8))\n",
    "plt.plot(r.index,r.running)\n",
    "plt.show()"
   ]
  },
  {
   "cell_type": "code",
   "execution_count": 19,
   "metadata": {
    "execution": {
     "iopub.execute_input": "2021-04-17T20:26:14.771954Z",
     "iopub.status.busy": "2021-04-17T20:26:14.771548Z",
     "iopub.status.idle": "2021-04-17T20:26:14.773151Z",
     "shell.execute_reply": "2021-04-17T20:26:14.773515Z"
    },
    "jupyter": {
     "source_hidden": true
    },
    "papermill": {
     "duration": 0.019841,
     "end_time": "2021-04-17T20:26:14.773609",
     "exception": false,
     "start_time": "2021-04-17T20:26:14.753768",
     "status": "completed"
    },
    "tags": []
   },
   "outputs": [],
   "source": [
    "## Max (12h window) parallel running/queued job at a given time"
   ]
  },
  {
   "cell_type": "code",
   "execution_count": 20,
   "metadata": {
    "execution": {
     "iopub.execute_input": "2021-04-17T20:26:14.810993Z",
     "iopub.status.busy": "2021-04-17T20:26:14.810552Z",
     "iopub.status.idle": "2021-04-17T20:26:15.091012Z",
     "shell.execute_reply": "2021-04-17T20:26:15.091281Z"
    },
    "jupyter": {
     "source_hidden": true
    },
    "papermill": {
     "duration": 0.301309,
     "end_time": "2021-04-17T20:26:15.091382",
     "exception": false,
     "start_time": "2021-04-17T20:26:14.790073",
     "status": "completed"
    },
    "tags": []
   },
   "outputs": [
    {
     "data": {
      "image/png": "[encoded data removed]",
      "text/plain": [
       "<Figure size 1440x576 with 1 Axes>"
      ]
     },
     "metadata": {
      "needs_background": "light"
     },
     "output_type": "display_data"
    }
   ],
   "source": [
    "\n",
    "r = events.set_index('date')\n",
    "r = r.sort_index()\n",
    "r = r.resample(\"12H\").max().fillna(0)\n",
    "\n",
    "plt.figure(figsize=(20,8))\n",
    "plt.plot(r.index,r.running)\n",
    "plt.show()"
   ]
  },
  {
   "cell_type": "code",
   "execution_count": null,
   "metadata": {
    "jupyter": {
     "source_hidden": true
    },
    "papermill": {
     "duration": 0.015322,
     "end_time": "2021-04-17T20:26:15.121962",
     "exception": false,
     "start_time": "2021-04-17T20:26:15.106640",
     "status": "completed"
    },
    "tags": []
   },
   "outputs": [],
   "source": []
  }
 ],
 "metadata": {
  "kernelspec": {
   "display_name": "Python 3",
   "language": "python",
   "name": "python3"
  },
  "language_info": {
   "codemirror_mode": {
    "name": "ipython",
    "version": 3
   },
   "file_extension": ".py",
   "mimetype": "text/x-python",
   "name": "python",
   "nbconvert_exporter": "python",
   "pygments_lexer": "ipython3",
   "version": "3.9.2"
  },
  "papermill": {
   "default_parameters": {},
   "duration": 12.604164,
   "end_time": "2021-04-17T20:26:15.443113",
   "environment_variables": {},
   "exception": null,
   "input_path": "per-project-usage.ipynb",
   "output_path": "per-project-usage-beam.ipynb",
   "parameters": {
    "project": "beam"
   },
   "start_time": "2021-04-17T20:26:02.838949",
   "version": "2.3.3"
  }
 },
 "nbformat": 4,
 "nbformat_minor": 5
}
