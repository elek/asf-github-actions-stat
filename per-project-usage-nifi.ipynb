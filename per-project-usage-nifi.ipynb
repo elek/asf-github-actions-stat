{
 "cells": [
  {
   "cell_type": "code",
   "execution_count": 1,
   "id": "20310e1c",
   "metadata": {
    "execution": {
     "iopub.execute_input": "2021-04-17T20:26:17.179185Z",
     "iopub.status.busy": "2021-04-17T20:26:17.178540Z",
     "iopub.status.idle": "2021-04-17T20:26:17.588392Z",
     "shell.execute_reply": "2021-04-17T20:26:17.587969Z"
    },
    "jupyter": {
     "source_hidden": true
    },
    "papermill": {
     "duration": 0.457079,
     "end_time": "2021-04-17T20:26:17.588537",
     "exception": false,
     "start_time": "2021-04-17T20:26:17.131458",
     "status": "completed"
    },
    "tags": []
   },
   "outputs": [],
   "source": [
    "import pandas as pd\n",
    "import matplotlib.pyplot as plt\n",
    "pd.set_option('display.max_rows', 500)\n"
   ]
  },
  {
   "cell_type": "code",
   "execution_count": 2,
   "id": "57b2786e",
   "metadata": {
    "execution": {
     "iopub.execute_input": "2021-04-17T20:26:17.613004Z",
     "iopub.status.busy": "2021-04-17T20:26:17.612636Z",
     "iopub.status.idle": "2021-04-17T20:26:17.614581Z",
     "shell.execute_reply": "2021-04-17T20:26:17.614211Z"
    },
    "jupyter": {
     "source_hidden": true
    },
    "papermill": {
     "duration": 0.014782,
     "end_time": "2021-04-17T20:26:17.614663",
     "exception": false,
     "start_time": "2021-04-17T20:26:17.599881",
     "status": "completed"
    },
    "tags": []
   },
   "outputs": [],
   "source": [
    "def asf_project(pr):\n",
    "    name = pr.split(\"-\")[0]\n",
    "    if name == \"incubator\":\n",
    "        return pr.split(\"-\")[1]\n",
    "    return name"
   ]
  },
  {
   "cell_type": "code",
   "execution_count": 3,
   "id": "6d617ce5",
   "metadata": {
    "execution": {
     "iopub.execute_input": "2021-04-17T20:26:17.639792Z",
     "iopub.status.busy": "2021-04-17T20:26:17.639427Z",
     "iopub.status.idle": "2021-04-17T20:26:17.641334Z",
     "shell.execute_reply": "2021-04-17T20:26:17.640963Z"
    },
    "jupyter": {
     "source_hidden": true
    },
    "papermill": {
     "duration": 0.01592,
     "end_time": "2021-04-17T20:26:17.641413",
     "exception": false,
     "start_time": "2021-04-17T20:26:17.625493",
     "status": "completed"
    },
    "tags": [
     "parameters"
    ]
   },
   "outputs": [],
   "source": [
    "project = \"ozone\""
   ]
  },
  {
   "cell_type": "code",
   "execution_count": 4,
   "id": "a45a8c65",
   "metadata": {
    "execution": {
     "iopub.execute_input": "2021-04-17T20:26:17.667553Z",
     "iopub.status.busy": "2021-04-17T20:26:17.667158Z",
     "iopub.status.idle": "2021-04-17T20:26:17.669155Z",
     "shell.execute_reply": "2021-04-17T20:26:17.668850Z"
    },
    "jupyter": {
     "source_hidden": true
    },
    "papermill": {
     "duration": 0.016372,
     "end_time": "2021-04-17T20:26:17.669237",
     "exception": false,
     "start_time": "2021-04-17T20:26:17.652865",
     "status": "completed"
    },
    "tags": [
     "injected-parameters"
    ]
   },
   "outputs": [],
   "source": [
    "# Parameters\n",
    "project = \"nifi\"\n"
   ]
  },
  {
   "cell_type": "code",
   "execution_count": 5,
   "id": "8c3ee1f4",
   "metadata": {
    "execution": {
     "iopub.execute_input": "2021-04-17T20:26:17.696592Z",
     "iopub.status.busy": "2021-04-17T20:26:17.696178Z",
     "iopub.status.idle": "2021-04-17T20:26:19.734659Z",
     "shell.execute_reply": "2021-04-17T20:26:19.734939Z"
    },
    "jupyter": {
     "source_hidden": true
    },
    "papermill": {
     "duration": 2.054164,
     "end_time": "2021-04-17T20:26:19.735042",
     "exception": false,
     "start_time": "2021-04-17T20:26:17.680878",
     "status": "completed"
    },
    "tags": []
   },
   "outputs": [],
   "source": [
    "actions = pd.read_csv(\"github-action-run.csv.gz\")\n",
    "                          \n",
    "actions.createdat = pd.to_datetime(actions.createdat * 1000000, utc = True)\n",
    "actions.updatedat = pd.to_datetime(actions.updatedat * 1000000, utc = True)\n",
    "actions.firstjobstarted = pd.to_datetime(actions.firstjobstarted * 1000000, utc = True)\n",
    "actions.lastjobcompleted = pd.to_datetime(actions.lastjobcompleted * 1000000, utc = True)                "
   ]
  },
  {
   "cell_type": "code",
   "execution_count": 6,
   "id": "320cb4f8",
   "metadata": {
    "execution": {
     "iopub.execute_input": "2021-04-17T20:26:19.760044Z",
     "iopub.status.busy": "2021-04-17T20:26:19.759626Z",
     "iopub.status.idle": "2021-04-17T20:26:25.317348Z",
     "shell.execute_reply": "2021-04-17T20:26:25.317017Z"
    },
    "jupyter": {
     "source_hidden": true
    },
    "papermill": {
     "duration": 5.571585,
     "end_time": "2021-04-17T20:26:25.317449",
     "exception": false,
     "start_time": "2021-04-17T20:26:19.745864",
     "status": "completed"
    },
    "tags": []
   },
   "outputs": [],
   "source": [
    "actions[\"project\"] = actions.repo.apply(asf_project)\n",
    "actions[\"jobhours\"] = actions.jobseconds / 60 / 60\n",
    "actions[\"month\"] = actions.createdat.dt.strftime(\"%Y-%m\")"
   ]
  },
  {
   "cell_type": "code",
   "execution_count": 7,
   "id": "97f6ef7b",
   "metadata": {
    "execution": {
     "iopub.execute_input": "2021-04-17T20:26:25.390043Z",
     "iopub.status.busy": "2021-04-17T20:26:25.389638Z",
     "iopub.status.idle": "2021-04-17T20:26:25.586652Z",
     "shell.execute_reply": "2021-04-17T20:26:25.586317Z"
    },
    "jupyter": {
     "source_hidden": true
    },
    "papermill": {
     "duration": 0.258314,
     "end_time": "2021-04-17T20:26:25.586742",
     "exception": false,
     "start_time": "2021-04-17T20:26:25.328428",
     "status": "completed"
    },
    "tags": []
   },
   "outputs": [],
   "source": [
    "actions =  actions[actions.month.isin([\"2021-03\",\"2021-02\"])]\n",
    "last_month = \"2021-03\"\n",
    "actions = actions[actions.project == project]"
   ]
  },
  {
   "cell_type": "markdown",
   "id": "5c93b4bb",
   "metadata": {
    "papermill": {
     "duration": 0.01028,
     "end_time": "2021-04-17T20:26:25.607724",
     "exception": false,
     "start_time": "2021-04-17T20:26:25.597444",
     "status": "completed"
    },
    "tags": []
   },
   "source": [
    "## Number of jobhours used by month\n",
    "\n",
    "Maximum available value is 180 * 24 * days == 129600 (30 days) .. 133920 (31 days)"
   ]
  },
  {
   "cell_type": "code",
   "execution_count": 8,
   "id": "029e6b1a",
   "metadata": {
    "execution": {
     "iopub.execute_input": "2021-04-17T20:26:25.634964Z",
     "iopub.status.busy": "2021-04-17T20:26:25.634588Z",
     "iopub.status.idle": "2021-04-17T20:26:25.643963Z",
     "shell.execute_reply": "2021-04-17T20:26:25.644286Z"
    },
    "jupyter": {
     "source_hidden": true
    },
    "papermill": {
     "duration": 0.02613,
     "end_time": "2021-04-17T20:26:25.644390",
     "exception": false,
     "start_time": "2021-04-17T20:26:25.618260",
     "status": "completed"
    },
    "tags": []
   },
   "outputs": [
    {
     "data": {
      "text/html": [
       "<div>\n",
       "<style scoped>\n",
       "    .dataframe tbody tr th:only-of-type {\n",
       "        vertical-align: middle;\n",
       "    }\n",
       "\n",
       "    .dataframe tbody tr th {\n",
       "        vertical-align: top;\n",
       "    }\n",
       "\n",
       "    .dataframe thead th {\n",
       "        text-align: right;\n",
       "    }\n",
       "</style>\n",
       "<table border=\"1\" class=\"dataframe\">\n",
       "  <thead>\n",
       "    <tr style=\"text-align: right;\">\n",
       "      <th></th>\n",
       "      <th>jobhours</th>\n",
       "    </tr>\n",
       "    <tr>\n",
       "      <th>month</th>\n",
       "      <th></th>\n",
       "    </tr>\n",
       "  </thead>\n",
       "  <tbody>\n",
       "    <tr>\n",
       "      <th>2021-02</th>\n",
       "      <td>376</td>\n",
       "    </tr>\n",
       "    <tr>\n",
       "      <th>2021-03</th>\n",
       "      <td>513</td>\n",
       "    </tr>\n",
       "  </tbody>\n",
       "</table>\n",
       "</div>"
      ],
      "text/plain": [
       "         jobhours\n",
       "month            \n",
       "2021-02       376\n",
       "2021-03       513"
      ]
     },
     "execution_count": 8,
     "metadata": {},
     "output_type": "execute_result"
    }
   ],
   "source": [
    "actions[[\"jobhours\"]].groupby([actions.project,actions.month]).count().reset_index().groupby(\"month\").sum()"
   ]
  },
  {
   "cell_type": "markdown",
   "id": "7e47cad6",
   "metadata": {
    "papermill": {
     "duration": 0.011384,
     "end_time": "2021-04-17T20:26:25.666573",
     "exception": false,
     "start_time": "2021-04-17T20:26:25.655189",
     "status": "completed"
    },
    "tags": []
   },
   "source": [
    "## Number of jobs executed by git repositories (last month)"
   ]
  },
  {
   "cell_type": "code",
   "execution_count": 9,
   "id": "7c2fff4a",
   "metadata": {
    "execution": {
     "iopub.execute_input": "2021-04-17T20:26:25.694736Z",
     "iopub.status.busy": "2021-04-17T20:26:25.694356Z",
     "iopub.status.idle": "2021-04-17T20:26:25.704308Z",
     "shell.execute_reply": "2021-04-17T20:26:25.703949Z"
    },
    "jupyter": {
     "source_hidden": true
    },
    "papermill": {
     "duration": 0.026006,
     "end_time": "2021-04-17T20:26:25.704397",
     "exception": false,
     "start_time": "2021-04-17T20:26:25.678391",
     "status": "completed"
    },
    "tags": []
   },
   "outputs": [
    {
     "data": {
      "text/html": [
       "<div>\n",
       "<style scoped>\n",
       "    .dataframe tbody tr th:only-of-type {\n",
       "        vertical-align: middle;\n",
       "    }\n",
       "\n",
       "    .dataframe tbody tr th {\n",
       "        vertical-align: top;\n",
       "    }\n",
       "\n",
       "    .dataframe thead tr th {\n",
       "        text-align: left;\n",
       "    }\n",
       "\n",
       "    .dataframe thead tr:last-of-type th {\n",
       "        text-align: right;\n",
       "    }\n",
       "</style>\n",
       "<table border=\"1\" class=\"dataframe\">\n",
       "  <thead>\n",
       "    <tr>\n",
       "      <th></th>\n",
       "      <th colspan=\"3\" halign=\"left\">jobhours</th>\n",
       "    </tr>\n",
       "    <tr>\n",
       "      <th></th>\n",
       "      <th>sum</th>\n",
       "      <th>mean</th>\n",
       "      <th>max</th>\n",
       "    </tr>\n",
       "    <tr>\n",
       "      <th>repo</th>\n",
       "      <th></th>\n",
       "      <th></th>\n",
       "      <th></th>\n",
       "    </tr>\n",
       "  </thead>\n",
       "  <tbody>\n",
       "    <tr>\n",
       "      <th>nifi</th>\n",
       "      <td>1208.525833</td>\n",
       "      <td>3.544064</td>\n",
       "      <td>9.324167</td>\n",
       "    </tr>\n",
       "    <tr>\n",
       "      <th>nifi-minifi-cpp</th>\n",
       "      <td>1171.161389</td>\n",
       "      <td>7.012942</td>\n",
       "      <td>11.313056</td>\n",
       "    </tr>\n",
       "    <tr>\n",
       "      <th>nifi-registry</th>\n",
       "      <td>1.220278</td>\n",
       "      <td>0.244056</td>\n",
       "      <td>0.271667</td>\n",
       "    </tr>\n",
       "  </tbody>\n",
       "</table>\n",
       "</div>"
      ],
      "text/plain": [
       "                    jobhours                     \n",
       "                         sum      mean        max\n",
       "repo                                             \n",
       "nifi             1208.525833  3.544064   9.324167\n",
       "nifi-minifi-cpp  1171.161389  7.012942  11.313056\n",
       "nifi-registry       1.220278  0.244056   0.271667"
      ]
     },
     "execution_count": 9,
     "metadata": {},
     "output_type": "execute_result"
    }
   ],
   "source": [
    "actions[actions.month == last_month][[\"repo\",\"jobhours\"]].groupby(\"repo\").agg({\"jobhours\":[\"sum\",\"mean\", \"max\"]}).sort_values(('jobhours',\"sum\"), ascending=False).head(20)"
   ]
  },
  {
   "cell_type": "markdown",
   "id": "3250a615",
   "metadata": {
    "papermill": {
     "duration": 0.01216,
     "end_time": "2021-04-17T20:26:25.727861",
     "exception": false,
     "start_time": "2021-04-17T20:26:25.715701",
     "status": "completed"
    },
    "tags": []
   },
   "source": [
    "## Job hour statustics per workflows"
   ]
  },
  {
   "cell_type": "code",
   "execution_count": 10,
   "id": "9343877d",
   "metadata": {
    "execution": {
     "iopub.execute_input": "2021-04-17T20:26:25.757733Z",
     "iopub.status.busy": "2021-04-17T20:26:25.757350Z",
     "iopub.status.idle": "2021-04-17T20:26:25.769938Z",
     "shell.execute_reply": "2021-04-17T20:26:25.769568Z"
    },
    "jupyter": {
     "source_hidden": true
    },
    "papermill": {
     "duration": 0.029508,
     "end_time": "2021-04-17T20:26:25.770023",
     "exception": false,
     "start_time": "2021-04-17T20:26:25.740515",
     "status": "completed"
    },
    "tags": []
   },
   "outputs": [
    {
     "data": {
      "text/html": [
       "<div>\n",
       "<style scoped>\n",
       "    .dataframe tbody tr th:only-of-type {\n",
       "        vertical-align: middle;\n",
       "    }\n",
       "\n",
       "    .dataframe tbody tr th {\n",
       "        vertical-align: top;\n",
       "    }\n",
       "\n",
       "    .dataframe thead tr th {\n",
       "        text-align: left;\n",
       "    }\n",
       "\n",
       "    .dataframe thead tr:last-of-type th {\n",
       "        text-align: right;\n",
       "    }\n",
       "</style>\n",
       "<table border=\"1\" class=\"dataframe\">\n",
       "  <thead>\n",
       "    <tr>\n",
       "      <th></th>\n",
       "      <th></th>\n",
       "      <th colspan=\"3\" halign=\"left\">jobhours</th>\n",
       "    </tr>\n",
       "    <tr>\n",
       "      <th></th>\n",
       "      <th></th>\n",
       "      <th>sum</th>\n",
       "      <th>mean</th>\n",
       "      <th>max</th>\n",
       "    </tr>\n",
       "    <tr>\n",
       "      <th>repo</th>\n",
       "      <th>workflowid</th>\n",
       "      <th></th>\n",
       "      <th></th>\n",
       "      <th></th>\n",
       "    </tr>\n",
       "  </thead>\n",
       "  <tbody>\n",
       "    <tr>\n",
       "      <th>nifi</th>\n",
       "      <th>605175</th>\n",
       "      <td>1208.525833</td>\n",
       "      <td>3.544064</td>\n",
       "      <td>9.324167</td>\n",
       "    </tr>\n",
       "    <tr>\n",
       "      <th>nifi-minifi-cpp</th>\n",
       "      <th>2057058</th>\n",
       "      <td>1171.161389</td>\n",
       "      <td>7.012942</td>\n",
       "      <td>11.313056</td>\n",
       "    </tr>\n",
       "    <tr>\n",
       "      <th>nifi-registry</th>\n",
       "      <th>612158</th>\n",
       "      <td>1.220278</td>\n",
       "      <td>0.244056</td>\n",
       "      <td>0.271667</td>\n",
       "    </tr>\n",
       "  </tbody>\n",
       "</table>\n",
       "</div>"
      ],
      "text/plain": [
       "                               jobhours                     \n",
       "                                    sum      mean        max\n",
       "repo            workflowid                                  \n",
       "nifi            605175      1208.525833  3.544064   9.324167\n",
       "nifi-minifi-cpp 2057058     1171.161389  7.012942  11.313056\n",
       "nifi-registry   612158         1.220278  0.244056   0.271667"
      ]
     },
     "execution_count": 10,
     "metadata": {},
     "output_type": "execute_result"
    }
   ],
   "source": [
    "actions[actions.month == last_month][[\"repo\",\"workflowid\",\"jobhours\"]].groupby([\"repo\",\"workflowid\"]).agg({\"jobhours\":[\"sum\",\"mean\", \"max\"]}).sort_values(('jobhours',\"sum\"), ascending=False)"
   ]
  },
  {
   "cell_type": "markdown",
   "id": "84b6f988",
   "metadata": {
    "papermill": {
     "duration": 0.012519,
     "end_time": "2021-04-17T20:26:25.794051",
     "exception": false,
     "start_time": "2021-04-17T20:26:25.781532",
     "status": "completed"
    },
    "tags": []
   },
   "source": [
    "## Slowest workflow runs\n"
   ]
  },
  {
   "cell_type": "code",
   "execution_count": 11,
   "id": "94f68cb8",
   "metadata": {
    "execution": {
     "iopub.execute_input": "2021-04-17T20:26:25.822931Z",
     "iopub.status.busy": "2021-04-17T20:26:25.822557Z",
     "iopub.status.idle": "2021-04-17T20:26:25.840939Z",
     "shell.execute_reply": "2021-04-17T20:26:25.841210Z"
    },
    "jupyter": {
     "source_hidden": true
    },
    "papermill": {
     "duration": 0.034342,
     "end_time": "2021-04-17T20:26:25.841311",
     "exception": false,
     "start_time": "2021-04-17T20:26:25.806969",
     "status": "completed"
    },
    "tags": []
   },
   "outputs": [
    {
     "data": {
      "text/html": [
       "<div>\n",
       "<style scoped>\n",
       "    .dataframe tbody tr th:only-of-type {\n",
       "        vertical-align: middle;\n",
       "    }\n",
       "\n",
       "    .dataframe tbody tr th {\n",
       "        vertical-align: top;\n",
       "    }\n",
       "\n",
       "    .dataframe thead th {\n",
       "        text-align: right;\n",
       "    }\n",
       "</style>\n",
       "<table border=\"1\" class=\"dataframe\">\n",
       "  <thead>\n",
       "    <tr style=\"text-align: right;\">\n",
       "      <th></th>\n",
       "      <th>org</th>\n",
       "      <th>repo</th>\n",
       "      <th>id</th>\n",
       "      <th>runnumber</th>\n",
       "      <th>createdat</th>\n",
       "      <th>updatedat</th>\n",
       "      <th>status</th>\n",
       "      <th>conclusion</th>\n",
       "      <th>workflowid</th>\n",
       "      <th>firstjobstarted</th>\n",
       "      <th>lastjobcompleted</th>\n",
       "      <th>jobdetails</th>\n",
       "      <th>jobs</th>\n",
       "      <th>jobseconds</th>\n",
       "      <th>project</th>\n",
       "      <th>jobhours</th>\n",
       "      <th>month</th>\n",
       "    </tr>\n",
       "  </thead>\n",
       "  <tbody>\n",
       "    <tr>\n",
       "      <th>757713</th>\n",
       "      <td>apache</td>\n",
       "      <td>nifi-minifi-cpp</td>\n",
       "      <td>704636469</td>\n",
       "      <td>1073</td>\n",
       "      <td>2021-03-31 10:26:05+00:00</td>\n",
       "      <td>2021-03-31 11:55:10+00:00</td>\n",
       "      <td>completed</td>\n",
       "      <td>success</td>\n",
       "      <td>2057058</td>\n",
       "      <td>2021-03-31 10:27:05+00:00</td>\n",
       "      <td>2021-03-31 11:55:01+00:00</td>\n",
       "      <td>True</td>\n",
       "      <td>15</td>\n",
       "      <td>40727</td>\n",
       "      <td>nifi</td>\n",
       "      <td>11.313056</td>\n",
       "      <td>2021-03</td>\n",
       "    </tr>\n",
       "    <tr>\n",
       "      <th>757710</th>\n",
       "      <td>apache</td>\n",
       "      <td>nifi-minifi-cpp</td>\n",
       "      <td>704069121</td>\n",
       "      <td>1070</td>\n",
       "      <td>2021-03-31 06:55:57+00:00</td>\n",
       "      <td>2021-03-31 08:42:24+00:00</td>\n",
       "      <td>completed</td>\n",
       "      <td>success</td>\n",
       "      <td>2057058</td>\n",
       "      <td>2021-03-31 06:56:12+00:00</td>\n",
       "      <td>2021-03-31 08:42:14+00:00</td>\n",
       "      <td>True</td>\n",
       "      <td>15</td>\n",
       "      <td>40030</td>\n",
       "      <td>nifi</td>\n",
       "      <td>11.119444</td>\n",
       "      <td>2021-03</td>\n",
       "    </tr>\n",
       "    <tr>\n",
       "      <th>757666</th>\n",
       "      <td>apache</td>\n",
       "      <td>nifi-minifi-cpp</td>\n",
       "      <td>682283873</td>\n",
       "      <td>1030</td>\n",
       "      <td>2021-03-24 07:46:33+00:00</td>\n",
       "      <td>2021-03-24 09:25:12+00:00</td>\n",
       "      <td>completed</td>\n",
       "      <td>failure</td>\n",
       "      <td>2057058</td>\n",
       "      <td>2021-03-24 07:46:50+00:00</td>\n",
       "      <td>2021-03-24 09:25:02+00:00</td>\n",
       "      <td>True</td>\n",
       "      <td>15</td>\n",
       "      <td>39349</td>\n",
       "      <td>nifi</td>\n",
       "      <td>10.930278</td>\n",
       "      <td>2021-03</td>\n",
       "    </tr>\n",
       "    <tr>\n",
       "      <th>757648</th>\n",
       "      <td>apache</td>\n",
       "      <td>nifi-minifi-cpp</td>\n",
       "      <td>678855402</td>\n",
       "      <td>1014</td>\n",
       "      <td>2021-03-23 08:06:05+00:00</td>\n",
       "      <td>2021-03-23 09:32:00+00:00</td>\n",
       "      <td>completed</td>\n",
       "      <td>failure</td>\n",
       "      <td>2057058</td>\n",
       "      <td>2021-03-23 08:06:28+00:00</td>\n",
       "      <td>2021-03-23 09:31:49+00:00</td>\n",
       "      <td>True</td>\n",
       "      <td>15</td>\n",
       "      <td>39153</td>\n",
       "      <td>nifi</td>\n",
       "      <td>10.875833</td>\n",
       "      <td>2021-03</td>\n",
       "    </tr>\n",
       "    <tr>\n",
       "      <th>757670</th>\n",
       "      <td>apache</td>\n",
       "      <td>nifi-minifi-cpp</td>\n",
       "      <td>682950434</td>\n",
       "      <td>1034</td>\n",
       "      <td>2021-03-24 12:01:50+00:00</td>\n",
       "      <td>2021-03-24 13:43:12+00:00</td>\n",
       "      <td>completed</td>\n",
       "      <td>success</td>\n",
       "      <td>2057058</td>\n",
       "      <td>2021-03-24 12:13:36+00:00</td>\n",
       "      <td>2021-03-24 13:43:04+00:00</td>\n",
       "      <td>True</td>\n",
       "      <td>15</td>\n",
       "      <td>39121</td>\n",
       "      <td>nifi</td>\n",
       "      <td>10.866944</td>\n",
       "      <td>2021-03</td>\n",
       "    </tr>\n",
       "    <tr>\n",
       "      <th>757683</th>\n",
       "      <td>apache</td>\n",
       "      <td>nifi-minifi-cpp</td>\n",
       "      <td>696953766</td>\n",
       "      <td>1046</td>\n",
       "      <td>2021-03-29 06:58:20+00:00</td>\n",
       "      <td>2021-03-29 08:42:37+00:00</td>\n",
       "      <td>completed</td>\n",
       "      <td>success</td>\n",
       "      <td>2057058</td>\n",
       "      <td>2021-03-29 06:58:42+00:00</td>\n",
       "      <td>2021-03-29 08:38:22+00:00</td>\n",
       "      <td>True</td>\n",
       "      <td>15</td>\n",
       "      <td>38922</td>\n",
       "      <td>nifi</td>\n",
       "      <td>10.811667</td>\n",
       "      <td>2021-03</td>\n",
       "    </tr>\n",
       "    <tr>\n",
       "      <th>757649</th>\n",
       "      <td>apache</td>\n",
       "      <td>nifi-minifi-cpp</td>\n",
       "      <td>678859331</td>\n",
       "      <td>1015</td>\n",
       "      <td>2021-03-23 08:07:37+00:00</td>\n",
       "      <td>2021-03-23 09:58:10+00:00</td>\n",
       "      <td>completed</td>\n",
       "      <td>success</td>\n",
       "      <td>2057058</td>\n",
       "      <td>2021-03-23 08:30:20+00:00</td>\n",
       "      <td>2021-03-23 09:58:01+00:00</td>\n",
       "      <td>True</td>\n",
       "      <td>15</td>\n",
       "      <td>38469</td>\n",
       "      <td>nifi</td>\n",
       "      <td>10.685833</td>\n",
       "      <td>2021-03</td>\n",
       "    </tr>\n",
       "    <tr>\n",
       "      <th>757714</th>\n",
       "      <td>apache</td>\n",
       "      <td>nifi-minifi-cpp</td>\n",
       "      <td>705412164</td>\n",
       "      <td>1074</td>\n",
       "      <td>2021-03-31 15:09:00+00:00</td>\n",
       "      <td>2021-03-31 16:37:11+00:00</td>\n",
       "      <td>completed</td>\n",
       "      <td>success</td>\n",
       "      <td>2057058</td>\n",
       "      <td>2021-03-31 15:09:19+00:00</td>\n",
       "      <td>2021-03-31 16:37:01+00:00</td>\n",
       "      <td>True</td>\n",
       "      <td>15</td>\n",
       "      <td>37981</td>\n",
       "      <td>nifi</td>\n",
       "      <td>10.550278</td>\n",
       "      <td>2021-03</td>\n",
       "    </tr>\n",
       "    <tr>\n",
       "      <th>757667</th>\n",
       "      <td>apache</td>\n",
       "      <td>nifi-minifi-cpp</td>\n",
       "      <td>682464204</td>\n",
       "      <td>1031</td>\n",
       "      <td>2021-03-24 08:59:05+00:00</td>\n",
       "      <td>2021-03-24 10:27:39+00:00</td>\n",
       "      <td>completed</td>\n",
       "      <td>failure</td>\n",
       "      <td>2057058</td>\n",
       "      <td>2021-03-24 08:59:34+00:00</td>\n",
       "      <td>2021-03-24 10:27:29+00:00</td>\n",
       "      <td>True</td>\n",
       "      <td>15</td>\n",
       "      <td>36281</td>\n",
       "      <td>nifi</td>\n",
       "      <td>10.078056</td>\n",
       "      <td>2021-03</td>\n",
       "    </tr>\n",
       "    <tr>\n",
       "      <th>757685</th>\n",
       "      <td>apache</td>\n",
       "      <td>nifi-minifi-cpp</td>\n",
       "      <td>697388858</td>\n",
       "      <td>1048</td>\n",
       "      <td>2021-03-29 09:45:07+00:00</td>\n",
       "      <td>2021-03-29 11:12:09+00:00</td>\n",
       "      <td>completed</td>\n",
       "      <td>success</td>\n",
       "      <td>2057058</td>\n",
       "      <td>2021-03-29 09:45:32+00:00</td>\n",
       "      <td>2021-03-29 11:11:59+00:00</td>\n",
       "      <td>True</td>\n",
       "      <td>15</td>\n",
       "      <td>36237</td>\n",
       "      <td>nifi</td>\n",
       "      <td>10.065833</td>\n",
       "      <td>2021-03</td>\n",
       "    </tr>\n",
       "    <tr>\n",
       "      <th>757669</th>\n",
       "      <td>apache</td>\n",
       "      <td>nifi-minifi-cpp</td>\n",
       "      <td>682928751</td>\n",
       "      <td>1033</td>\n",
       "      <td>2021-03-24 11:51:42+00:00</td>\n",
       "      <td>2021-03-24 13:18:07+00:00</td>\n",
       "      <td>completed</td>\n",
       "      <td>success</td>\n",
       "      <td>2057058</td>\n",
       "      <td>2021-03-24 11:52:02+00:00</td>\n",
       "      <td>2021-03-24 13:17:57+00:00</td>\n",
       "      <td>True</td>\n",
       "      <td>15</td>\n",
       "      <td>36118</td>\n",
       "      <td>nifi</td>\n",
       "      <td>10.032778</td>\n",
       "      <td>2021-03</td>\n",
       "    </tr>\n",
       "    <tr>\n",
       "      <th>757700</th>\n",
       "      <td>apache</td>\n",
       "      <td>nifi-minifi-cpp</td>\n",
       "      <td>700718149</td>\n",
       "      <td>1061</td>\n",
       "      <td>2021-03-30 08:26:06+00:00</td>\n",
       "      <td>2021-03-30 10:00:49+00:00</td>\n",
       "      <td>completed</td>\n",
       "      <td>failure</td>\n",
       "      <td>2057058</td>\n",
       "      <td>2021-03-30 08:26:54+00:00</td>\n",
       "      <td>2021-03-30 10:00:40+00:00</td>\n",
       "      <td>True</td>\n",
       "      <td>15</td>\n",
       "      <td>35962</td>\n",
       "      <td>nifi</td>\n",
       "      <td>9.989444</td>\n",
       "      <td>2021-03</td>\n",
       "    </tr>\n",
       "    <tr>\n",
       "      <th>758745</th>\n",
       "      <td>apache</td>\n",
       "      <td>nifi-minifi-cpp</td>\n",
       "      <td>661438192</td>\n",
       "      <td>987</td>\n",
       "      <td>2021-03-17 14:51:41+00:00</td>\n",
       "      <td>2021-03-17 17:05:03+00:00</td>\n",
       "      <td>completed</td>\n",
       "      <td>cancelled</td>\n",
       "      <td>2057058</td>\n",
       "      <td>2021-03-17 15:21:05+00:00</td>\n",
       "      <td>2021-03-17 17:04:56+00:00</td>\n",
       "      <td>True</td>\n",
       "      <td>14</td>\n",
       "      <td>35245</td>\n",
       "      <td>nifi</td>\n",
       "      <td>9.790278</td>\n",
       "      <td>2021-03</td>\n",
       "    </tr>\n",
       "    <tr>\n",
       "      <th>757702</th>\n",
       "      <td>apache</td>\n",
       "      <td>nifi-minifi-cpp</td>\n",
       "      <td>701257468</td>\n",
       "      <td>1063</td>\n",
       "      <td>2021-03-30 11:37:42+00:00</td>\n",
       "      <td>2021-03-30 13:10:19+00:00</td>\n",
       "      <td>completed</td>\n",
       "      <td>failure</td>\n",
       "      <td>2057058</td>\n",
       "      <td>2021-03-30 11:37:54+00:00</td>\n",
       "      <td>2021-03-30 13:10:09+00:00</td>\n",
       "      <td>True</td>\n",
       "      <td>15</td>\n",
       "      <td>34540</td>\n",
       "      <td>nifi</td>\n",
       "      <td>9.594444</td>\n",
       "      <td>2021-03</td>\n",
       "    </tr>\n",
       "    <tr>\n",
       "      <th>758664</th>\n",
       "      <td>apache</td>\n",
       "      <td>nifi-minifi-cpp</td>\n",
       "      <td>611027401</td>\n",
       "      <td>913</td>\n",
       "      <td>2021-03-01 15:52:51+00:00</td>\n",
       "      <td>2021-03-01 17:26:12+00:00</td>\n",
       "      <td>completed</td>\n",
       "      <td>failure</td>\n",
       "      <td>2057058</td>\n",
       "      <td>2021-03-01 15:53:28+00:00</td>\n",
       "      <td>2021-03-01 17:26:01+00:00</td>\n",
       "      <td>True</td>\n",
       "      <td>15</td>\n",
       "      <td>34378</td>\n",
       "      <td>nifi</td>\n",
       "      <td>9.549444</td>\n",
       "      <td>2021-03</td>\n",
       "    </tr>\n",
       "    <tr>\n",
       "      <th>757703</th>\n",
       "      <td>apache</td>\n",
       "      <td>nifi-minifi-cpp</td>\n",
       "      <td>701260851</td>\n",
       "      <td>1064</td>\n",
       "      <td>2021-03-30 11:38:53+00:00</td>\n",
       "      <td>2021-03-30 13:54:27+00:00</td>\n",
       "      <td>completed</td>\n",
       "      <td>success</td>\n",
       "      <td>2057058</td>\n",
       "      <td>2021-03-30 12:04:50+00:00</td>\n",
       "      <td>2021-03-30 13:54:15+00:00</td>\n",
       "      <td>True</td>\n",
       "      <td>15</td>\n",
       "      <td>34236</td>\n",
       "      <td>nifi</td>\n",
       "      <td>9.510000</td>\n",
       "      <td>2021-03</td>\n",
       "    </tr>\n",
       "    <tr>\n",
       "      <th>758674</th>\n",
       "      <td>apache</td>\n",
       "      <td>nifi-minifi-cpp</td>\n",
       "      <td>624393968</td>\n",
       "      <td>922</td>\n",
       "      <td>2021-03-05 12:25:19+00:00</td>\n",
       "      <td>2021-03-05 13:53:28+00:00</td>\n",
       "      <td>completed</td>\n",
       "      <td>success</td>\n",
       "      <td>2057058</td>\n",
       "      <td>2021-03-05 12:25:51+00:00</td>\n",
       "      <td>2021-03-05 13:53:17+00:00</td>\n",
       "      <td>True</td>\n",
       "      <td>14</td>\n",
       "      <td>34167</td>\n",
       "      <td>nifi</td>\n",
       "      <td>9.490833</td>\n",
       "      <td>2021-03</td>\n",
       "    </tr>\n",
       "    <tr>\n",
       "      <th>758749</th>\n",
       "      <td>apache</td>\n",
       "      <td>nifi-minifi-cpp</td>\n",
       "      <td>661679424</td>\n",
       "      <td>990</td>\n",
       "      <td>2021-03-17 16:12:52+00:00</td>\n",
       "      <td>2021-03-17 18:08:36+00:00</td>\n",
       "      <td>completed</td>\n",
       "      <td>failure</td>\n",
       "      <td>2057058</td>\n",
       "      <td>2021-03-17 16:32:56+00:00</td>\n",
       "      <td>2021-03-17 18:08:26+00:00</td>\n",
       "      <td>True</td>\n",
       "      <td>14</td>\n",
       "      <td>33926</td>\n",
       "      <td>nifi</td>\n",
       "      <td>9.423889</td>\n",
       "      <td>2021-03</td>\n",
       "    </tr>\n",
       "    <tr>\n",
       "      <th>756630</th>\n",
       "      <td>apache</td>\n",
       "      <td>nifi</td>\n",
       "      <td>683718482</td>\n",
       "      <td>2952</td>\n",
       "      <td>2021-03-24 16:27:02+00:00</td>\n",
       "      <td>2021-03-24 22:31:40+00:00</td>\n",
       "      <td>completed</td>\n",
       "      <td>failure</td>\n",
       "      <td>605175</td>\n",
       "      <td>2021-03-24 16:27:39+00:00</td>\n",
       "      <td>2021-03-24 22:31:34+00:00</td>\n",
       "      <td>True</td>\n",
       "      <td>4</td>\n",
       "      <td>33567</td>\n",
       "      <td>nifi</td>\n",
       "      <td>9.324167</td>\n",
       "      <td>2021-03</td>\n",
       "    </tr>\n",
       "    <tr>\n",
       "      <th>756726</th>\n",
       "      <td>apache</td>\n",
       "      <td>nifi</td>\n",
       "      <td>706746862</td>\n",
       "      <td>3038</td>\n",
       "      <td>2021-03-31 23:53:44+00:00</td>\n",
       "      <td>2021-04-01 05:54:07+00:00</td>\n",
       "      <td>completed</td>\n",
       "      <td>failure</td>\n",
       "      <td>605175</td>\n",
       "      <td>2021-03-31 23:53:55+00:00</td>\n",
       "      <td>2021-04-01 05:54:00+00:00</td>\n",
       "      <td>True</td>\n",
       "      <td>4</td>\n",
       "      <td>33419</td>\n",
       "      <td>nifi</td>\n",
       "      <td>9.283056</td>\n",
       "      <td>2021-03</td>\n",
       "    </tr>\n",
       "    <tr>\n",
       "      <th>758751</th>\n",
       "      <td>apache</td>\n",
       "      <td>nifi-minifi-cpp</td>\n",
       "      <td>663889683</td>\n",
       "      <td>992</td>\n",
       "      <td>2021-03-18 08:34:56+00:00</td>\n",
       "      <td>2021-03-18 10:01:15+00:00</td>\n",
       "      <td>completed</td>\n",
       "      <td>failure</td>\n",
       "      <td>2057058</td>\n",
       "      <td>2021-03-18 08:35:30+00:00</td>\n",
       "      <td>2021-03-18 10:01:07+00:00</td>\n",
       "      <td>True</td>\n",
       "      <td>14</td>\n",
       "      <td>33286</td>\n",
       "      <td>nifi</td>\n",
       "      <td>9.246111</td>\n",
       "      <td>2021-03</td>\n",
       "    </tr>\n",
       "    <tr>\n",
       "      <th>758742</th>\n",
       "      <td>apache</td>\n",
       "      <td>nifi-minifi-cpp</td>\n",
       "      <td>661025561</td>\n",
       "      <td>984</td>\n",
       "      <td>2021-03-17 12:27:13+00:00</td>\n",
       "      <td>2021-03-17 14:12:53+00:00</td>\n",
       "      <td>completed</td>\n",
       "      <td>success</td>\n",
       "      <td>2057058</td>\n",
       "      <td>2021-03-17 12:27:37+00:00</td>\n",
       "      <td>2021-03-17 14:12:44+00:00</td>\n",
       "      <td>True</td>\n",
       "      <td>14</td>\n",
       "      <td>33241</td>\n",
       "      <td>nifi</td>\n",
       "      <td>9.233611</td>\n",
       "      <td>2021-03</td>\n",
       "    </tr>\n",
       "    <tr>\n",
       "      <th>756688</th>\n",
       "      <td>apache</td>\n",
       "      <td>nifi</td>\n",
       "      <td>701578197</td>\n",
       "      <td>3003</td>\n",
       "      <td>2021-03-30 13:30:40+00:00</td>\n",
       "      <td>2021-03-30 19:38:59+00:00</td>\n",
       "      <td>completed</td>\n",
       "      <td>failure</td>\n",
       "      <td>605175</td>\n",
       "      <td>2021-03-30 13:30:53+00:00</td>\n",
       "      <td>2021-03-30 19:38:53+00:00</td>\n",
       "      <td>True</td>\n",
       "      <td>4</td>\n",
       "      <td>33025</td>\n",
       "      <td>nifi</td>\n",
       "      <td>9.173611</td>\n",
       "      <td>2021-03</td>\n",
       "    </tr>\n",
       "    <tr>\n",
       "      <th>757701</th>\n",
       "      <td>apache</td>\n",
       "      <td>nifi-minifi-cpp</td>\n",
       "      <td>700975456</td>\n",
       "      <td>1062</td>\n",
       "      <td>2021-03-30 09:54:34+00:00</td>\n",
       "      <td>2021-03-30 11:29:21+00:00</td>\n",
       "      <td>completed</td>\n",
       "      <td>success</td>\n",
       "      <td>2057058</td>\n",
       "      <td>2021-03-30 09:54:53+00:00</td>\n",
       "      <td>2021-03-30 11:29:12+00:00</td>\n",
       "      <td>True</td>\n",
       "      <td>15</td>\n",
       "      <td>33003</td>\n",
       "      <td>nifi</td>\n",
       "      <td>9.167500</td>\n",
       "      <td>2021-03</td>\n",
       "    </tr>\n",
       "    <tr>\n",
       "      <th>758636</th>\n",
       "      <td>apache</td>\n",
       "      <td>nifi-minifi-cpp</td>\n",
       "      <td>592153989</td>\n",
       "      <td>889</td>\n",
       "      <td>2021-02-23 09:59:50+00:00</td>\n",
       "      <td>2021-02-23 11:27:24+00:00</td>\n",
       "      <td>completed</td>\n",
       "      <td>success</td>\n",
       "      <td>2057058</td>\n",
       "      <td>2021-02-23 10:00:33+00:00</td>\n",
       "      <td>2021-02-23 11:27:15+00:00</td>\n",
       "      <td>True</td>\n",
       "      <td>14</td>\n",
       "      <td>32889</td>\n",
       "      <td>nifi</td>\n",
       "      <td>9.135833</td>\n",
       "      <td>2021-02</td>\n",
       "    </tr>\n",
       "  </tbody>\n",
       "</table>\n",
       "</div>"
      ],
      "text/plain": [
       "           org             repo         id  runnumber  \\\n",
       "757713  apache  nifi-minifi-cpp  704636469       1073   \n",
       "757710  apache  nifi-minifi-cpp  704069121       1070   \n",
       "757666  apache  nifi-minifi-cpp  682283873       1030   \n",
       "757648  apache  nifi-minifi-cpp  678855402       1014   \n",
       "757670  apache  nifi-minifi-cpp  682950434       1034   \n",
       "757683  apache  nifi-minifi-cpp  696953766       1046   \n",
       "757649  apache  nifi-minifi-cpp  678859331       1015   \n",
       "757714  apache  nifi-minifi-cpp  705412164       1074   \n",
       "757667  apache  nifi-minifi-cpp  682464204       1031   \n",
       "757685  apache  nifi-minifi-cpp  697388858       1048   \n",
       "757669  apache  nifi-minifi-cpp  682928751       1033   \n",
       "757700  apache  nifi-minifi-cpp  700718149       1061   \n",
       "758745  apache  nifi-minifi-cpp  661438192        987   \n",
       "757702  apache  nifi-minifi-cpp  701257468       1063   \n",
       "758664  apache  nifi-minifi-cpp  611027401        913   \n",
       "757703  apache  nifi-minifi-cpp  701260851       1064   \n",
       "758674  apache  nifi-minifi-cpp  624393968        922   \n",
       "758749  apache  nifi-minifi-cpp  661679424        990   \n",
       "756630  apache             nifi  683718482       2952   \n",
       "756726  apache             nifi  706746862       3038   \n",
       "758751  apache  nifi-minifi-cpp  663889683        992   \n",
       "758742  apache  nifi-minifi-cpp  661025561        984   \n",
       "756688  apache             nifi  701578197       3003   \n",
       "757701  apache  nifi-minifi-cpp  700975456       1062   \n",
       "758636  apache  nifi-minifi-cpp  592153989        889   \n",
       "\n",
       "                       createdat                 updatedat     status  \\\n",
       "757713 2021-03-31 10:26:05+00:00 2021-03-31 11:55:10+00:00  completed   \n",
       "757710 2021-03-31 06:55:57+00:00 2021-03-31 08:42:24+00:00  completed   \n",
       "757666 2021-03-24 07:46:33+00:00 2021-03-24 09:25:12+00:00  completed   \n",
       "757648 2021-03-23 08:06:05+00:00 2021-03-23 09:32:00+00:00  completed   \n",
       "757670 2021-03-24 12:01:50+00:00 2021-03-24 13:43:12+00:00  completed   \n",
       "757683 2021-03-29 06:58:20+00:00 2021-03-29 08:42:37+00:00  completed   \n",
       "757649 2021-03-23 08:07:37+00:00 2021-03-23 09:58:10+00:00  completed   \n",
       "757714 2021-03-31 15:09:00+00:00 2021-03-31 16:37:11+00:00  completed   \n",
       "757667 2021-03-24 08:59:05+00:00 2021-03-24 10:27:39+00:00  completed   \n",
       "757685 2021-03-29 09:45:07+00:00 2021-03-29 11:12:09+00:00  completed   \n",
       "757669 2021-03-24 11:51:42+00:00 2021-03-24 13:18:07+00:00  completed   \n",
       "757700 2021-03-30 08:26:06+00:00 2021-03-30 10:00:49+00:00  completed   \n",
       "758745 2021-03-17 14:51:41+00:00 2021-03-17 17:05:03+00:00  completed   \n",
       "757702 2021-03-30 11:37:42+00:00 2021-03-30 13:10:19+00:00  completed   \n",
       "758664 2021-03-01 15:52:51+00:00 2021-03-01 17:26:12+00:00  completed   \n",
       "757703 2021-03-30 11:38:53+00:00 2021-03-30 13:54:27+00:00  completed   \n",
       "758674 2021-03-05 12:25:19+00:00 2021-03-05 13:53:28+00:00  completed   \n",
       "758749 2021-03-17 16:12:52+00:00 2021-03-17 18:08:36+00:00  completed   \n",
       "756630 2021-03-24 16:27:02+00:00 2021-03-24 22:31:40+00:00  completed   \n",
       "756726 2021-03-31 23:53:44+00:00 2021-04-01 05:54:07+00:00  completed   \n",
       "758751 2021-03-18 08:34:56+00:00 2021-03-18 10:01:15+00:00  completed   \n",
       "758742 2021-03-17 12:27:13+00:00 2021-03-17 14:12:53+00:00  completed   \n",
       "756688 2021-03-30 13:30:40+00:00 2021-03-30 19:38:59+00:00  completed   \n",
       "757701 2021-03-30 09:54:34+00:00 2021-03-30 11:29:21+00:00  completed   \n",
       "758636 2021-02-23 09:59:50+00:00 2021-02-23 11:27:24+00:00  completed   \n",
       "\n",
       "       conclusion  workflowid           firstjobstarted  \\\n",
       "757713    success     2057058 2021-03-31 10:27:05+00:00   \n",
       "757710    success     2057058 2021-03-31 06:56:12+00:00   \n",
       "757666    failure     2057058 2021-03-24 07:46:50+00:00   \n",
       "757648    failure     2057058 2021-03-23 08:06:28+00:00   \n",
       "757670    success     2057058 2021-03-24 12:13:36+00:00   \n",
       "757683    success     2057058 2021-03-29 06:58:42+00:00   \n",
       "757649    success     2057058 2021-03-23 08:30:20+00:00   \n",
       "757714    success     2057058 2021-03-31 15:09:19+00:00   \n",
       "757667    failure     2057058 2021-03-24 08:59:34+00:00   \n",
       "757685    success     2057058 2021-03-29 09:45:32+00:00   \n",
       "757669    success     2057058 2021-03-24 11:52:02+00:00   \n",
       "757700    failure     2057058 2021-03-30 08:26:54+00:00   \n",
       "758745  cancelled     2057058 2021-03-17 15:21:05+00:00   \n",
       "757702    failure     2057058 2021-03-30 11:37:54+00:00   \n",
       "758664    failure     2057058 2021-03-01 15:53:28+00:00   \n",
       "757703    success     2057058 2021-03-30 12:04:50+00:00   \n",
       "758674    success     2057058 2021-03-05 12:25:51+00:00   \n",
       "758749    failure     2057058 2021-03-17 16:32:56+00:00   \n",
       "756630    failure      605175 2021-03-24 16:27:39+00:00   \n",
       "756726    failure      605175 2021-03-31 23:53:55+00:00   \n",
       "758751    failure     2057058 2021-03-18 08:35:30+00:00   \n",
       "758742    success     2057058 2021-03-17 12:27:37+00:00   \n",
       "756688    failure      605175 2021-03-30 13:30:53+00:00   \n",
       "757701    success     2057058 2021-03-30 09:54:53+00:00   \n",
       "758636    success     2057058 2021-02-23 10:00:33+00:00   \n",
       "\n",
       "                lastjobcompleted  jobdetails  jobs  jobseconds project  \\\n",
       "757713 2021-03-31 11:55:01+00:00        True    15       40727    nifi   \n",
       "757710 2021-03-31 08:42:14+00:00        True    15       40030    nifi   \n",
       "757666 2021-03-24 09:25:02+00:00        True    15       39349    nifi   \n",
       "757648 2021-03-23 09:31:49+00:00        True    15       39153    nifi   \n",
       "757670 2021-03-24 13:43:04+00:00        True    15       39121    nifi   \n",
       "757683 2021-03-29 08:38:22+00:00        True    15       38922    nifi   \n",
       "757649 2021-03-23 09:58:01+00:00        True    15       38469    nifi   \n",
       "757714 2021-03-31 16:37:01+00:00        True    15       37981    nifi   \n",
       "757667 2021-03-24 10:27:29+00:00        True    15       36281    nifi   \n",
       "757685 2021-03-29 11:11:59+00:00        True    15       36237    nifi   \n",
       "757669 2021-03-24 13:17:57+00:00        True    15       36118    nifi   \n",
       "757700 2021-03-30 10:00:40+00:00        True    15       35962    nifi   \n",
       "758745 2021-03-17 17:04:56+00:00        True    14       35245    nifi   \n",
       "757702 2021-03-30 13:10:09+00:00        True    15       34540    nifi   \n",
       "758664 2021-03-01 17:26:01+00:00        True    15       34378    nifi   \n",
       "757703 2021-03-30 13:54:15+00:00        True    15       34236    nifi   \n",
       "758674 2021-03-05 13:53:17+00:00        True    14       34167    nifi   \n",
       "758749 2021-03-17 18:08:26+00:00        True    14       33926    nifi   \n",
       "756630 2021-03-24 22:31:34+00:00        True     4       33567    nifi   \n",
       "756726 2021-04-01 05:54:00+00:00        True     4       33419    nifi   \n",
       "758751 2021-03-18 10:01:07+00:00        True    14       33286    nifi   \n",
       "758742 2021-03-17 14:12:44+00:00        True    14       33241    nifi   \n",
       "756688 2021-03-30 19:38:53+00:00        True     4       33025    nifi   \n",
       "757701 2021-03-30 11:29:12+00:00        True    15       33003    nifi   \n",
       "758636 2021-02-23 11:27:15+00:00        True    14       32889    nifi   \n",
       "\n",
       "         jobhours    month  \n",
       "757713  11.313056  2021-03  \n",
       "757710  11.119444  2021-03  \n",
       "757666  10.930278  2021-03  \n",
       "757648  10.875833  2021-03  \n",
       "757670  10.866944  2021-03  \n",
       "757683  10.811667  2021-03  \n",
       "757649  10.685833  2021-03  \n",
       "757714  10.550278  2021-03  \n",
       "757667  10.078056  2021-03  \n",
       "757685  10.065833  2021-03  \n",
       "757669  10.032778  2021-03  \n",
       "757700   9.989444  2021-03  \n",
       "758745   9.790278  2021-03  \n",
       "757702   9.594444  2021-03  \n",
       "758664   9.549444  2021-03  \n",
       "757703   9.510000  2021-03  \n",
       "758674   9.490833  2021-03  \n",
       "758749   9.423889  2021-03  \n",
       "756630   9.324167  2021-03  \n",
       "756726   9.283056  2021-03  \n",
       "758751   9.246111  2021-03  \n",
       "758742   9.233611  2021-03  \n",
       "756688   9.173611  2021-03  \n",
       "757701   9.167500  2021-03  \n",
       "758636   9.135833  2021-02  "
      ]
     },
     "execution_count": 11,
     "metadata": {},
     "output_type": "execute_result"
    }
   ],
   "source": [
    "actions.sort_values(\"jobhours\", ascending=False).head(25)"
   ]
  },
  {
   "cell_type": "code",
   "execution_count": 12,
   "id": "2c56dc00",
   "metadata": {
    "execution": {
     "iopub.execute_input": "2021-04-17T20:26:25.870083Z",
     "iopub.status.busy": "2021-04-17T20:26:25.869690Z",
     "iopub.status.idle": "2021-04-17T20:26:27.172982Z",
     "shell.execute_reply": "2021-04-17T20:26:27.172641Z"
    },
    "jupyter": {
     "source_hidden": true
    },
    "papermill": {
     "duration": 1.319375,
     "end_time": "2021-04-17T20:26:27.173065",
     "exception": false,
     "start_time": "2021-04-17T20:26:25.853690",
     "status": "completed"
    },
    "tags": []
   },
   "outputs": [],
   "source": [
    "job = pd.read_csv(\"github-action-job.csv.gz\")                          \n",
    "job.startedat = pd.to_datetime(job.startedat * 1000000, utc = True)\n",
    "job.completedat = pd.to_datetime(job.completedat * 1000000, utc = True)\n",
    "job[\"project\"] = job.repo.apply(asf_project)"
   ]
  },
  {
   "cell_type": "code",
   "execution_count": 13,
   "id": "006fc0db",
   "metadata": {
    "execution": {
     "iopub.execute_input": "2021-04-17T20:26:27.201456Z",
     "iopub.status.busy": "2021-04-17T20:26:27.201068Z",
     "iopub.status.idle": "2021-04-17T20:26:27.241810Z",
     "shell.execute_reply": "2021-04-17T20:26:27.240552Z"
    },
    "jupyter": {
     "source_hidden": true
    },
    "papermill": {
     "duration": 0.05678,
     "end_time": "2021-04-17T20:26:27.242010",
     "exception": false,
     "start_time": "2021-04-17T20:26:27.185230",
     "status": "completed"
    },
    "tags": []
   },
   "outputs": [],
   "source": [
    "job[\"jobhours\"] = (job.completedat - job.startedat).dt.seconds / 60 / 60"
   ]
  },
  {
   "cell_type": "code",
   "execution_count": 14,
   "id": "4e84b4cc",
   "metadata": {
    "execution": {
     "iopub.execute_input": "2021-04-17T20:26:27.309735Z",
     "iopub.status.busy": "2021-04-17T20:26:27.309358Z",
     "iopub.status.idle": "2021-04-17T20:26:27.401237Z",
     "shell.execute_reply": "2021-04-17T20:26:27.401548Z"
    },
    "jupyter": {
     "source_hidden": true
    },
    "papermill": {
     "duration": 0.145358,
     "end_time": "2021-04-17T20:26:27.401654",
     "exception": false,
     "start_time": "2021-04-17T20:26:27.256296",
     "status": "completed"
    },
    "tags": []
   },
   "outputs": [],
   "source": [
    "job = job[job.project == project]"
   ]
  },
  {
   "cell_type": "markdown",
   "id": "b5294ed3",
   "metadata": {
    "papermill": {
     "duration": 0.012007,
     "end_time": "2021-04-17T20:26:27.426599",
     "exception": false,
     "start_time": "2021-04-17T20:26:27.414592",
     "status": "completed"
    },
    "tags": []
   },
   "source": [
    "## Slowest job executions by job names"
   ]
  },
  {
   "cell_type": "code",
   "execution_count": 15,
   "id": "d68fbee4",
   "metadata": {
    "execution": {
     "iopub.execute_input": "2021-04-17T20:26:27.457161Z",
     "iopub.status.busy": "2021-04-17T20:26:27.456801Z",
     "iopub.status.idle": "2021-04-17T20:26:27.467346Z",
     "shell.execute_reply": "2021-04-17T20:26:27.467621Z"
    },
    "jupyter": {
     "source_hidden": true
    },
    "papermill": {
     "duration": 0.029002,
     "end_time": "2021-04-17T20:26:27.467722",
     "exception": false,
     "start_time": "2021-04-17T20:26:27.438720",
     "status": "completed"
    },
    "tags": []
   },
   "outputs": [
    {
     "data": {
      "text/html": [
       "<div>\n",
       "<style scoped>\n",
       "    .dataframe tbody tr th:only-of-type {\n",
       "        vertical-align: middle;\n",
       "    }\n",
       "\n",
       "    .dataframe tbody tr th {\n",
       "        vertical-align: top;\n",
       "    }\n",
       "\n",
       "    .dataframe thead th {\n",
       "        text-align: right;\n",
       "    }\n",
       "</style>\n",
       "<table border=\"1\" class=\"dataframe\">\n",
       "  <thead>\n",
       "    <tr style=\"text-align: right;\">\n",
       "      <th></th>\n",
       "      <th>org</th>\n",
       "      <th>repo</th>\n",
       "      <th>name</th>\n",
       "      <th>jobhours</th>\n",
       "    </tr>\n",
       "  </thead>\n",
       "  <tbody>\n",
       "    <tr>\n",
       "      <th>3</th>\n",
       "      <td>apache</td>\n",
       "      <td>nifi</td>\n",
       "      <td>Windows - JDK 1.8</td>\n",
       "      <td>775.215556</td>\n",
       "    </tr>\n",
       "    <tr>\n",
       "      <th>2</th>\n",
       "      <td>apache</td>\n",
       "      <td>nifi</td>\n",
       "      <td>Ubuntu - JDK 11 EN</td>\n",
       "      <td>741.959444</td>\n",
       "    </tr>\n",
       "    <tr>\n",
       "      <th>1</th>\n",
       "      <td>apache</td>\n",
       "      <td>nifi</td>\n",
       "      <td>Ubuntu - JDK 1.8 FR</td>\n",
       "      <td>600.368889</td>\n",
       "    </tr>\n",
       "    <tr>\n",
       "      <th>0</th>\n",
       "      <td>apache</td>\n",
       "      <td>nifi</td>\n",
       "      <td>MacOS - JDK 1.8 JP</td>\n",
       "      <td>485.017500</td>\n",
       "    </tr>\n",
       "    <tr>\n",
       "      <th>17</th>\n",
       "      <td>apache</td>\n",
       "      <td>nifi-minifi-cpp</td>\n",
       "      <td>windows-vs2017</td>\n",
       "      <td>425.755278</td>\n",
       "    </tr>\n",
       "    <tr>\n",
       "      <th>18</th>\n",
       "      <td>apache</td>\n",
       "      <td>nifi-minifi-cpp</td>\n",
       "      <td>windows-vs2019</td>\n",
       "      <td>304.055278</td>\n",
       "    </tr>\n",
       "    <tr>\n",
       "      <th>4</th>\n",
       "      <td>apache</td>\n",
       "      <td>nifi-minifi-cpp</td>\n",
       "      <td>Docker integration tests</td>\n",
       "      <td>229.710000</td>\n",
       "    </tr>\n",
       "    <tr>\n",
       "      <th>11</th>\n",
       "      <td>apache</td>\n",
       "      <td>nifi-minifi-cpp</td>\n",
       "      <td>ubuntu-16.04-all</td>\n",
       "      <td>190.402500</td>\n",
       "    </tr>\n",
       "    <tr>\n",
       "      <th>9</th>\n",
       "      <td>apache</td>\n",
       "      <td>nifi-minifi-cpp</td>\n",
       "      <td>macos-xcode12.0</td>\n",
       "      <td>176.375278</td>\n",
       "    </tr>\n",
       "    <tr>\n",
       "      <th>8</th>\n",
       "      <td>apache</td>\n",
       "      <td>nifi-minifi-cpp</td>\n",
       "      <td>macos-xcode11.2.1</td>\n",
       "      <td>175.835000</td>\n",
       "    </tr>\n",
       "    <tr>\n",
       "      <th>7</th>\n",
       "      <td>apache</td>\n",
       "      <td>nifi-minifi-cpp</td>\n",
       "      <td>fedora</td>\n",
       "      <td>141.976111</td>\n",
       "    </tr>\n",
       "    <tr>\n",
       "      <th>15</th>\n",
       "      <td>apache</td>\n",
       "      <td>nifi-minifi-cpp</td>\n",
       "      <td>ubuntu-20.04</td>\n",
       "      <td>122.426944</td>\n",
       "    </tr>\n",
       "    <tr>\n",
       "      <th>6</th>\n",
       "      <td>apache</td>\n",
       "      <td>nifi-minifi-cpp</td>\n",
       "      <td>debian</td>\n",
       "      <td>113.323333</td>\n",
       "    </tr>\n",
       "    <tr>\n",
       "      <th>14</th>\n",
       "      <td>apache</td>\n",
       "      <td>nifi-minifi-cpp</td>\n",
       "      <td>ubuntu-18.04</td>\n",
       "      <td>112.094167</td>\n",
       "    </tr>\n",
       "    <tr>\n",
       "      <th>13</th>\n",
       "      <td>apache</td>\n",
       "      <td>nifi-minifi-cpp</td>\n",
       "      <td>ubuntu-16.04-shared</td>\n",
       "      <td>105.057778</td>\n",
       "    </tr>\n",
       "    <tr>\n",
       "      <th>5</th>\n",
       "      <td>apache</td>\n",
       "      <td>nifi-minifi-cpp</td>\n",
       "      <td>centos</td>\n",
       "      <td>102.585278</td>\n",
       "    </tr>\n",
       "    <tr>\n",
       "      <th>12</th>\n",
       "      <td>apache</td>\n",
       "      <td>nifi-minifi-cpp</td>\n",
       "      <td>ubuntu-16.04-gcc-4.8</td>\n",
       "      <td>88.957778</td>\n",
       "    </tr>\n",
       "    <tr>\n",
       "      <th>10</th>\n",
       "      <td>apache</td>\n",
       "      <td>nifi-minifi-cpp</td>\n",
       "      <td>ubuntu-16.04</td>\n",
       "      <td>87.026944</td>\n",
       "    </tr>\n",
       "    <tr>\n",
       "      <th>16</th>\n",
       "      <td>apache</td>\n",
       "      <td>nifi-minifi-cpp</td>\n",
       "      <td>ubuntu-20.04-all-clang</td>\n",
       "      <td>73.321944</td>\n",
       "    </tr>\n",
       "    <tr>\n",
       "      <th>20</th>\n",
       "      <td>apache</td>\n",
       "      <td>nifi-registry</td>\n",
       "      <td>Ubuntu JDK11</td>\n",
       "      <td>1.187222</td>\n",
       "    </tr>\n",
       "    <tr>\n",
       "      <th>19</th>\n",
       "      <td>apache</td>\n",
       "      <td>nifi-registry</td>\n",
       "      <td>Ubuntu JDK1.8</td>\n",
       "      <td>1.096944</td>\n",
       "    </tr>\n",
       "  </tbody>\n",
       "</table>\n",
       "</div>"
      ],
      "text/plain": [
       "       org             repo                      name    jobhours\n",
       "3   apache             nifi         Windows - JDK 1.8  775.215556\n",
       "2   apache             nifi        Ubuntu - JDK 11 EN  741.959444\n",
       "1   apache             nifi       Ubuntu - JDK 1.8 FR  600.368889\n",
       "0   apache             nifi        MacOS - JDK 1.8 JP  485.017500\n",
       "17  apache  nifi-minifi-cpp            windows-vs2017  425.755278\n",
       "18  apache  nifi-minifi-cpp            windows-vs2019  304.055278\n",
       "4   apache  nifi-minifi-cpp  Docker integration tests  229.710000\n",
       "11  apache  nifi-minifi-cpp          ubuntu-16.04-all  190.402500\n",
       "9   apache  nifi-minifi-cpp           macos-xcode12.0  176.375278\n",
       "8   apache  nifi-minifi-cpp         macos-xcode11.2.1  175.835000\n",
       "7   apache  nifi-minifi-cpp                    fedora  141.976111\n",
       "15  apache  nifi-minifi-cpp              ubuntu-20.04  122.426944\n",
       "6   apache  nifi-minifi-cpp                    debian  113.323333\n",
       "14  apache  nifi-minifi-cpp              ubuntu-18.04  112.094167\n",
       "13  apache  nifi-minifi-cpp       ubuntu-16.04-shared  105.057778\n",
       "5   apache  nifi-minifi-cpp                    centos  102.585278\n",
       "12  apache  nifi-minifi-cpp      ubuntu-16.04-gcc-4.8   88.957778\n",
       "10  apache  nifi-minifi-cpp              ubuntu-16.04   87.026944\n",
       "16  apache  nifi-minifi-cpp    ubuntu-20.04-all-clang   73.321944\n",
       "20  apache    nifi-registry              Ubuntu JDK11    1.187222\n",
       "19  apache    nifi-registry             Ubuntu JDK1.8    1.096944"
      ]
     },
     "execution_count": 15,
     "metadata": {},
     "output_type": "execute_result"
    }
   ],
   "source": [
    "job[[\"jobhours\"]].groupby([job.org,job.repo, job.name]).sum().reset_index().sort_values(\"jobhours\", ascending=False).head(25)"
   ]
  },
  {
   "cell_type": "markdown",
   "id": "9dd3ee59",
   "metadata": {
    "papermill": {
     "duration": 0.012531,
     "end_time": "2021-04-17T20:26:27.492540",
     "exception": false,
     "start_time": "2021-04-17T20:26:27.480009",
     "status": "completed"
    },
    "tags": []
   },
   "source": [
    "## Number of job executions per status"
   ]
  },
  {
   "cell_type": "code",
   "execution_count": 16,
   "id": "16f6f908",
   "metadata": {
    "execution": {
     "iopub.execute_input": "2021-04-17T20:26:27.528529Z",
     "iopub.status.busy": "2021-04-17T20:26:27.528122Z",
     "iopub.status.idle": "2021-04-17T20:26:27.536515Z",
     "shell.execute_reply": "2021-04-17T20:26:27.536162Z"
    },
    "jupyter": {
     "source_hidden": true
    },
    "papermill": {
     "duration": 0.029748,
     "end_time": "2021-04-17T20:26:27.536595",
     "exception": false,
     "start_time": "2021-04-17T20:26:27.506847",
     "status": "completed"
    },
    "tags": []
   },
   "outputs": [
    {
     "data": {
      "text/html": [
       "<div>\n",
       "<style scoped>\n",
       "    .dataframe tbody tr th:only-of-type {\n",
       "        vertical-align: middle;\n",
       "    }\n",
       "\n",
       "    .dataframe tbody tr th {\n",
       "        vertical-align: top;\n",
       "    }\n",
       "\n",
       "    .dataframe thead th {\n",
       "        text-align: right;\n",
       "    }\n",
       "</style>\n",
       "<table border=\"1\" class=\"dataframe\">\n",
       "  <thead>\n",
       "    <tr style=\"text-align: right;\">\n",
       "      <th></th>\n",
       "      <th>org</th>\n",
       "      <th>repo</th>\n",
       "      <th>conclusion</th>\n",
       "      <th>id</th>\n",
       "    </tr>\n",
       "  </thead>\n",
       "  <tbody>\n",
       "    <tr>\n",
       "      <th>5</th>\n",
       "      <td>apache</td>\n",
       "      <td>nifi-minifi-cpp</td>\n",
       "      <td>success</td>\n",
       "      <td>4538</td>\n",
       "    </tr>\n",
       "    <tr>\n",
       "      <th>2</th>\n",
       "      <td>apache</td>\n",
       "      <td>nifi</td>\n",
       "      <td>success</td>\n",
       "      <td>2259</td>\n",
       "    </tr>\n",
       "    <tr>\n",
       "      <th>1</th>\n",
       "      <td>apache</td>\n",
       "      <td>nifi</td>\n",
       "      <td>failure</td>\n",
       "      <td>530</td>\n",
       "    </tr>\n",
       "    <tr>\n",
       "      <th>4</th>\n",
       "      <td>apache</td>\n",
       "      <td>nifi-minifi-cpp</td>\n",
       "      <td>failure</td>\n",
       "      <td>419</td>\n",
       "    </tr>\n",
       "    <tr>\n",
       "      <th>0</th>\n",
       "      <td>apache</td>\n",
       "      <td>nifi</td>\n",
       "      <td>cancelled</td>\n",
       "      <td>102</td>\n",
       "    </tr>\n",
       "    <tr>\n",
       "      <th>3</th>\n",
       "      <td>apache</td>\n",
       "      <td>nifi-minifi-cpp</td>\n",
       "      <td>cancelled</td>\n",
       "      <td>34</td>\n",
       "    </tr>\n",
       "    <tr>\n",
       "      <th>6</th>\n",
       "      <td>apache</td>\n",
       "      <td>nifi-registry</td>\n",
       "      <td>success</td>\n",
       "      <td>20</td>\n",
       "    </tr>\n",
       "  </tbody>\n",
       "</table>\n",
       "</div>"
      ],
      "text/plain": [
       "      org             repo conclusion    id\n",
       "5  apache  nifi-minifi-cpp    success  4538\n",
       "2  apache             nifi    success  2259\n",
       "1  apache             nifi    failure   530\n",
       "4  apache  nifi-minifi-cpp    failure   419\n",
       "0  apache             nifi  cancelled   102\n",
       "3  apache  nifi-minifi-cpp  cancelled    34\n",
       "6  apache    nifi-registry    success    20"
      ]
     },
     "execution_count": 16,
     "metadata": {},
     "output_type": "execute_result"
    }
   ],
   "source": [
    "job[[\"id\"]].groupby([job.org,job.repo,  job.conclusion]).count().reset_index().sort_values(\"id\", ascending=False).head(25)"
   ]
  },
  {
   "cell_type": "code",
   "execution_count": 17,
   "id": "29814375",
   "metadata": {
    "execution": {
     "iopub.execute_input": "2021-04-17T20:26:27.569887Z",
     "iopub.status.busy": "2021-04-17T20:26:27.568611Z",
     "iopub.status.idle": "2021-04-17T20:26:27.576691Z",
     "shell.execute_reply": "2021-04-17T20:26:27.576394Z"
    },
    "jupyter": {
     "source_hidden": true
    },
    "papermill": {
     "duration": 0.027015,
     "end_time": "2021-04-17T20:26:27.576775",
     "exception": false,
     "start_time": "2021-04-17T20:26:27.549760",
     "status": "completed"
    },
    "tags": []
   },
   "outputs": [],
   "source": [
    "start = job.loc[:,[\"org\",\"repo\",\"project\",\"id\",\"runid\",\"startedat\"]]\n",
    "start[\"value\"] = 1\n",
    "start = start.rename(columns={\"startedat\":\"date\"})\n",
    "\n",
    "end = job.loc[:,[\"org\",\"repo\",\"project\",\"id\",\"runid\",\"completedat\"]]\n",
    "end[\"value\"] = -1\n",
    "end = end.rename(columns={\"completedat\":\"date\"})\n",
    "events = pd.concat([start, end]).sort_values(\"date\")\n",
    "events[\"running\"] = events.value.cumsum()\n"
   ]
  },
  {
   "cell_type": "markdown",
   "id": "037a2fd8",
   "metadata": {
    "papermill": {
     "duration": 0.014384,
     "end_time": "2021-04-17T20:26:27.604248",
     "exception": false,
     "start_time": "2021-04-17T20:26:27.589864",
     "status": "completed"
    },
    "tags": []
   },
   "source": [
    "## Average (12h window) parallel running/queued job at a given time"
   ]
  },
  {
   "cell_type": "code",
   "execution_count": 18,
   "id": "bcd2b3b3",
   "metadata": {
    "execution": {
     "iopub.execute_input": "2021-04-17T20:26:27.637750Z",
     "iopub.status.busy": "2021-04-17T20:26:27.637379Z",
     "iopub.status.idle": "2021-04-17T20:26:27.781349Z",
     "shell.execute_reply": "2021-04-17T20:26:27.780967Z"
    },
    "jupyter": {
     "source_hidden": true
    },
    "papermill": {
     "duration": 0.162195,
     "end_time": "2021-04-17T20:26:27.781443",
     "exception": false,
     "start_time": "2021-04-17T20:26:27.619248",
     "status": "completed"
    },
    "tags": []
   },
   "outputs": [
    {
     "data": {
      "image/png": "[encoded data removed]",
      "text/plain": [
       "<Figure size 1440x576 with 1 Axes>"
      ]
     },
     "metadata": {
      "needs_background": "light"
     },
     "output_type": "display_data"
    }
   ],
   "source": [
    "\n",
    "r = events.set_index('date')\n",
    "r = r.sort_index()\n",
    "r = r.resample(\"12H\").mean().fillna(0)\n",
    "\n",
    "plt.figure(figsize=(20,8))\n",
    "plt.plot(r.index,r.running)\n",
    "plt.show()"
   ]
  },
  {
   "cell_type": "code",
   "execution_count": 19,
   "id": "6b040f01",
   "metadata": {
    "execution": {
     "iopub.execute_input": "2021-04-17T20:26:27.813368Z",
     "iopub.status.busy": "2021-04-17T20:26:27.812987Z",
     "iopub.status.idle": "2021-04-17T20:26:27.814938Z",
     "shell.execute_reply": "2021-04-17T20:26:27.814605Z"
    },
    "jupyter": {
     "source_hidden": true
    },
    "papermill": {
     "duration": 0.018945,
     "end_time": "2021-04-17T20:26:27.815032",
     "exception": false,
     "start_time": "2021-04-17T20:26:27.796087",
     "status": "completed"
    },
    "tags": []
   },
   "outputs": [],
   "source": [
    "## Max (12h window) parallel running/queued job at a given time"
   ]
  },
  {
   "cell_type": "code",
   "execution_count": 20,
   "id": "178184c3",
   "metadata": {
    "execution": {
     "iopub.execute_input": "2021-04-17T20:26:27.850673Z",
     "iopub.status.busy": "2021-04-17T20:26:27.850284Z",
     "iopub.status.idle": "2021-04-17T20:26:28.019867Z",
     "shell.execute_reply": "2021-04-17T20:26:28.019513Z"
    },
    "jupyter": {
     "source_hidden": true
    },
    "papermill": {
     "duration": 0.18987,
     "end_time": "2021-04-17T20:26:28.019957",
     "exception": false,
     "start_time": "2021-04-17T20:26:27.830087",
     "status": "completed"
    },
    "tags": []
   },
   "outputs": [
    {
     "data": {
      "image/png": "[encoded data removed]",
      "text/plain": [
       "<Figure size 1440x576 with 1 Axes>"
      ]
     },
     "metadata": {
      "needs_background": "light"
     },
     "output_type": "display_data"
    }
   ],
   "source": [
    "\n",
    "r = events.set_index('date')\n",
    "r = r.sort_index()\n",
    "r = r.resample(\"12H\").max().fillna(0)\n",
    "\n",
    "plt.figure(figsize=(20,8))\n",
    "plt.plot(r.index,r.running)\n",
    "plt.show()"
   ]
  },
  {
   "cell_type": "code",
   "execution_count": null,
   "id": "5de0d6bb",
   "metadata": {
    "jupyter": {
     "source_hidden": true
    },
    "papermill": {
     "duration": 0.015598,
     "end_time": "2021-04-17T20:26:28.051096",
     "exception": false,
     "start_time": "2021-04-17T20:26:28.035498",
     "status": "completed"
    },
    "tags": []
   },
   "outputs": [],
   "source": []
  }
 ],
 "metadata": {
  "kernelspec": {
   "display_name": "Python 3",
   "language": "python",
   "name": "python3"
  },
  "language_info": {
   "codemirror_mode": {
    "name": "ipython",
    "version": 3
   },
   "file_extension": ".py",
   "mimetype": "text/x-python",
   "name": "python",
   "nbconvert_exporter": "python",
   "pygments_lexer": "ipython3",
   "version": "3.8.8"
  },
  "papermill": {
   "default_parameters": {},
   "duration": 13.202979,
   "end_time": "2021-04-17T20:26:29.358241",
   "environment_variables": {},
   "exception": null,
   "input_path": "per-project-usage.ipynb",
   "output_path": "per-project-usage-nifi.ipynb",
   "parameters": {
    "project": "nifi"
   },
   "start_time": "2021-04-17T20:26:16.155262",
   "version": "2.3.3"
  }
 },
 "nbformat": 4,
 "nbformat_minor": 5
}