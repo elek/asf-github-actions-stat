{
 "cells": [
  {
   "cell_type": "code",
   "execution_count": 1,
   "id": "d082e9a8",
   "metadata": {
    "execution": {
     "iopub.execute_input": "2021-04-17T20:26:59.050862Z",
     "iopub.status.busy": "2021-04-17T20:26:59.049961Z",
     "iopub.status.idle": "2021-04-17T20:26:59.457359Z",
     "shell.execute_reply": "2021-04-17T20:26:59.456886Z"
    },
    "jupyter": {
     "source_hidden": true
    },
    "papermill": {
     "duration": 0.454183,
     "end_time": "2021-04-17T20:26:59.457460",
     "exception": false,
     "start_time": "2021-04-17T20:26:59.003277",
     "status": "completed"
    },
    "tags": []
   },
   "outputs": [],
   "source": [
    "import pandas as pd\n",
    "import matplotlib.pyplot as plt\n",
    "pd.set_option('display.max_rows', 500)\n"
   ]
  },
  {
   "cell_type": "code",
   "execution_count": 2,
   "id": "32b68fdb",
   "metadata": {
    "execution": {
     "iopub.execute_input": "2021-04-17T20:26:59.485501Z",
     "iopub.status.busy": "2021-04-17T20:26:59.484976Z",
     "iopub.status.idle": "2021-04-17T20:26:59.486745Z",
     "shell.execute_reply": "2021-04-17T20:26:59.487072Z"
    },
    "jupyter": {
     "source_hidden": true
    },
    "papermill": {
     "duration": 0.016871,
     "end_time": "2021-04-17T20:26:59.487177",
     "exception": false,
     "start_time": "2021-04-17T20:26:59.470306",
     "status": "completed"
    },
    "tags": []
   },
   "outputs": [],
   "source": [
    "def asf_project(pr):\n",
    "    name = pr.split(\"-\")[0]\n",
    "    if name == \"incubator\":\n",
    "        return pr.split(\"-\")[1]\n",
    "    return name"
   ]
  },
  {
   "cell_type": "code",
   "execution_count": 3,
   "id": "74ec6026",
   "metadata": {
    "execution": {
     "iopub.execute_input": "2021-04-17T20:26:59.513720Z",
     "iopub.status.busy": "2021-04-17T20:26:59.513301Z",
     "iopub.status.idle": "2021-04-17T20:26:59.515024Z",
     "shell.execute_reply": "2021-04-17T20:26:59.515491Z"
    },
    "jupyter": {
     "source_hidden": true
    },
    "papermill": {
     "duration": 0.016735,
     "end_time": "2021-04-17T20:26:59.515637",
     "exception": false,
     "start_time": "2021-04-17T20:26:59.498902",
     "status": "completed"
    },
    "tags": [
     "parameters"
    ]
   },
   "outputs": [],
   "source": [
    "project = \"ozone\""
   ]
  },
  {
   "cell_type": "code",
   "execution_count": 4,
   "id": "9c5775ab",
   "metadata": {
    "execution": {
     "iopub.execute_input": "2021-04-17T20:26:59.539100Z",
     "iopub.status.busy": "2021-04-17T20:26:59.538692Z",
     "iopub.status.idle": "2021-04-17T20:26:59.540330Z",
     "shell.execute_reply": "2021-04-17T20:26:59.539984Z"
    },
    "jupyter": {
     "source_hidden": true
    },
    "papermill": {
     "duration": 0.014118,
     "end_time": "2021-04-17T20:26:59.540407",
     "exception": false,
     "start_time": "2021-04-17T20:26:59.526289",
     "status": "completed"
    },
    "tags": [
     "injected-parameters"
    ]
   },
   "outputs": [],
   "source": [
    "# Parameters\n",
    "project = \"netbeans\"\n"
   ]
  },
  {
   "cell_type": "code",
   "execution_count": 5,
   "id": "b23761a7",
   "metadata": {
    "execution": {
     "iopub.execute_input": "2021-04-17T20:26:59.564263Z",
     "iopub.status.busy": "2021-04-17T20:26:59.563819Z",
     "iopub.status.idle": "2021-04-17T20:27:01.463680Z",
     "shell.execute_reply": "2021-04-17T20:27:01.463971Z"
    },
    "jupyter": {
     "source_hidden": true
    },
    "papermill": {
     "duration": 1.91346,
     "end_time": "2021-04-17T20:27:01.464091",
     "exception": false,
     "start_time": "2021-04-17T20:26:59.550631",
     "status": "completed"
    },
    "tags": []
   },
   "outputs": [],
   "source": [
    "actions = pd.read_csv(\"github-action-run.csv.gz\")\n",
    "                          \n",
    "actions.createdat = pd.to_datetime(actions.createdat * 1000000, utc = True)\n",
    "actions.updatedat = pd.to_datetime(actions.updatedat * 1000000, utc = True)\n",
    "actions.firstjobstarted = pd.to_datetime(actions.firstjobstarted * 1000000, utc = True)\n",
    "actions.lastjobcompleted = pd.to_datetime(actions.lastjobcompleted * 1000000, utc = True)                "
   ]
  },
  {
   "cell_type": "code",
   "execution_count": 6,
   "id": "8e769288",
   "metadata": {
    "execution": {
     "iopub.execute_input": "2021-04-17T20:27:01.489286Z",
     "iopub.status.busy": "2021-04-17T20:27:01.488863Z",
     "iopub.status.idle": "2021-04-17T20:27:07.131882Z",
     "shell.execute_reply": "2021-04-17T20:27:07.131437Z"
    },
    "jupyter": {
     "source_hidden": true
    },
    "papermill": {
     "duration": 5.656752,
     "end_time": "2021-04-17T20:27:07.131965",
     "exception": false,
     "start_time": "2021-04-17T20:27:01.475213",
     "status": "completed"
    },
    "tags": []
   },
   "outputs": [],
   "source": [
    "actions[\"project\"] = actions.repo.apply(asf_project)\n",
    "actions[\"jobhours\"] = actions.jobseconds / 60 / 60\n",
    "actions[\"month\"] = actions.createdat.dt.strftime(\"%Y-%m\")"
   ]
  },
  {
   "cell_type": "code",
   "execution_count": 7,
   "id": "8b56b084",
   "metadata": {
    "execution": {
     "iopub.execute_input": "2021-04-17T20:27:07.202064Z",
     "iopub.status.busy": "2021-04-17T20:27:07.201626Z",
     "iopub.status.idle": "2021-04-17T20:27:07.394364Z",
     "shell.execute_reply": "2021-04-17T20:27:07.393974Z"
    },
    "jupyter": {
     "source_hidden": true
    },
    "papermill": {
     "duration": 0.25181,
     "end_time": "2021-04-17T20:27:07.394463",
     "exception": false,
     "start_time": "2021-04-17T20:27:07.142653",
     "status": "completed"
    },
    "tags": []
   },
   "outputs": [],
   "source": [
    "actions =  actions[actions.month.isin([\"2021-03\",\"2021-02\"])]\n",
    "last_month = \"2021-03\"\n",
    "actions = actions[actions.project == project]"
   ]
  },
  {
   "cell_type": "markdown",
   "id": "721a9d18",
   "metadata": {
    "papermill": {
     "duration": 0.010624,
     "end_time": "2021-04-17T20:27:07.416045",
     "exception": false,
     "start_time": "2021-04-17T20:27:07.405421",
     "status": "completed"
    },
    "tags": []
   },
   "source": [
    "## Number of jobhours used by month\n",
    "\n",
    "Maximum available value is 180 * 24 * days == 129600 (30 days) .. 133920 (31 days)"
   ]
  },
  {
   "cell_type": "code",
   "execution_count": 8,
   "id": "dacf8480",
   "metadata": {
    "execution": {
     "iopub.execute_input": "2021-04-17T20:27:07.447830Z",
     "iopub.status.busy": "2021-04-17T20:27:07.447463Z",
     "iopub.status.idle": "2021-04-17T20:27:07.456687Z",
     "shell.execute_reply": "2021-04-17T20:27:07.456333Z"
    },
    "jupyter": {
     "source_hidden": true
    },
    "papermill": {
     "duration": 0.030272,
     "end_time": "2021-04-17T20:27:07.456767",
     "exception": false,
     "start_time": "2021-04-17T20:27:07.426495",
     "status": "completed"
    },
    "tags": []
   },
   "outputs": [
    {
     "data": {
      "text/html": [
       "<div>\n",
       "<style scoped>\n",
       "    .dataframe tbody tr th:only-of-type {\n",
       "        vertical-align: middle;\n",
       "    }\n",
       "\n",
       "    .dataframe tbody tr th {\n",
       "        vertical-align: top;\n",
       "    }\n",
       "\n",
       "    .dataframe thead th {\n",
       "        text-align: right;\n",
       "    }\n",
       "</style>\n",
       "<table border=\"1\" class=\"dataframe\">\n",
       "  <thead>\n",
       "    <tr style=\"text-align: right;\">\n",
       "      <th></th>\n",
       "      <th>jobhours</th>\n",
       "    </tr>\n",
       "    <tr>\n",
       "      <th>month</th>\n",
       "      <th></th>\n",
       "    </tr>\n",
       "  </thead>\n",
       "  <tbody>\n",
       "    <tr>\n",
       "      <th>2021-02</th>\n",
       "      <td>215</td>\n",
       "    </tr>\n",
       "    <tr>\n",
       "      <th>2021-03</th>\n",
       "      <td>253</td>\n",
       "    </tr>\n",
       "  </tbody>\n",
       "</table>\n",
       "</div>"
      ],
      "text/plain": [
       "         jobhours\n",
       "month            \n",
       "2021-02       215\n",
       "2021-03       253"
      ]
     },
     "execution_count": 8,
     "metadata": {},
     "output_type": "execute_result"
    }
   ],
   "source": [
    "actions[[\"jobhours\"]].groupby([actions.project,actions.month]).count().reset_index().groupby(\"month\").sum()"
   ]
  },
  {
   "cell_type": "markdown",
   "id": "140070c9",
   "metadata": {
    "papermill": {
     "duration": 0.010686,
     "end_time": "2021-04-17T20:27:07.478070",
     "exception": false,
     "start_time": "2021-04-17T20:27:07.467384",
     "status": "completed"
    },
    "tags": []
   },
   "source": [
    "## Number of jobs executed by git repositories (last month)"
   ]
  },
  {
   "cell_type": "code",
   "execution_count": 9,
   "id": "3ade42e0",
   "metadata": {
    "execution": {
     "iopub.execute_input": "2021-04-17T20:27:07.510725Z",
     "iopub.status.busy": "2021-04-17T20:27:07.510354Z",
     "iopub.status.idle": "2021-04-17T20:27:07.512656Z",
     "shell.execute_reply": "2021-04-17T20:27:07.512298Z"
    },
    "jupyter": {
     "source_hidden": true
    },
    "papermill": {
     "duration": 0.024101,
     "end_time": "2021-04-17T20:27:07.512736",
     "exception": false,
     "start_time": "2021-04-17T20:27:07.488635",
     "status": "completed"
    },
    "tags": []
   },
   "outputs": [
    {
     "data": {
      "text/html": [
       "<div>\n",
       "<style scoped>\n",
       "    .dataframe tbody tr th:only-of-type {\n",
       "        vertical-align: middle;\n",
       "    }\n",
       "\n",
       "    .dataframe tbody tr th {\n",
       "        vertical-align: top;\n",
       "    }\n",
       "\n",
       "    .dataframe thead tr th {\n",
       "        text-align: left;\n",
       "    }\n",
       "\n",
       "    .dataframe thead tr:last-of-type th {\n",
       "        text-align: right;\n",
       "    }\n",
       "</style>\n",
       "<table border=\"1\" class=\"dataframe\">\n",
       "  <thead>\n",
       "    <tr>\n",
       "      <th></th>\n",
       "      <th colspan=\"3\" halign=\"left\">jobhours</th>\n",
       "    </tr>\n",
       "    <tr>\n",
       "      <th></th>\n",
       "      <th>sum</th>\n",
       "      <th>mean</th>\n",
       "      <th>max</th>\n",
       "    </tr>\n",
       "    <tr>\n",
       "      <th>repo</th>\n",
       "      <th></th>\n",
       "      <th></th>\n",
       "      <th></th>\n",
       "    </tr>\n",
       "  </thead>\n",
       "  <tbody>\n",
       "    <tr>\n",
       "      <th>netbeans</th>\n",
       "      <td>1305.354444</td>\n",
       "      <td>5.159504</td>\n",
       "      <td>6.463611</td>\n",
       "    </tr>\n",
       "  </tbody>\n",
       "</table>\n",
       "</div>"
      ],
      "text/plain": [
       "             jobhours                    \n",
       "                  sum      mean       max\n",
       "repo                                     \n",
       "netbeans  1305.354444  5.159504  6.463611"
      ]
     },
     "execution_count": 9,
     "metadata": {},
     "output_type": "execute_result"
    }
   ],
   "source": [
    "actions[actions.month == last_month][[\"repo\",\"jobhours\"]].groupby(\"repo\").agg({\"jobhours\":[\"sum\",\"mean\", \"max\"]}).sort_values(('jobhours',\"sum\"), ascending=False).head(20)"
   ]
  },
  {
   "cell_type": "markdown",
   "id": "1bb3512d",
   "metadata": {
    "papermill": {
     "duration": 0.010915,
     "end_time": "2021-04-17T20:27:07.535035",
     "exception": false,
     "start_time": "2021-04-17T20:27:07.524120",
     "status": "completed"
    },
    "tags": []
   },
   "source": [
    "## Job hour statustics per workflows"
   ]
  },
  {
   "cell_type": "code",
   "execution_count": 10,
   "id": "f95b2f4f",
   "metadata": {
    "execution": {
     "iopub.execute_input": "2021-04-17T20:27:07.561802Z",
     "iopub.status.busy": "2021-04-17T20:27:07.561423Z",
     "iopub.status.idle": "2021-04-17T20:27:07.572066Z",
     "shell.execute_reply": "2021-04-17T20:27:07.572338Z"
    },
    "jupyter": {
     "source_hidden": true
    },
    "papermill": {
     "duration": 0.026294,
     "end_time": "2021-04-17T20:27:07.572447",
     "exception": false,
     "start_time": "2021-04-17T20:27:07.546153",
     "status": "completed"
    },
    "tags": []
   },
   "outputs": [
    {
     "data": {
      "text/html": [
       "<div>\n",
       "<style scoped>\n",
       "    .dataframe tbody tr th:only-of-type {\n",
       "        vertical-align: middle;\n",
       "    }\n",
       "\n",
       "    .dataframe tbody tr th {\n",
       "        vertical-align: top;\n",
       "    }\n",
       "\n",
       "    .dataframe thead tr th {\n",
       "        text-align: left;\n",
       "    }\n",
       "\n",
       "    .dataframe thead tr:last-of-type th {\n",
       "        text-align: right;\n",
       "    }\n",
       "</style>\n",
       "<table border=\"1\" class=\"dataframe\">\n",
       "  <thead>\n",
       "    <tr>\n",
       "      <th></th>\n",
       "      <th></th>\n",
       "      <th colspan=\"3\" halign=\"left\">jobhours</th>\n",
       "    </tr>\n",
       "    <tr>\n",
       "      <th></th>\n",
       "      <th></th>\n",
       "      <th>sum</th>\n",
       "      <th>mean</th>\n",
       "      <th>max</th>\n",
       "    </tr>\n",
       "    <tr>\n",
       "      <th>repo</th>\n",
       "      <th>workflowid</th>\n",
       "      <th></th>\n",
       "      <th></th>\n",
       "      <th></th>\n",
       "    </tr>\n",
       "  </thead>\n",
       "  <tbody>\n",
       "    <tr>\n",
       "      <th rowspan=\"2\" valign=\"top\">netbeans</th>\n",
       "      <th>1391713</th>\n",
       "      <td>1305.258889</td>\n",
       "      <td>5.179599</td>\n",
       "      <td>6.463611</td>\n",
       "    </tr>\n",
       "    <tr>\n",
       "      <th>5273792</th>\n",
       "      <td>0.095556</td>\n",
       "      <td>0.095556</td>\n",
       "      <td>0.095556</td>\n",
       "    </tr>\n",
       "  </tbody>\n",
       "</table>\n",
       "</div>"
      ],
      "text/plain": [
       "                        jobhours                    \n",
       "                             sum      mean       max\n",
       "repo     workflowid                                 \n",
       "netbeans 1391713     1305.258889  5.179599  6.463611\n",
       "         5273792        0.095556  0.095556  0.095556"
      ]
     },
     "execution_count": 10,
     "metadata": {},
     "output_type": "execute_result"
    }
   ],
   "source": [
    "actions[actions.month == last_month][[\"repo\",\"workflowid\",\"jobhours\"]].groupby([\"repo\",\"workflowid\"]).agg({\"jobhours\":[\"sum\",\"mean\", \"max\"]}).sort_values(('jobhours',\"sum\"), ascending=False)"
   ]
  },
  {
   "cell_type": "markdown",
   "id": "d049adf1",
   "metadata": {
    "papermill": {
     "duration": 0.011034,
     "end_time": "2021-04-17T20:27:07.594980",
     "exception": false,
     "start_time": "2021-04-17T20:27:07.583946",
     "status": "completed"
    },
    "tags": []
   },
   "source": [
    "## Slowest workflow runs\n"
   ]
  },
  {
   "cell_type": "code",
   "execution_count": 11,
   "id": "347574a1",
   "metadata": {
    "execution": {
     "iopub.execute_input": "2021-04-17T20:27:07.621233Z",
     "iopub.status.busy": "2021-04-17T20:27:07.619986Z",
     "iopub.status.idle": "2021-04-17T20:27:07.637859Z",
     "shell.execute_reply": "2021-04-17T20:27:07.637507Z"
    },
    "jupyter": {
     "source_hidden": true
    },
    "papermill": {
     "duration": 0.031545,
     "end_time": "2021-04-17T20:27:07.637939",
     "exception": false,
     "start_time": "2021-04-17T20:27:07.606394",
     "status": "completed"
    },
    "tags": []
   },
   "outputs": [
    {
     "data": {
      "text/html": [
       "<div>\n",
       "<style scoped>\n",
       "    .dataframe tbody tr th:only-of-type {\n",
       "        vertical-align: middle;\n",
       "    }\n",
       "\n",
       "    .dataframe tbody tr th {\n",
       "        vertical-align: top;\n",
       "    }\n",
       "\n",
       "    .dataframe thead th {\n",
       "        text-align: right;\n",
       "    }\n",
       "</style>\n",
       "<table border=\"1\" class=\"dataframe\">\n",
       "  <thead>\n",
       "    <tr style=\"text-align: right;\">\n",
       "      <th></th>\n",
       "      <th>org</th>\n",
       "      <th>repo</th>\n",
       "      <th>id</th>\n",
       "      <th>runnumber</th>\n",
       "      <th>createdat</th>\n",
       "      <th>updatedat</th>\n",
       "      <th>status</th>\n",
       "      <th>conclusion</th>\n",
       "      <th>workflowid</th>\n",
       "      <th>firstjobstarted</th>\n",
       "      <th>lastjobcompleted</th>\n",
       "      <th>jobdetails</th>\n",
       "      <th>jobs</th>\n",
       "      <th>jobseconds</th>\n",
       "      <th>project</th>\n",
       "      <th>jobhours</th>\n",
       "      <th>month</th>\n",
       "    </tr>\n",
       "  </thead>\n",
       "  <tbody>\n",
       "    <tr>\n",
       "      <th>753161</th>\n",
       "      <td>apache</td>\n",
       "      <td>netbeans</td>\n",
       "      <td>593598833</td>\n",
       "      <td>2107</td>\n",
       "      <td>2021-02-23 19:04:27+00:00</td>\n",
       "      <td>2021-02-23 21:35:01+00:00</td>\n",
       "      <td>completed</td>\n",
       "      <td>failure</td>\n",
       "      <td>1391713</td>\n",
       "      <td>2021-02-23 19:04:43+00:00</td>\n",
       "      <td>2021-02-23 21:34:59+00:00</td>\n",
       "      <td>True</td>\n",
       "      <td>6</td>\n",
       "      <td>27975</td>\n",
       "      <td>netbeans</td>\n",
       "      <td>7.770833</td>\n",
       "      <td>2021-02</td>\n",
       "    </tr>\n",
       "    <tr>\n",
       "      <th>753170</th>\n",
       "      <td>apache</td>\n",
       "      <td>netbeans</td>\n",
       "      <td>595715196</td>\n",
       "      <td>2115</td>\n",
       "      <td>2021-02-24 10:29:23+00:00</td>\n",
       "      <td>2021-02-24 13:32:14+00:00</td>\n",
       "      <td>completed</td>\n",
       "      <td>success</td>\n",
       "      <td>1391713</td>\n",
       "      <td>2021-02-24 10:29:40+00:00</td>\n",
       "      <td>2021-02-24 13:32:07+00:00</td>\n",
       "      <td>True</td>\n",
       "      <td>6</td>\n",
       "      <td>25919</td>\n",
       "      <td>netbeans</td>\n",
       "      <td>7.199722</td>\n",
       "      <td>2021-02</td>\n",
       "    </tr>\n",
       "    <tr>\n",
       "      <th>753171</th>\n",
       "      <td>apache</td>\n",
       "      <td>netbeans</td>\n",
       "      <td>596546812</td>\n",
       "      <td>2116</td>\n",
       "      <td>2021-02-24 15:46:07+00:00</td>\n",
       "      <td>2021-02-24 18:32:41+00:00</td>\n",
       "      <td>completed</td>\n",
       "      <td>failure</td>\n",
       "      <td>1391713</td>\n",
       "      <td>2021-02-24 15:46:31+00:00</td>\n",
       "      <td>2021-02-24 18:24:22+00:00</td>\n",
       "      <td>True</td>\n",
       "      <td>6</td>\n",
       "      <td>23784</td>\n",
       "      <td>netbeans</td>\n",
       "      <td>6.606667</td>\n",
       "      <td>2021-02</td>\n",
       "    </tr>\n",
       "    <tr>\n",
       "      <th>753082</th>\n",
       "      <td>apache</td>\n",
       "      <td>netbeans</td>\n",
       "      <td>561496364</td>\n",
       "      <td>2036</td>\n",
       "      <td>2021-02-12 15:59:23+00:00</td>\n",
       "      <td>2021-02-12 18:23:13+00:00</td>\n",
       "      <td>completed</td>\n",
       "      <td>success</td>\n",
       "      <td>1391713</td>\n",
       "      <td>2021-02-12 15:59:35+00:00</td>\n",
       "      <td>2021-02-12 18:23:06+00:00</td>\n",
       "      <td>True</td>\n",
       "      <td>6</td>\n",
       "      <td>23364</td>\n",
       "      <td>netbeans</td>\n",
       "      <td>6.490000</td>\n",
       "      <td>2021-02</td>\n",
       "    </tr>\n",
       "    <tr>\n",
       "      <th>753113</th>\n",
       "      <td>apache</td>\n",
       "      <td>netbeans</td>\n",
       "      <td>572568146</td>\n",
       "      <td>2064</td>\n",
       "      <td>2021-02-16 18:57:57+00:00</td>\n",
       "      <td>2021-02-16 21:38:15+00:00</td>\n",
       "      <td>completed</td>\n",
       "      <td>success</td>\n",
       "      <td>1391713</td>\n",
       "      <td>2021-02-16 18:58:10+00:00</td>\n",
       "      <td>2021-02-16 21:36:41+00:00</td>\n",
       "      <td>True</td>\n",
       "      <td>6</td>\n",
       "      <td>23281</td>\n",
       "      <td>netbeans</td>\n",
       "      <td>6.466944</td>\n",
       "      <td>2021-02</td>\n",
       "    </tr>\n",
       "    <tr>\n",
       "      <th>753342</th>\n",
       "      <td>apache</td>\n",
       "      <td>netbeans</td>\n",
       "      <td>678689874</td>\n",
       "      <td>2271</td>\n",
       "      <td>2021-03-23 06:54:28+00:00</td>\n",
       "      <td>2021-03-23 09:34:42+00:00</td>\n",
       "      <td>completed</td>\n",
       "      <td>failure</td>\n",
       "      <td>1391713</td>\n",
       "      <td>2021-03-23 06:54:35+00:00</td>\n",
       "      <td>2021-03-23 09:28:00+00:00</td>\n",
       "      <td>True</td>\n",
       "      <td>6</td>\n",
       "      <td>23269</td>\n",
       "      <td>netbeans</td>\n",
       "      <td>6.463611</td>\n",
       "      <td>2021-03</td>\n",
       "    </tr>\n",
       "    <tr>\n",
       "      <th>753257</th>\n",
       "      <td>apache</td>\n",
       "      <td>netbeans</td>\n",
       "      <td>646488476</td>\n",
       "      <td>2194</td>\n",
       "      <td>2021-03-12 14:30:22+00:00</td>\n",
       "      <td>2021-03-12 17:12:58+00:00</td>\n",
       "      <td>completed</td>\n",
       "      <td>success</td>\n",
       "      <td>1391713</td>\n",
       "      <td>2021-03-12 14:30:35+00:00</td>\n",
       "      <td>2021-03-12 17:02:52+00:00</td>\n",
       "      <td>True</td>\n",
       "      <td>6</td>\n",
       "      <td>23115</td>\n",
       "      <td>netbeans</td>\n",
       "      <td>6.420833</td>\n",
       "      <td>2021-03</td>\n",
       "    </tr>\n",
       "    <tr>\n",
       "      <th>753104</th>\n",
       "      <td>apache</td>\n",
       "      <td>netbeans</td>\n",
       "      <td>571281243</td>\n",
       "      <td>2056</td>\n",
       "      <td>2021-02-16 10:24:17+00:00</td>\n",
       "      <td>2021-02-16 13:04:39+00:00</td>\n",
       "      <td>completed</td>\n",
       "      <td>success</td>\n",
       "      <td>1391713</td>\n",
       "      <td>2021-02-16 10:24:33+00:00</td>\n",
       "      <td>2021-02-16 13:00:48+00:00</td>\n",
       "      <td>True</td>\n",
       "      <td>6</td>\n",
       "      <td>23099</td>\n",
       "      <td>netbeans</td>\n",
       "      <td>6.416389</td>\n",
       "      <td>2021-02</td>\n",
       "    </tr>\n",
       "    <tr>\n",
       "      <th>753235</th>\n",
       "      <td>apache</td>\n",
       "      <td>netbeans</td>\n",
       "      <td>638434953</td>\n",
       "      <td>2174</td>\n",
       "      <td>2021-03-10 07:06:28+00:00</td>\n",
       "      <td>2021-03-10 09:47:31+00:00</td>\n",
       "      <td>completed</td>\n",
       "      <td>success</td>\n",
       "      <td>1391713</td>\n",
       "      <td>2021-03-10 07:06:43+00:00</td>\n",
       "      <td>2021-03-10 09:38:39+00:00</td>\n",
       "      <td>True</td>\n",
       "      <td>6</td>\n",
       "      <td>23057</td>\n",
       "      <td>netbeans</td>\n",
       "      <td>6.404722</td>\n",
       "      <td>2021-03</td>\n",
       "    </tr>\n",
       "    <tr>\n",
       "      <th>753234</th>\n",
       "      <td>apache</td>\n",
       "      <td>netbeans</td>\n",
       "      <td>638033679</td>\n",
       "      <td>2173</td>\n",
       "      <td>2021-03-10 03:53:40+00:00</td>\n",
       "      <td>2021-03-10 06:33:55+00:00</td>\n",
       "      <td>completed</td>\n",
       "      <td>success</td>\n",
       "      <td>1391713</td>\n",
       "      <td>2021-03-10 03:53:50+00:00</td>\n",
       "      <td>2021-03-10 06:29:38+00:00</td>\n",
       "      <td>True</td>\n",
       "      <td>6</td>\n",
       "      <td>23044</td>\n",
       "      <td>netbeans</td>\n",
       "      <td>6.401111</td>\n",
       "      <td>2021-03</td>\n",
       "    </tr>\n",
       "    <tr>\n",
       "      <th>753258</th>\n",
       "      <td>apache</td>\n",
       "      <td>netbeans</td>\n",
       "      <td>646746509</td>\n",
       "      <td>2195</td>\n",
       "      <td>2021-03-12 16:04:04+00:00</td>\n",
       "      <td>2021-03-12 18:49:31+00:00</td>\n",
       "      <td>completed</td>\n",
       "      <td>success</td>\n",
       "      <td>1391713</td>\n",
       "      <td>2021-03-12 16:04:37+00:00</td>\n",
       "      <td>2021-03-12 18:44:58+00:00</td>\n",
       "      <td>True</td>\n",
       "      <td>6</td>\n",
       "      <td>23015</td>\n",
       "      <td>netbeans</td>\n",
       "      <td>6.393056</td>\n",
       "      <td>2021-03</td>\n",
       "    </tr>\n",
       "    <tr>\n",
       "      <th>753058</th>\n",
       "      <td>apache</td>\n",
       "      <td>netbeans</td>\n",
       "      <td>558062754</td>\n",
       "      <td>2014</td>\n",
       "      <td>2021-02-11 14:20:05+00:00</td>\n",
       "      <td>2021-02-11 17:11:21+00:00</td>\n",
       "      <td>completed</td>\n",
       "      <td>failure</td>\n",
       "      <td>1391713</td>\n",
       "      <td>2021-02-11 14:20:19+00:00</td>\n",
       "      <td>2021-02-11 17:11:15+00:00</td>\n",
       "      <td>True</td>\n",
       "      <td>6</td>\n",
       "      <td>23013</td>\n",
       "      <td>netbeans</td>\n",
       "      <td>6.392500</td>\n",
       "      <td>2021-02</td>\n",
       "    </tr>\n",
       "    <tr>\n",
       "      <th>753076</th>\n",
       "      <td>apache</td>\n",
       "      <td>netbeans</td>\n",
       "      <td>560696162</td>\n",
       "      <td>2030</td>\n",
       "      <td>2021-02-12 10:22:50+00:00</td>\n",
       "      <td>2021-02-13 14:33:57+00:00</td>\n",
       "      <td>completed</td>\n",
       "      <td>success</td>\n",
       "      <td>1391713</td>\n",
       "      <td>2021-02-13 11:49:37+00:00</td>\n",
       "      <td>2021-02-13 14:33:52+00:00</td>\n",
       "      <td>True</td>\n",
       "      <td>6</td>\n",
       "      <td>23012</td>\n",
       "      <td>netbeans</td>\n",
       "      <td>6.392222</td>\n",
       "      <td>2021-02</td>\n",
       "    </tr>\n",
       "    <tr>\n",
       "      <th>753281</th>\n",
       "      <td>apache</td>\n",
       "      <td>netbeans</td>\n",
       "      <td>657515984</td>\n",
       "      <td>2216</td>\n",
       "      <td>2021-03-16 12:20:58+00:00</td>\n",
       "      <td>2021-03-16 15:10:33+00:00</td>\n",
       "      <td>completed</td>\n",
       "      <td>failure</td>\n",
       "      <td>1391713</td>\n",
       "      <td>2021-03-16 12:21:10+00:00</td>\n",
       "      <td>2021-03-16 15:06:01+00:00</td>\n",
       "      <td>True</td>\n",
       "      <td>6</td>\n",
       "      <td>22941</td>\n",
       "      <td>netbeans</td>\n",
       "      <td>6.372500</td>\n",
       "      <td>2021-03</td>\n",
       "    </tr>\n",
       "    <tr>\n",
       "      <th>752975</th>\n",
       "      <td>apache</td>\n",
       "      <td>netbeans</td>\n",
       "      <td>533983003</td>\n",
       "      <td>1940</td>\n",
       "      <td>2021-02-03 13:21:43+00:00</td>\n",
       "      <td>2021-02-03 17:46:17+00:00</td>\n",
       "      <td>completed</td>\n",
       "      <td>success</td>\n",
       "      <td>1391713</td>\n",
       "      <td>2021-02-03 15:06:13+00:00</td>\n",
       "      <td>2021-02-03 17:37:33+00:00</td>\n",
       "      <td>True</td>\n",
       "      <td>6</td>\n",
       "      <td>22937</td>\n",
       "      <td>netbeans</td>\n",
       "      <td>6.371389</td>\n",
       "      <td>2021-02</td>\n",
       "    </tr>\n",
       "    <tr>\n",
       "      <th>753110</th>\n",
       "      <td>apache</td>\n",
       "      <td>netbeans</td>\n",
       "      <td>572228549</td>\n",
       "      <td>2061</td>\n",
       "      <td>2021-02-16 16:42:15+00:00</td>\n",
       "      <td>2021-02-16 19:22:31+00:00</td>\n",
       "      <td>completed</td>\n",
       "      <td>success</td>\n",
       "      <td>1391713</td>\n",
       "      <td>2021-02-16 16:42:25+00:00</td>\n",
       "      <td>2021-02-16 19:16:12+00:00</td>\n",
       "      <td>True</td>\n",
       "      <td>6</td>\n",
       "      <td>22909</td>\n",
       "      <td>netbeans</td>\n",
       "      <td>6.363611</td>\n",
       "      <td>2021-02</td>\n",
       "    </tr>\n",
       "    <tr>\n",
       "      <th>753149</th>\n",
       "      <td>apache</td>\n",
       "      <td>netbeans</td>\n",
       "      <td>590195557</td>\n",
       "      <td>2097</td>\n",
       "      <td>2021-02-22 19:03:17+00:00</td>\n",
       "      <td>2021-02-22 21:49:22+00:00</td>\n",
       "      <td>completed</td>\n",
       "      <td>success</td>\n",
       "      <td>1391713</td>\n",
       "      <td>2021-02-22 19:03:36+00:00</td>\n",
       "      <td>2021-02-22 21:44:44+00:00</td>\n",
       "      <td>True</td>\n",
       "      <td>6</td>\n",
       "      <td>22808</td>\n",
       "      <td>netbeans</td>\n",
       "      <td>6.335556</td>\n",
       "      <td>2021-02</td>\n",
       "    </tr>\n",
       "    <tr>\n",
       "      <th>753194</th>\n",
       "      <td>apache</td>\n",
       "      <td>netbeans</td>\n",
       "      <td>610154716</td>\n",
       "      <td>2137</td>\n",
       "      <td>2021-03-01 10:41:12+00:00</td>\n",
       "      <td>2021-03-02 17:10:52+00:00</td>\n",
       "      <td>completed</td>\n",
       "      <td>success</td>\n",
       "      <td>1391713</td>\n",
       "      <td>2021-03-02 14:19:58+00:00</td>\n",
       "      <td>2021-03-02 17:09:31+00:00</td>\n",
       "      <td>True</td>\n",
       "      <td>6</td>\n",
       "      <td>22780</td>\n",
       "      <td>netbeans</td>\n",
       "      <td>6.327778</td>\n",
       "      <td>2021-03</td>\n",
       "    </tr>\n",
       "    <tr>\n",
       "      <th>753178</th>\n",
       "      <td>apache</td>\n",
       "      <td>netbeans</td>\n",
       "      <td>600067660</td>\n",
       "      <td>2122</td>\n",
       "      <td>2021-02-25 16:33:17+00:00</td>\n",
       "      <td>2021-02-25 19:19:10+00:00</td>\n",
       "      <td>completed</td>\n",
       "      <td>success</td>\n",
       "      <td>1391713</td>\n",
       "      <td>2021-02-25 16:33:52+00:00</td>\n",
       "      <td>2021-02-25 19:14:18+00:00</td>\n",
       "      <td>True</td>\n",
       "      <td>6</td>\n",
       "      <td>22757</td>\n",
       "      <td>netbeans</td>\n",
       "      <td>6.321389</td>\n",
       "      <td>2021-02</td>\n",
       "    </tr>\n",
       "    <tr>\n",
       "      <th>753167</th>\n",
       "      <td>apache</td>\n",
       "      <td>netbeans</td>\n",
       "      <td>595254851</td>\n",
       "      <td>2112</td>\n",
       "      <td>2021-02-24 07:24:03+00:00</td>\n",
       "      <td>2021-02-24 11:04:44+00:00</td>\n",
       "      <td>completed</td>\n",
       "      <td>success</td>\n",
       "      <td>1391713</td>\n",
       "      <td>2021-02-24 08:39:54+00:00</td>\n",
       "      <td>2021-02-24 11:04:38+00:00</td>\n",
       "      <td>True</td>\n",
       "      <td>6</td>\n",
       "      <td>22719</td>\n",
       "      <td>netbeans</td>\n",
       "      <td>6.310833</td>\n",
       "      <td>2021-02</td>\n",
       "    </tr>\n",
       "    <tr>\n",
       "      <th>753278</th>\n",
       "      <td>apache</td>\n",
       "      <td>netbeans</td>\n",
       "      <td>656558409</td>\n",
       "      <td>2213</td>\n",
       "      <td>2021-03-16 06:00:56+00:00</td>\n",
       "      <td>2021-03-16 08:41:12+00:00</td>\n",
       "      <td>completed</td>\n",
       "      <td>success</td>\n",
       "      <td>1391713</td>\n",
       "      <td>2021-03-16 06:01:04+00:00</td>\n",
       "      <td>2021-03-16 08:33:42+00:00</td>\n",
       "      <td>True</td>\n",
       "      <td>6</td>\n",
       "      <td>22710</td>\n",
       "      <td>netbeans</td>\n",
       "      <td>6.308333</td>\n",
       "      <td>2021-03</td>\n",
       "    </tr>\n",
       "    <tr>\n",
       "      <th>753212</th>\n",
       "      <td>apache</td>\n",
       "      <td>netbeans</td>\n",
       "      <td>624796464</td>\n",
       "      <td>2153</td>\n",
       "      <td>2021-03-05 15:06:20+00:00</td>\n",
       "      <td>2021-03-05 17:47:52+00:00</td>\n",
       "      <td>completed</td>\n",
       "      <td>failure</td>\n",
       "      <td>1391713</td>\n",
       "      <td>2021-03-05 15:06:39+00:00</td>\n",
       "      <td>2021-03-05 17:47:44+00:00</td>\n",
       "      <td>True</td>\n",
       "      <td>6</td>\n",
       "      <td>22693</td>\n",
       "      <td>netbeans</td>\n",
       "      <td>6.303611</td>\n",
       "      <td>2021-03</td>\n",
       "    </tr>\n",
       "    <tr>\n",
       "      <th>753128</th>\n",
       "      <td>apache</td>\n",
       "      <td>netbeans</td>\n",
       "      <td>578825564</td>\n",
       "      <td>2078</td>\n",
       "      <td>2021-02-18 16:57:05+00:00</td>\n",
       "      <td>2021-02-18 19:37:23+00:00</td>\n",
       "      <td>completed</td>\n",
       "      <td>success</td>\n",
       "      <td>1391713</td>\n",
       "      <td>2021-02-18 16:57:18+00:00</td>\n",
       "      <td>2021-02-18 19:34:58+00:00</td>\n",
       "      <td>True</td>\n",
       "      <td>6</td>\n",
       "      <td>22671</td>\n",
       "      <td>netbeans</td>\n",
       "      <td>6.297500</td>\n",
       "      <td>2021-02</td>\n",
       "    </tr>\n",
       "    <tr>\n",
       "      <th>753261</th>\n",
       "      <td>apache</td>\n",
       "      <td>netbeans</td>\n",
       "      <td>647283942</td>\n",
       "      <td>2198</td>\n",
       "      <td>2021-03-12 20:00:09+00:00</td>\n",
       "      <td>2021-03-12 22:40:23+00:00</td>\n",
       "      <td>completed</td>\n",
       "      <td>failure</td>\n",
       "      <td>1391713</td>\n",
       "      <td>2021-03-12 20:00:17+00:00</td>\n",
       "      <td>2021-03-12 22:40:17+00:00</td>\n",
       "      <td>True</td>\n",
       "      <td>6</td>\n",
       "      <td>22660</td>\n",
       "      <td>netbeans</td>\n",
       "      <td>6.294444</td>\n",
       "      <td>2021-03</td>\n",
       "    </tr>\n",
       "    <tr>\n",
       "      <th>753404</th>\n",
       "      <td>apache</td>\n",
       "      <td>netbeans</td>\n",
       "      <td>696479711</td>\n",
       "      <td>2327</td>\n",
       "      <td>2021-03-29 02:59:27+00:00</td>\n",
       "      <td>2021-03-29 05:27:59+00:00</td>\n",
       "      <td>completed</td>\n",
       "      <td>success</td>\n",
       "      <td>1391713</td>\n",
       "      <td>2021-03-29 02:59:46+00:00</td>\n",
       "      <td>2021-03-29 05:27:53+00:00</td>\n",
       "      <td>True</td>\n",
       "      <td>6</td>\n",
       "      <td>22585</td>\n",
       "      <td>netbeans</td>\n",
       "      <td>6.273611</td>\n",
       "      <td>2021-03</td>\n",
       "    </tr>\n",
       "  </tbody>\n",
       "</table>\n",
       "</div>"
      ],
      "text/plain": [
       "           org      repo         id  runnumber                 createdat  \\\n",
       "753161  apache  netbeans  593598833       2107 2021-02-23 19:04:27+00:00   \n",
       "753170  apache  netbeans  595715196       2115 2021-02-24 10:29:23+00:00   \n",
       "753171  apache  netbeans  596546812       2116 2021-02-24 15:46:07+00:00   \n",
       "753082  apache  netbeans  561496364       2036 2021-02-12 15:59:23+00:00   \n",
       "753113  apache  netbeans  572568146       2064 2021-02-16 18:57:57+00:00   \n",
       "753342  apache  netbeans  678689874       2271 2021-03-23 06:54:28+00:00   \n",
       "753257  apache  netbeans  646488476       2194 2021-03-12 14:30:22+00:00   \n",
       "753104  apache  netbeans  571281243       2056 2021-02-16 10:24:17+00:00   \n",
       "753235  apache  netbeans  638434953       2174 2021-03-10 07:06:28+00:00   \n",
       "753234  apache  netbeans  638033679       2173 2021-03-10 03:53:40+00:00   \n",
       "753258  apache  netbeans  646746509       2195 2021-03-12 16:04:04+00:00   \n",
       "753058  apache  netbeans  558062754       2014 2021-02-11 14:20:05+00:00   \n",
       "753076  apache  netbeans  560696162       2030 2021-02-12 10:22:50+00:00   \n",
       "753281  apache  netbeans  657515984       2216 2021-03-16 12:20:58+00:00   \n",
       "752975  apache  netbeans  533983003       1940 2021-02-03 13:21:43+00:00   \n",
       "753110  apache  netbeans  572228549       2061 2021-02-16 16:42:15+00:00   \n",
       "753149  apache  netbeans  590195557       2097 2021-02-22 19:03:17+00:00   \n",
       "753194  apache  netbeans  610154716       2137 2021-03-01 10:41:12+00:00   \n",
       "753178  apache  netbeans  600067660       2122 2021-02-25 16:33:17+00:00   \n",
       "753167  apache  netbeans  595254851       2112 2021-02-24 07:24:03+00:00   \n",
       "753278  apache  netbeans  656558409       2213 2021-03-16 06:00:56+00:00   \n",
       "753212  apache  netbeans  624796464       2153 2021-03-05 15:06:20+00:00   \n",
       "753128  apache  netbeans  578825564       2078 2021-02-18 16:57:05+00:00   \n",
       "753261  apache  netbeans  647283942       2198 2021-03-12 20:00:09+00:00   \n",
       "753404  apache  netbeans  696479711       2327 2021-03-29 02:59:27+00:00   \n",
       "\n",
       "                       updatedat     status conclusion  workflowid  \\\n",
       "753161 2021-02-23 21:35:01+00:00  completed    failure     1391713   \n",
       "753170 2021-02-24 13:32:14+00:00  completed    success     1391713   \n",
       "753171 2021-02-24 18:32:41+00:00  completed    failure     1391713   \n",
       "753082 2021-02-12 18:23:13+00:00  completed    success     1391713   \n",
       "753113 2021-02-16 21:38:15+00:00  completed    success     1391713   \n",
       "753342 2021-03-23 09:34:42+00:00  completed    failure     1391713   \n",
       "753257 2021-03-12 17:12:58+00:00  completed    success     1391713   \n",
       "753104 2021-02-16 13:04:39+00:00  completed    success     1391713   \n",
       "753235 2021-03-10 09:47:31+00:00  completed    success     1391713   \n",
       "753234 2021-03-10 06:33:55+00:00  completed    success     1391713   \n",
       "753258 2021-03-12 18:49:31+00:00  completed    success     1391713   \n",
       "753058 2021-02-11 17:11:21+00:00  completed    failure     1391713   \n",
       "753076 2021-02-13 14:33:57+00:00  completed    success     1391713   \n",
       "753281 2021-03-16 15:10:33+00:00  completed    failure     1391713   \n",
       "752975 2021-02-03 17:46:17+00:00  completed    success     1391713   \n",
       "753110 2021-02-16 19:22:31+00:00  completed    success     1391713   \n",
       "753149 2021-02-22 21:49:22+00:00  completed    success     1391713   \n",
       "753194 2021-03-02 17:10:52+00:00  completed    success     1391713   \n",
       "753178 2021-02-25 19:19:10+00:00  completed    success     1391713   \n",
       "753167 2021-02-24 11:04:44+00:00  completed    success     1391713   \n",
       "753278 2021-03-16 08:41:12+00:00  completed    success     1391713   \n",
       "753212 2021-03-05 17:47:52+00:00  completed    failure     1391713   \n",
       "753128 2021-02-18 19:37:23+00:00  completed    success     1391713   \n",
       "753261 2021-03-12 22:40:23+00:00  completed    failure     1391713   \n",
       "753404 2021-03-29 05:27:59+00:00  completed    success     1391713   \n",
       "\n",
       "                 firstjobstarted          lastjobcompleted  jobdetails  jobs  \\\n",
       "753161 2021-02-23 19:04:43+00:00 2021-02-23 21:34:59+00:00        True     6   \n",
       "753170 2021-02-24 10:29:40+00:00 2021-02-24 13:32:07+00:00        True     6   \n",
       "753171 2021-02-24 15:46:31+00:00 2021-02-24 18:24:22+00:00        True     6   \n",
       "753082 2021-02-12 15:59:35+00:00 2021-02-12 18:23:06+00:00        True     6   \n",
       "753113 2021-02-16 18:58:10+00:00 2021-02-16 21:36:41+00:00        True     6   \n",
       "753342 2021-03-23 06:54:35+00:00 2021-03-23 09:28:00+00:00        True     6   \n",
       "753257 2021-03-12 14:30:35+00:00 2021-03-12 17:02:52+00:00        True     6   \n",
       "753104 2021-02-16 10:24:33+00:00 2021-02-16 13:00:48+00:00        True     6   \n",
       "753235 2021-03-10 07:06:43+00:00 2021-03-10 09:38:39+00:00        True     6   \n",
       "753234 2021-03-10 03:53:50+00:00 2021-03-10 06:29:38+00:00        True     6   \n",
       "753258 2021-03-12 16:04:37+00:00 2021-03-12 18:44:58+00:00        True     6   \n",
       "753058 2021-02-11 14:20:19+00:00 2021-02-11 17:11:15+00:00        True     6   \n",
       "753076 2021-02-13 11:49:37+00:00 2021-02-13 14:33:52+00:00        True     6   \n",
       "753281 2021-03-16 12:21:10+00:00 2021-03-16 15:06:01+00:00        True     6   \n",
       "752975 2021-02-03 15:06:13+00:00 2021-02-03 17:37:33+00:00        True     6   \n",
       "753110 2021-02-16 16:42:25+00:00 2021-02-16 19:16:12+00:00        True     6   \n",
       "753149 2021-02-22 19:03:36+00:00 2021-02-22 21:44:44+00:00        True     6   \n",
       "753194 2021-03-02 14:19:58+00:00 2021-03-02 17:09:31+00:00        True     6   \n",
       "753178 2021-02-25 16:33:52+00:00 2021-02-25 19:14:18+00:00        True     6   \n",
       "753167 2021-02-24 08:39:54+00:00 2021-02-24 11:04:38+00:00        True     6   \n",
       "753278 2021-03-16 06:01:04+00:00 2021-03-16 08:33:42+00:00        True     6   \n",
       "753212 2021-03-05 15:06:39+00:00 2021-03-05 17:47:44+00:00        True     6   \n",
       "753128 2021-02-18 16:57:18+00:00 2021-02-18 19:34:58+00:00        True     6   \n",
       "753261 2021-03-12 20:00:17+00:00 2021-03-12 22:40:17+00:00        True     6   \n",
       "753404 2021-03-29 02:59:46+00:00 2021-03-29 05:27:53+00:00        True     6   \n",
       "\n",
       "        jobseconds   project  jobhours    month  \n",
       "753161       27975  netbeans  7.770833  2021-02  \n",
       "753170       25919  netbeans  7.199722  2021-02  \n",
       "753171       23784  netbeans  6.606667  2021-02  \n",
       "753082       23364  netbeans  6.490000  2021-02  \n",
       "753113       23281  netbeans  6.466944  2021-02  \n",
       "753342       23269  netbeans  6.463611  2021-03  \n",
       "753257       23115  netbeans  6.420833  2021-03  \n",
       "753104       23099  netbeans  6.416389  2021-02  \n",
       "753235       23057  netbeans  6.404722  2021-03  \n",
       "753234       23044  netbeans  6.401111  2021-03  \n",
       "753258       23015  netbeans  6.393056  2021-03  \n",
       "753058       23013  netbeans  6.392500  2021-02  \n",
       "753076       23012  netbeans  6.392222  2021-02  \n",
       "753281       22941  netbeans  6.372500  2021-03  \n",
       "752975       22937  netbeans  6.371389  2021-02  \n",
       "753110       22909  netbeans  6.363611  2021-02  \n",
       "753149       22808  netbeans  6.335556  2021-02  \n",
       "753194       22780  netbeans  6.327778  2021-03  \n",
       "753178       22757  netbeans  6.321389  2021-02  \n",
       "753167       22719  netbeans  6.310833  2021-02  \n",
       "753278       22710  netbeans  6.308333  2021-03  \n",
       "753212       22693  netbeans  6.303611  2021-03  \n",
       "753128       22671  netbeans  6.297500  2021-02  \n",
       "753261       22660  netbeans  6.294444  2021-03  \n",
       "753404       22585  netbeans  6.273611  2021-03  "
      ]
     },
     "execution_count": 11,
     "metadata": {},
     "output_type": "execute_result"
    }
   ],
   "source": [
    "actions.sort_values(\"jobhours\", ascending=False).head(25)"
   ]
  },
  {
   "cell_type": "code",
   "execution_count": 12,
   "id": "61e4972a",
   "metadata": {
    "execution": {
     "iopub.execute_input": "2021-04-17T20:27:07.665047Z",
     "iopub.status.busy": "2021-04-17T20:27:07.664665Z",
     "iopub.status.idle": "2021-04-17T20:27:08.893762Z",
     "shell.execute_reply": "2021-04-17T20:27:08.893352Z"
    },
    "jupyter": {
     "source_hidden": true
    },
    "papermill": {
     "duration": 1.243923,
     "end_time": "2021-04-17T20:27:08.893850",
     "exception": false,
     "start_time": "2021-04-17T20:27:07.649927",
     "status": "completed"
    },
    "tags": []
   },
   "outputs": [],
   "source": [
    "job = pd.read_csv(\"github-action-job.csv.gz\")                          \n",
    "job.startedat = pd.to_datetime(job.startedat * 1000000, utc = True)\n",
    "job.completedat = pd.to_datetime(job.completedat * 1000000, utc = True)\n",
    "job[\"project\"] = job.repo.apply(asf_project)"
   ]
  },
  {
   "cell_type": "code",
   "execution_count": 13,
   "id": "ecde7fc9",
   "metadata": {
    "execution": {
     "iopub.execute_input": "2021-04-17T20:27:08.921261Z",
     "iopub.status.busy": "2021-04-17T20:27:08.920870Z",
     "iopub.status.idle": "2021-04-17T20:27:08.951140Z",
     "shell.execute_reply": "2021-04-17T20:27:08.950810Z"
    },
    "jupyter": {
     "source_hidden": true
    },
    "papermill": {
     "duration": 0.045427,
     "end_time": "2021-04-17T20:27:08.951231",
     "exception": false,
     "start_time": "2021-04-17T20:27:08.905804",
     "status": "completed"
    },
    "tags": []
   },
   "outputs": [],
   "source": [
    "job[\"jobhours\"] = (job.completedat - job.startedat).dt.seconds / 60 / 60"
   ]
  },
  {
   "cell_type": "code",
   "execution_count": 14,
   "id": "8de7e1ed",
   "metadata": {
    "execution": {
     "iopub.execute_input": "2021-04-17T20:27:09.016342Z",
     "iopub.status.busy": "2021-04-17T20:27:09.015956Z",
     "iopub.status.idle": "2021-04-17T20:27:09.105835Z",
     "shell.execute_reply": "2021-04-17T20:27:09.105535Z"
    },
    "jupyter": {
     "source_hidden": true
    },
    "papermill": {
     "duration": 0.142474,
     "end_time": "2021-04-17T20:27:09.105933",
     "exception": false,
     "start_time": "2021-04-17T20:27:08.963459",
     "status": "completed"
    },
    "tags": []
   },
   "outputs": [],
   "source": [
    "job = job[job.project == project]"
   ]
  },
  {
   "cell_type": "markdown",
   "id": "1f3c7e3b",
   "metadata": {
    "papermill": {
     "duration": 0.011783,
     "end_time": "2021-04-17T20:27:09.129717",
     "exception": false,
     "start_time": "2021-04-17T20:27:09.117934",
     "status": "completed"
    },
    "tags": []
   },
   "source": [
    "## Slowest job executions by job names"
   ]
  },
  {
   "cell_type": "code",
   "execution_count": 15,
   "id": "ec32dec4",
   "metadata": {
    "execution": {
     "iopub.execute_input": "2021-04-17T20:27:09.160132Z",
     "iopub.status.busy": "2021-04-17T20:27:09.159769Z",
     "iopub.status.idle": "2021-04-17T20:27:09.168250Z",
     "shell.execute_reply": "2021-04-17T20:27:09.167893Z"
    },
    "jupyter": {
     "source_hidden": true
    },
    "papermill": {
     "duration": 0.026448,
     "end_time": "2021-04-17T20:27:09.168333",
     "exception": false,
     "start_time": "2021-04-17T20:27:09.141885",
     "status": "completed"
    },
    "tags": []
   },
   "outputs": [
    {
     "data": {
      "text/html": [
       "<div>\n",
       "<style scoped>\n",
       "    .dataframe tbody tr th:only-of-type {\n",
       "        vertical-align: middle;\n",
       "    }\n",
       "\n",
       "    .dataframe tbody tr th {\n",
       "        vertical-align: top;\n",
       "    }\n",
       "\n",
       "    .dataframe thead th {\n",
       "        text-align: right;\n",
       "    }\n",
       "</style>\n",
       "<table border=\"1\" class=\"dataframe\">\n",
       "  <thead>\n",
       "    <tr style=\"text-align: right;\">\n",
       "      <th></th>\n",
       "      <th>org</th>\n",
       "      <th>repo</th>\n",
       "      <th>name</th>\n",
       "      <th>jobhours</th>\n",
       "    </tr>\n",
       "  </thead>\n",
       "  <tbody>\n",
       "    <tr>\n",
       "      <th>6</th>\n",
       "      <td>apache</td>\n",
       "      <td>netbeans</td>\n",
       "      <td>Windows build</td>\n",
       "      <td>1111.389722</td>\n",
       "    </tr>\n",
       "    <tr>\n",
       "      <th>4</th>\n",
       "      <td>apache</td>\n",
       "      <td>netbeans</td>\n",
       "      <td>Linux build of PHP cluster</td>\n",
       "      <td>1012.700000</td>\n",
       "    </tr>\n",
       "    <tr>\n",
       "      <th>1</th>\n",
       "      <td>apache</td>\n",
       "      <td>netbeans</td>\n",
       "      <td>Check Javadoc build</td>\n",
       "      <td>425.168056</td>\n",
       "    </tr>\n",
       "    <tr>\n",
       "      <th>5</th>\n",
       "      <td>apache</td>\n",
       "      <td>netbeans</td>\n",
       "      <td>MacOS build</td>\n",
       "      <td>288.601667</td>\n",
       "    </tr>\n",
       "    <tr>\n",
       "      <th>3</th>\n",
       "      <td>apache</td>\n",
       "      <td>netbeans</td>\n",
       "      <td>Commit-validation (on Linux)</td>\n",
       "      <td>161.563333</td>\n",
       "    </tr>\n",
       "    <tr>\n",
       "      <th>0</th>\n",
       "      <td>apache</td>\n",
       "      <td>netbeans</td>\n",
       "      <td>Check Build System</td>\n",
       "      <td>102.330556</td>\n",
       "    </tr>\n",
       "    <tr>\n",
       "      <th>8</th>\n",
       "      <td>apache</td>\n",
       "      <td>netbeans</td>\n",
       "      <td>build-macos</td>\n",
       "      <td>0.407222</td>\n",
       "    </tr>\n",
       "    <tr>\n",
       "      <th>9</th>\n",
       "      <td>apache</td>\n",
       "      <td>netbeans</td>\n",
       "      <td>build-windows</td>\n",
       "      <td>0.357500</td>\n",
       "    </tr>\n",
       "    <tr>\n",
       "      <th>2</th>\n",
       "      <td>apache</td>\n",
       "      <td>netbeans</td>\n",
       "      <td>Commit Validation (on Linux)</td>\n",
       "      <td>0.283889</td>\n",
       "    </tr>\n",
       "    <tr>\n",
       "      <th>7</th>\n",
       "      <td>apache</td>\n",
       "      <td>netbeans</td>\n",
       "      <td>build-linux</td>\n",
       "      <td>0.216111</td>\n",
       "    </tr>\n",
       "    <tr>\n",
       "      <th>10</th>\n",
       "      <td>apache</td>\n",
       "      <td>netbeans</td>\n",
       "      <td>build-zip-with-build-artifacts</td>\n",
       "      <td>0.012222</td>\n",
       "    </tr>\n",
       "  </tbody>\n",
       "</table>\n",
       "</div>"
      ],
      "text/plain": [
       "       org      repo                            name     jobhours\n",
       "6   apache  netbeans                   Windows build  1111.389722\n",
       "4   apache  netbeans      Linux build of PHP cluster  1012.700000\n",
       "1   apache  netbeans             Check Javadoc build   425.168056\n",
       "5   apache  netbeans                     MacOS build   288.601667\n",
       "3   apache  netbeans    Commit-validation (on Linux)   161.563333\n",
       "0   apache  netbeans              Check Build System   102.330556\n",
       "8   apache  netbeans                     build-macos     0.407222\n",
       "9   apache  netbeans                   build-windows     0.357500\n",
       "2   apache  netbeans    Commit Validation (on Linux)     0.283889\n",
       "7   apache  netbeans                     build-linux     0.216111\n",
       "10  apache  netbeans  build-zip-with-build-artifacts     0.012222"
      ]
     },
     "execution_count": 15,
     "metadata": {},
     "output_type": "execute_result"
    }
   ],
   "source": [
    "job[[\"jobhours\"]].groupby([job.org,job.repo, job.name]).sum().reset_index().sort_values(\"jobhours\", ascending=False).head(25)"
   ]
  },
  {
   "cell_type": "markdown",
   "id": "5f6a5652",
   "metadata": {
    "papermill": {
     "duration": 0.012742,
     "end_time": "2021-04-17T20:27:09.193841",
     "exception": false,
     "start_time": "2021-04-17T20:27:09.181099",
     "status": "completed"
    },
    "tags": []
   },
   "source": [
    "## Number of job executions per status"
   ]
  },
  {
   "cell_type": "code",
   "execution_count": 16,
   "id": "ff452282",
   "metadata": {
    "execution": {
     "iopub.execute_input": "2021-04-17T20:27:09.224830Z",
     "iopub.status.busy": "2021-04-17T20:27:09.224467Z",
     "iopub.status.idle": "2021-04-17T20:27:09.231986Z",
     "shell.execute_reply": "2021-04-17T20:27:09.231510Z"
    },
    "jupyter": {
     "source_hidden": true
    },
    "papermill": {
     "duration": 0.025624,
     "end_time": "2021-04-17T20:27:09.232074",
     "exception": false,
     "start_time": "2021-04-17T20:27:09.206450",
     "status": "completed"
    },
    "tags": []
   },
   "outputs": [
    {
     "data": {
      "text/html": [
       "<div>\n",
       "<style scoped>\n",
       "    .dataframe tbody tr th:only-of-type {\n",
       "        vertical-align: middle;\n",
       "    }\n",
       "\n",
       "    .dataframe tbody tr th {\n",
       "        vertical-align: top;\n",
       "    }\n",
       "\n",
       "    .dataframe thead th {\n",
       "        text-align: right;\n",
       "    }\n",
       "</style>\n",
       "<table border=\"1\" class=\"dataframe\">\n",
       "  <thead>\n",
       "    <tr style=\"text-align: right;\">\n",
       "      <th></th>\n",
       "      <th>org</th>\n",
       "      <th>repo</th>\n",
       "      <th>conclusion</th>\n",
       "      <th>id</th>\n",
       "    </tr>\n",
       "  </thead>\n",
       "  <tbody>\n",
       "    <tr>\n",
       "      <th>2</th>\n",
       "      <td>apache</td>\n",
       "      <td>netbeans</td>\n",
       "      <td>success</td>\n",
       "      <td>3138</td>\n",
       "    </tr>\n",
       "    <tr>\n",
       "      <th>1</th>\n",
       "      <td>apache</td>\n",
       "      <td>netbeans</td>\n",
       "      <td>failure</td>\n",
       "      <td>374</td>\n",
       "    </tr>\n",
       "    <tr>\n",
       "      <th>0</th>\n",
       "      <td>apache</td>\n",
       "      <td>netbeans</td>\n",
       "      <td>cancelled</td>\n",
       "      <td>24</td>\n",
       "    </tr>\n",
       "  </tbody>\n",
       "</table>\n",
       "</div>"
      ],
      "text/plain": [
       "      org      repo conclusion    id\n",
       "2  apache  netbeans    success  3138\n",
       "1  apache  netbeans    failure   374\n",
       "0  apache  netbeans  cancelled    24"
      ]
     },
     "execution_count": 16,
     "metadata": {},
     "output_type": "execute_result"
    }
   ],
   "source": [
    "job[[\"id\"]].groupby([job.org,job.repo,  job.conclusion]).count().reset_index().sort_values(\"id\", ascending=False).head(25)"
   ]
  },
  {
   "cell_type": "code",
   "execution_count": 17,
   "id": "7a2183fa",
   "metadata": {
    "execution": {
     "iopub.execute_input": "2021-04-17T20:27:09.263077Z",
     "iopub.status.busy": "2021-04-17T20:27:09.262698Z",
     "iopub.status.idle": "2021-04-17T20:27:09.268325Z",
     "shell.execute_reply": "2021-04-17T20:27:09.267955Z"
    },
    "jupyter": {
     "source_hidden": true
    },
    "papermill": {
     "duration": 0.023415,
     "end_time": "2021-04-17T20:27:09.268468",
     "exception": false,
     "start_time": "2021-04-17T20:27:09.245053",
     "status": "completed"
    },
    "tags": []
   },
   "outputs": [],
   "source": [
    "start = job.loc[:,[\"org\",\"repo\",\"project\",\"id\",\"runid\",\"startedat\"]]\n",
    "start[\"value\"] = 1\n",
    "start = start.rename(columns={\"startedat\":\"date\"})\n",
    "\n",
    "end = job.loc[:,[\"org\",\"repo\",\"project\",\"id\",\"runid\",\"completedat\"]]\n",
    "end[\"value\"] = -1\n",
    "end = end.rename(columns={\"completedat\":\"date\"})\n",
    "events = pd.concat([start, end]).sort_values(\"date\")\n",
    "events[\"running\"] = events.value.cumsum()\n"
   ]
  },
  {
   "cell_type": "markdown",
   "id": "a218a1bb",
   "metadata": {
    "papermill": {
     "duration": 0.012464,
     "end_time": "2021-04-17T20:27:09.294721",
     "exception": false,
     "start_time": "2021-04-17T20:27:09.282257",
     "status": "completed"
    },
    "tags": []
   },
   "source": [
    "## Average (12h window) parallel running/queued job at a given time"
   ]
  },
  {
   "cell_type": "code",
   "execution_count": 18,
   "id": "129eaef5",
   "metadata": {
    "execution": {
     "iopub.execute_input": "2021-04-17T20:27:09.323895Z",
     "iopub.status.busy": "2021-04-17T20:27:09.323515Z",
     "iopub.status.idle": "2021-04-17T20:27:09.472677Z",
     "shell.execute_reply": "2021-04-17T20:27:09.473048Z"
    },
    "jupyter": {
     "source_hidden": true
    },
    "papermill": {
     "duration": 0.165949,
     "end_time": "2021-04-17T20:27:09.473160",
     "exception": false,
     "start_time": "2021-04-17T20:27:09.307211",
     "status": "completed"
    },
    "tags": []
   },
   "outputs": [
    {
     "data": {
      "image/png": "[encoded data removed]",
      "text/plain": [
       "<Figure size 1440x576 with 1 Axes>"
      ]
     },
     "metadata": {
      "needs_background": "light"
     },
     "output_type": "display_data"
    }
   ],
   "source": [
    "\n",
    "r = events.set_index('date')\n",
    "r = r.sort_index()\n",
    "r = r.resample(\"12H\").mean().fillna(0)\n",
    "\n",
    "plt.figure(figsize=(20,8))\n",
    "plt.plot(r.index,r.running)\n",
    "plt.show()"
   ]
  },
  {
   "cell_type": "code",
   "execution_count": 19,
   "id": "49446194",
   "metadata": {
    "execution": {
     "iopub.execute_input": "2021-04-17T20:27:09.503990Z",
     "iopub.status.busy": "2021-04-17T20:27:09.503636Z",
     "iopub.status.idle": "2021-04-17T20:27:09.505419Z",
     "shell.execute_reply": "2021-04-17T20:27:09.505021Z"
    },
    "jupyter": {
     "source_hidden": true
    },
    "papermill": {
     "duration": 0.017753,
     "end_time": "2021-04-17T20:27:09.505497",
     "exception": false,
     "start_time": "2021-04-17T20:27:09.487744",
     "status": "completed"
    },
    "tags": []
   },
   "outputs": [],
   "source": [
    "## Max (12h window) parallel running/queued job at a given time"
   ]
  },
  {
   "cell_type": "code",
   "execution_count": 20,
   "id": "54e10a1d",
   "metadata": {
    "execution": {
     "iopub.execute_input": "2021-04-17T20:27:09.537276Z",
     "iopub.status.busy": "2021-04-17T20:27:09.536867Z",
     "iopub.status.idle": "2021-04-17T20:27:09.703060Z",
     "shell.execute_reply": "2021-04-17T20:27:09.702698Z"
    },
    "jupyter": {
     "source_hidden": true
    },
    "papermill": {
     "duration": 0.183599,
     "end_time": "2021-04-17T20:27:09.703139",
     "exception": false,
     "start_time": "2021-04-17T20:27:09.519540",
     "status": "completed"
    },
    "tags": []
   },
   "outputs": [
    {
     "data": {
      "image/png": "[encoded data removed]",
      "text/plain": [
       "<Figure size 1440x576 with 1 Axes>"
      ]
     },
     "metadata": {
      "needs_background": "light"
     },
     "output_type": "display_data"
    }
   ],
   "source": [
    "\n",
    "r = events.set_index('date')\n",
    "r = r.sort_index()\n",
    "r = r.resample(\"12H\").max().fillna(0)\n",
    "\n",
    "plt.figure(figsize=(20,8))\n",
    "plt.plot(r.index,r.running)\n",
    "plt.show()"
   ]
  },
  {
   "cell_type": "code",
   "execution_count": null,
   "id": "579f055d",
   "metadata": {
    "jupyter": {
     "source_hidden": true
    },
    "papermill": {
     "duration": 0.014497,
     "end_time": "2021-04-17T20:27:09.732638",
     "exception": false,
     "start_time": "2021-04-17T20:27:09.718141",
     "status": "completed"
    },
    "tags": []
   },
   "outputs": [],
   "source": []
  }
 ],
 "metadata": {
  "kernelspec": {
   "display_name": "Python 3",
   "language": "python",
   "name": "python3"
  },
  "language_info": {
   "codemirror_mode": {
    "name": "ipython",
    "version": 3
   },
   "file_extension": ".py",
   "mimetype": "text/x-python",
   "name": "python",
   "nbconvert_exporter": "python",
   "pygments_lexer": "ipython3",
   "version": "3.8.8"
  },
  "papermill": {
   "default_parameters": {},
   "duration": 12.032684,
   "end_time": "2021-04-17T20:27:10.052608",
   "environment_variables": {},
   "exception": null,
   "input_path": "per-project-usage.ipynb",
   "output_path": "per-project-usage-netbeans.ipynb",
   "parameters": {
    "project": "netbeans"
   },
   "start_time": "2021-04-17T20:26:58.019924",
   "version": "2.3.3"
  }
 },
 "nbformat": 4,
 "nbformat_minor": 5
}