{
 "cells": [
  {
   "cell_type": "code",
   "execution_count": 1,
   "id": "071dd102",
   "metadata": {
    "execution": {
     "iopub.execute_input": "2021-04-18T09:18:41.891655Z",
     "iopub.status.busy": "2021-04-18T09:18:41.891083Z",
     "iopub.status.idle": "2021-04-18T09:18:42.345949Z",
     "shell.execute_reply": "2021-04-18T09:18:42.346288Z"
    },
    "jupyter": {
     "source_hidden": true
    },
    "papermill": {
     "duration": 0.503068,
     "end_time": "2021-04-18T09:18:42.346482",
     "exception": false,
     "start_time": "2021-04-18T09:18:41.843414",
     "status": "completed"
    },
    "tags": []
   },
   "outputs": [],
   "source": [
    "import pandas as pd\n",
    "import matplotlib.pyplot as plt\n",
    "pd.set_option('display.max_rows', 500)\n"
   ]
  },
  {
   "cell_type": "code",
   "execution_count": 2,
   "id": "d5e9d70d",
   "metadata": {
    "execution": {
     "iopub.execute_input": "2021-04-18T09:18:42.372611Z",
     "iopub.status.busy": "2021-04-18T09:18:42.372241Z",
     "iopub.status.idle": "2021-04-18T09:18:42.373963Z",
     "shell.execute_reply": "2021-04-18T09:18:42.373602Z"
    },
    "jupyter": {
     "source_hidden": true
    },
    "papermill": {
     "duration": 0.015254,
     "end_time": "2021-04-18T09:18:42.374050",
     "exception": false,
     "start_time": "2021-04-18T09:18:42.358796",
     "status": "completed"
    },
    "tags": []
   },
   "outputs": [],
   "source": [
    "def asf_project(pr):\n",
    "    name = pr.split(\"-\")[0]\n",
    "    if name == \"incubator\":\n",
    "        return pr.split(\"-\")[1]\n",
    "    return name"
   ]
  },
  {
   "cell_type": "code",
   "execution_count": 3,
   "id": "617d6c79",
   "metadata": {
    "execution": {
     "iopub.execute_input": "2021-04-18T09:18:42.398112Z",
     "iopub.status.busy": "2021-04-18T09:18:42.397754Z",
     "iopub.status.idle": "2021-04-18T09:18:42.399624Z",
     "shell.execute_reply": "2021-04-18T09:18:42.399227Z"
    },
    "jupyter": {
     "source_hidden": true
    },
    "papermill": {
     "duration": 0.014952,
     "end_time": "2021-04-18T09:18:42.399705",
     "exception": false,
     "start_time": "2021-04-18T09:18:42.384753",
     "status": "completed"
    },
    "tags": [
     "parameters"
    ]
   },
   "outputs": [],
   "source": [
    "project = \"ozone\""
   ]
  },
  {
   "cell_type": "code",
   "execution_count": 4,
   "id": "072ada4d",
   "metadata": {
    "execution": {
     "iopub.execute_input": "2021-04-18T09:18:42.423862Z",
     "iopub.status.busy": "2021-04-18T09:18:42.423384Z",
     "iopub.status.idle": "2021-04-18T09:18:42.425379Z",
     "shell.execute_reply": "2021-04-18T09:18:42.425003Z"
    },
    "jupyter": {
     "source_hidden": true
    },
    "papermill": {
     "duration": 0.014689,
     "end_time": "2021-04-18T09:18:42.425464",
     "exception": false,
     "start_time": "2021-04-18T09:18:42.410775",
     "status": "completed"
    },
    "tags": [
     "injected-parameters"
    ]
   },
   "outputs": [],
   "source": [
    "# Parameters\n",
    "project = \"pinot\"\n"
   ]
  },
  {
   "cell_type": "code",
   "execution_count": 5,
   "id": "c9ef42ba",
   "metadata": {
    "execution": {
     "iopub.execute_input": "2021-04-18T09:18:42.450357Z",
     "iopub.status.busy": "2021-04-18T09:18:42.449888Z",
     "iopub.status.idle": "2021-04-18T09:18:44.352960Z",
     "shell.execute_reply": "2021-04-18T09:18:44.353271Z"
    },
    "jupyter": {
     "source_hidden": true
    },
    "papermill": {
     "duration": 1.91731,
     "end_time": "2021-04-18T09:18:44.353476",
     "exception": false,
     "start_time": "2021-04-18T09:18:42.436166",
     "status": "completed"
    },
    "tags": []
   },
   "outputs": [],
   "source": [
    "actions = pd.read_csv(\"github-action-run.csv.gz\")\n",
    "                          \n",
    "actions.createdat = pd.to_datetime(actions.createdat * 1000000, utc = True)\n",
    "actions.updatedat = pd.to_datetime(actions.updatedat * 1000000, utc = True)\n",
    "actions.firstjobstarted = pd.to_datetime(actions.firstjobstarted * 1000000, utc = True)\n",
    "actions.lastjobcompleted = pd.to_datetime(actions.lastjobcompleted * 1000000, utc = True)                "
   ]
  },
  {
   "cell_type": "code",
   "execution_count": 6,
   "id": "fd19224c",
   "metadata": {
    "execution": {
     "iopub.execute_input": "2021-04-18T09:18:44.382869Z",
     "iopub.status.busy": "2021-04-18T09:18:44.382408Z",
     "iopub.status.idle": "2021-04-18T09:18:50.552356Z",
     "shell.execute_reply": "2021-04-18T09:18:50.551954Z"
    },
    "jupyter": {
     "source_hidden": true
    },
    "papermill": {
     "duration": 6.184093,
     "end_time": "2021-04-18T09:18:50.552440",
     "exception": false,
     "start_time": "2021-04-18T09:18:44.368347",
     "status": "completed"
    },
    "tags": []
   },
   "outputs": [],
   "source": [
    "actions[\"project\"] = actions.repo.apply(asf_project)\n",
    "actions[\"jobhours\"] = actions.jobseconds / 60 / 60\n",
    "actions[\"month\"] = actions.createdat.dt.strftime(\"%Y-%m\")"
   ]
  },
  {
   "cell_type": "code",
   "execution_count": 7,
   "id": "071895e7",
   "metadata": {
    "execution": {
     "iopub.execute_input": "2021-04-18T09:18:50.621986Z",
     "iopub.status.busy": "2021-04-18T09:18:50.621503Z",
     "iopub.status.idle": "2021-04-18T09:18:50.818938Z",
     "shell.execute_reply": "2021-04-18T09:18:50.819225Z"
    },
    "jupyter": {
     "source_hidden": true
    },
    "papermill": {
     "duration": 0.256286,
     "end_time": "2021-04-18T09:18:50.819330",
     "exception": false,
     "start_time": "2021-04-18T09:18:50.563044",
     "status": "completed"
    },
    "tags": []
   },
   "outputs": [],
   "source": [
    "actions =  actions[actions.month.isin([\"2021-03\",\"2021-02\"])]\n",
    "last_month = \"2021-03\"\n",
    "actions = actions[actions.project == project]"
   ]
  },
  {
   "cell_type": "markdown",
   "id": "94f47099",
   "metadata": {
    "papermill": {
     "duration": 0.010582,
     "end_time": "2021-04-18T09:18:50.840581",
     "exception": false,
     "start_time": "2021-04-18T09:18:50.829999",
     "status": "completed"
    },
    "tags": []
   },
   "source": [
    "## Job executions per month\n",
    "\n",
    "Maximum available value is 180 * 24 * days == 129600 (30 days) .. 133920 (31 days)"
   ]
  },
  {
   "cell_type": "code",
   "execution_count": 8,
   "id": "8f9d3c08",
   "metadata": {
    "execution": {
     "iopub.execute_input": "2021-04-18T09:18:50.877793Z",
     "iopub.status.busy": "2021-04-18T09:18:50.877406Z",
     "iopub.status.idle": "2021-04-18T09:18:50.879615Z",
     "shell.execute_reply": "2021-04-18T09:18:50.879259Z"
    },
    "jupyter": {
     "source_hidden": true
    },
    "papermill": {
     "duration": 0.028346,
     "end_time": "2021-04-18T09:18:50.879695",
     "exception": false,
     "start_time": "2021-04-18T09:18:50.851349",
     "status": "completed"
    },
    "tags": []
   },
   "outputs": [
    {
     "data": {
      "text/html": [
       "<div>\n",
       "<style scoped>\n",
       "    .dataframe tbody tr th:only-of-type {\n",
       "        vertical-align: middle;\n",
       "    }\n",
       "\n",
       "    .dataframe tbody tr th {\n",
       "        vertical-align: top;\n",
       "    }\n",
       "\n",
       "    .dataframe thead tr th {\n",
       "        text-align: left;\n",
       "    }\n",
       "\n",
       "    .dataframe thead tr:last-of-type th {\n",
       "        text-align: right;\n",
       "    }\n",
       "</style>\n",
       "<table border=\"1\" class=\"dataframe\">\n",
       "  <thead>\n",
       "    <tr>\n",
       "      <th></th>\n",
       "      <th colspan=\"4\" halign=\"left\">jobhours</th>\n",
       "    </tr>\n",
       "    <tr>\n",
       "      <th></th>\n",
       "      <th>sum</th>\n",
       "      <th>mean</th>\n",
       "      <th>max</th>\n",
       "      <th>count</th>\n",
       "    </tr>\n",
       "    <tr>\n",
       "      <th>month</th>\n",
       "      <th></th>\n",
       "      <th></th>\n",
       "      <th></th>\n",
       "      <th></th>\n",
       "    </tr>\n",
       "  </thead>\n",
       "  <tbody>\n",
       "    <tr>\n",
       "      <th>2021-02</th>\n",
       "      <td>602.723611</td>\n",
       "      <td>1.141522</td>\n",
       "      <td>5.042222</td>\n",
       "      <td>528</td>\n",
       "    </tr>\n",
       "    <tr>\n",
       "      <th>2021-03</th>\n",
       "      <td>1031.299167</td>\n",
       "      <td>1.507747</td>\n",
       "      <td>16.518889</td>\n",
       "      <td>684</td>\n",
       "    </tr>\n",
       "  </tbody>\n",
       "</table>\n",
       "</div>"
      ],
      "text/plain": [
       "            jobhours                           \n",
       "                 sum      mean        max count\n",
       "month                                          \n",
       "2021-02   602.723611  1.141522   5.042222   528\n",
       "2021-03  1031.299167  1.507747  16.518889   684"
      ]
     },
     "execution_count": 8,
     "metadata": {},
     "output_type": "execute_result"
    }
   ],
   "source": [
    "actions[[\"jobhours\"]].groupby(actions.month).agg({\"jobhours\":[\"sum\",\"mean\", \"max\", \"count\"]})"
   ]
  },
  {
   "cell_type": "markdown",
   "id": "40be9c95",
   "metadata": {
    "papermill": {
     "duration": 0.011726,
     "end_time": "2021-04-18T09:18:50.902484",
     "exception": false,
     "start_time": "2021-04-18T09:18:50.890758",
     "status": "completed"
    },
    "tags": []
   },
   "source": [
    "## Number of jobs executed by git repositories (last month)"
   ]
  },
  {
   "cell_type": "code",
   "execution_count": 9,
   "id": "2ef9bf7a",
   "metadata": {
    "execution": {
     "iopub.execute_input": "2021-04-18T09:18:50.934567Z",
     "iopub.status.busy": "2021-04-18T09:18:50.931190Z",
     "iopub.status.idle": "2021-04-18T09:18:50.941516Z",
     "shell.execute_reply": "2021-04-18T09:18:50.941155Z"
    },
    "jupyter": {
     "source_hidden": true
    },
    "papermill": {
     "duration": 0.026516,
     "end_time": "2021-04-18T09:18:50.941604",
     "exception": false,
     "start_time": "2021-04-18T09:18:50.915088",
     "status": "completed"
    },
    "tags": []
   },
   "outputs": [
    {
     "data": {
      "text/html": [
       "<div>\n",
       "<style scoped>\n",
       "    .dataframe tbody tr th:only-of-type {\n",
       "        vertical-align: middle;\n",
       "    }\n",
       "\n",
       "    .dataframe tbody tr th {\n",
       "        vertical-align: top;\n",
       "    }\n",
       "\n",
       "    .dataframe thead tr th {\n",
       "        text-align: left;\n",
       "    }\n",
       "\n",
       "    .dataframe thead tr:last-of-type th {\n",
       "        text-align: right;\n",
       "    }\n",
       "</style>\n",
       "<table border=\"1\" class=\"dataframe\">\n",
       "  <thead>\n",
       "    <tr>\n",
       "      <th></th>\n",
       "      <th colspan=\"3\" halign=\"left\">jobhours</th>\n",
       "    </tr>\n",
       "    <tr>\n",
       "      <th></th>\n",
       "      <th>sum</th>\n",
       "      <th>mean</th>\n",
       "      <th>max</th>\n",
       "    </tr>\n",
       "    <tr>\n",
       "      <th>repo</th>\n",
       "      <th></th>\n",
       "      <th></th>\n",
       "      <th></th>\n",
       "    </tr>\n",
       "  </thead>\n",
       "  <tbody>\n",
       "    <tr>\n",
       "      <th>incubator-pinot</th>\n",
       "      <td>1031.299167</td>\n",
       "      <td>1.507747</td>\n",
       "      <td>16.518889</td>\n",
       "    </tr>\n",
       "  </tbody>\n",
       "</table>\n",
       "</div>"
      ],
      "text/plain": [
       "                    jobhours                     \n",
       "                         sum      mean        max\n",
       "repo                                             \n",
       "incubator-pinot  1031.299167  1.507747  16.518889"
      ]
     },
     "execution_count": 9,
     "metadata": {},
     "output_type": "execute_result"
    }
   ],
   "source": [
    "actions[actions.month == last_month][[\"repo\",\"jobhours\"]].groupby(\"repo\").agg({\"jobhours\":[\"sum\",\"mean\", \"max\"]}).sort_values(('jobhours',\"sum\"), ascending=False).head(20)"
   ]
  },
  {
   "cell_type": "markdown",
   "id": "9d2ece7b",
   "metadata": {
    "papermill": {
     "duration": 0.012859,
     "end_time": "2021-04-18T09:18:50.965965",
     "exception": false,
     "start_time": "2021-04-18T09:18:50.953106",
     "status": "completed"
    },
    "tags": []
   },
   "source": [
    "## Job hour statustics per workflows"
   ]
  },
  {
   "cell_type": "code",
   "execution_count": 10,
   "id": "6e4ef34f",
   "metadata": {
    "execution": {
     "iopub.execute_input": "2021-04-18T09:18:50.996693Z",
     "iopub.status.busy": "2021-04-18T09:18:50.996302Z",
     "iopub.status.idle": "2021-04-18T09:18:51.007608Z",
     "shell.execute_reply": "2021-04-18T09:18:51.007884Z"
    },
    "jupyter": {
     "source_hidden": true
    },
    "papermill": {
     "duration": 0.028914,
     "end_time": "2021-04-18T09:18:51.007996",
     "exception": false,
     "start_time": "2021-04-18T09:18:50.979082",
     "status": "completed"
    },
    "tags": []
   },
   "outputs": [
    {
     "data": {
      "text/html": [
       "<div>\n",
       "<style scoped>\n",
       "    .dataframe tbody tr th:only-of-type {\n",
       "        vertical-align: middle;\n",
       "    }\n",
       "\n",
       "    .dataframe tbody tr th {\n",
       "        vertical-align: top;\n",
       "    }\n",
       "\n",
       "    .dataframe thead tr th {\n",
       "        text-align: left;\n",
       "    }\n",
       "\n",
       "    .dataframe thead tr:last-of-type th {\n",
       "        text-align: right;\n",
       "    }\n",
       "</style>\n",
       "<table border=\"1\" class=\"dataframe\">\n",
       "  <thead>\n",
       "    <tr>\n",
       "      <th></th>\n",
       "      <th></th>\n",
       "      <th colspan=\"3\" halign=\"left\">jobhours</th>\n",
       "    </tr>\n",
       "    <tr>\n",
       "      <th></th>\n",
       "      <th></th>\n",
       "      <th>sum</th>\n",
       "      <th>mean</th>\n",
       "      <th>max</th>\n",
       "    </tr>\n",
       "    <tr>\n",
       "      <th>repo</th>\n",
       "      <th>workflowid</th>\n",
       "      <th></th>\n",
       "      <th></th>\n",
       "      <th></th>\n",
       "    </tr>\n",
       "  </thead>\n",
       "  <tbody>\n",
       "    <tr>\n",
       "      <th rowspan=\"2\" valign=\"top\">incubator-pinot</th>\n",
       "      <th>1474478</th>\n",
       "      <td>1030.867222</td>\n",
       "      <td>3.014232</td>\n",
       "      <td>16.518889</td>\n",
       "    </tr>\n",
       "    <tr>\n",
       "      <th>4831220</th>\n",
       "      <td>0.431944</td>\n",
       "      <td>0.001263</td>\n",
       "      <td>0.006944</td>\n",
       "    </tr>\n",
       "  </tbody>\n",
       "</table>\n",
       "</div>"
      ],
      "text/plain": [
       "                               jobhours                     \n",
       "                                    sum      mean        max\n",
       "repo            workflowid                                  \n",
       "incubator-pinot 1474478     1030.867222  3.014232  16.518889\n",
       "                4831220        0.431944  0.001263   0.006944"
      ]
     },
     "execution_count": 10,
     "metadata": {},
     "output_type": "execute_result"
    }
   ],
   "source": [
    "actions[actions.month == last_month][[\"repo\",\"workflowid\",\"jobhours\"]].groupby([\"repo\",\"workflowid\"]).agg({\"jobhours\":[\"sum\",\"mean\", \"max\"]}).sort_values(('jobhours',\"sum\"), ascending=False)"
   ]
  },
  {
   "cell_type": "markdown",
   "id": "3a592f13",
   "metadata": {
    "papermill": {
     "duration": 0.012757,
     "end_time": "2021-04-18T09:18:51.032464",
     "exception": false,
     "start_time": "2021-04-18T09:18:51.019707",
     "status": "completed"
    },
    "tags": []
   },
   "source": [
    "## Slowest workflow runs\n"
   ]
  },
  {
   "cell_type": "code",
   "execution_count": 11,
   "id": "ac2039fa",
   "metadata": {
    "execution": {
     "iopub.execute_input": "2021-04-18T09:18:51.063541Z",
     "iopub.status.busy": "2021-04-18T09:18:51.063137Z",
     "iopub.status.idle": "2021-04-18T09:18:51.081765Z",
     "shell.execute_reply": "2021-04-18T09:18:51.081402Z"
    },
    "jupyter": {
     "source_hidden": true
    },
    "papermill": {
     "duration": 0.035913,
     "end_time": "2021-04-18T09:18:51.081852",
     "exception": false,
     "start_time": "2021-04-18T09:18:51.045939",
     "status": "completed"
    },
    "tags": []
   },
   "outputs": [
    {
     "data": {
      "text/html": [
       "<div>\n",
       "<style scoped>\n",
       "    .dataframe tbody tr th:only-of-type {\n",
       "        vertical-align: middle;\n",
       "    }\n",
       "\n",
       "    .dataframe tbody tr th {\n",
       "        vertical-align: top;\n",
       "    }\n",
       "\n",
       "    .dataframe thead th {\n",
       "        text-align: right;\n",
       "    }\n",
       "</style>\n",
       "<table border=\"1\" class=\"dataframe\">\n",
       "  <thead>\n",
       "    <tr style=\"text-align: right;\">\n",
       "      <th></th>\n",
       "      <th>org</th>\n",
       "      <th>repo</th>\n",
       "      <th>id</th>\n",
       "      <th>runnumber</th>\n",
       "      <th>createdat</th>\n",
       "      <th>updatedat</th>\n",
       "      <th>status</th>\n",
       "      <th>conclusion</th>\n",
       "      <th>workflowid</th>\n",
       "      <th>firstjobstarted</th>\n",
       "      <th>lastjobcompleted</th>\n",
       "      <th>jobdetails</th>\n",
       "      <th>jobs</th>\n",
       "      <th>jobseconds</th>\n",
       "      <th>project</th>\n",
       "      <th>jobhours</th>\n",
       "      <th>month</th>\n",
       "    </tr>\n",
       "  </thead>\n",
       "  <tbody>\n",
       "    <tr>\n",
       "      <th>703737</th>\n",
       "      <td>apache</td>\n",
       "      <td>incubator-pinot</td>\n",
       "      <td>704021928</td>\n",
       "      <td>2851</td>\n",
       "      <td>2021-03-31 06:35:27+00:00</td>\n",
       "      <td>2021-03-31 09:26:37+00:00</td>\n",
       "      <td>completed</td>\n",
       "      <td>cancelled</td>\n",
       "      <td>1474478</td>\n",
       "      <td>2021-03-31 06:35:39+00:00</td>\n",
       "      <td>2021-03-31 09:19:59+00:00</td>\n",
       "      <td>True</td>\n",
       "      <td>7</td>\n",
       "      <td>59468</td>\n",
       "      <td>pinot</td>\n",
       "      <td>16.518889</td>\n",
       "      <td>2021-03</td>\n",
       "    </tr>\n",
       "    <tr>\n",
       "      <th>703736</th>\n",
       "      <td>apache</td>\n",
       "      <td>incubator-pinot</td>\n",
       "      <td>703896991</td>\n",
       "      <td>2850</td>\n",
       "      <td>2021-03-31 05:36:56+00:00</td>\n",
       "      <td>2021-03-31 06:57:10+00:00</td>\n",
       "      <td>completed</td>\n",
       "      <td>cancelled</td>\n",
       "      <td>1474478</td>\n",
       "      <td>2021-03-31 05:37:33+00:00</td>\n",
       "      <td>2021-03-31 06:56:59+00:00</td>\n",
       "      <td>True</td>\n",
       "      <td>7</td>\n",
       "      <td>29921</td>\n",
       "      <td>pinot</td>\n",
       "      <td>8.311389</td>\n",
       "      <td>2021-03</td>\n",
       "    </tr>\n",
       "    <tr>\n",
       "      <th>703536</th>\n",
       "      <td>apache</td>\n",
       "      <td>incubator-pinot</td>\n",
       "      <td>653189292</td>\n",
       "      <td>2670</td>\n",
       "      <td>2021-03-15 06:18:25+00:00</td>\n",
       "      <td>2021-03-15 07:29:58+00:00</td>\n",
       "      <td>completed</td>\n",
       "      <td>failure</td>\n",
       "      <td>1474478</td>\n",
       "      <td>2021-03-15 06:18:49+00:00</td>\n",
       "      <td>2021-03-15 07:29:52+00:00</td>\n",
       "      <td>True</td>\n",
       "      <td>9</td>\n",
       "      <td>21388</td>\n",
       "      <td>pinot</td>\n",
       "      <td>5.941111</td>\n",
       "      <td>2021-03</td>\n",
       "    </tr>\n",
       "    <tr>\n",
       "      <th>703689</th>\n",
       "      <td>apache</td>\n",
       "      <td>incubator-pinot</td>\n",
       "      <td>699342073</td>\n",
       "      <td>2808</td>\n",
       "      <td>2021-03-29 21:43:32+00:00</td>\n",
       "      <td>2021-03-30 01:13:25+00:00</td>\n",
       "      <td>completed</td>\n",
       "      <td>failure</td>\n",
       "      <td>1474478</td>\n",
       "      <td>2021-03-29 22:01:10+00:00</td>\n",
       "      <td>2021-03-30 01:13:17+00:00</td>\n",
       "      <td>True</td>\n",
       "      <td>9</td>\n",
       "      <td>19789</td>\n",
       "      <td>pinot</td>\n",
       "      <td>5.496944</td>\n",
       "      <td>2021-03</td>\n",
       "    </tr>\n",
       "    <tr>\n",
       "      <th>703672</th>\n",
       "      <td>apache</td>\n",
       "      <td>incubator-pinot</td>\n",
       "      <td>696951297</td>\n",
       "      <td>2793</td>\n",
       "      <td>2021-03-29 06:57:15+00:00</td>\n",
       "      <td>2021-03-29 10:10:57+00:00</td>\n",
       "      <td>completed</td>\n",
       "      <td>failure</td>\n",
       "      <td>1474478</td>\n",
       "      <td>2021-03-29 06:57:26+00:00</td>\n",
       "      <td>2021-03-29 10:10:47+00:00</td>\n",
       "      <td>True</td>\n",
       "      <td>9</td>\n",
       "      <td>19257</td>\n",
       "      <td>pinot</td>\n",
       "      <td>5.349167</td>\n",
       "      <td>2021-03</td>\n",
       "    </tr>\n",
       "    <tr>\n",
       "      <th>703511</th>\n",
       "      <td>apache</td>\n",
       "      <td>incubator-pinot</td>\n",
       "      <td>644575532</td>\n",
       "      <td>2648</td>\n",
       "      <td>2021-03-12 00:23:20+00:00</td>\n",
       "      <td>2021-03-12 03:03:33+00:00</td>\n",
       "      <td>completed</td>\n",
       "      <td>failure</td>\n",
       "      <td>1474478</td>\n",
       "      <td>2021-03-12 00:23:32+00:00</td>\n",
       "      <td>2021-03-12 03:01:58+00:00</td>\n",
       "      <td>True</td>\n",
       "      <td>9</td>\n",
       "      <td>19166</td>\n",
       "      <td>pinot</td>\n",
       "      <td>5.323889</td>\n",
       "      <td>2021-03</td>\n",
       "    </tr>\n",
       "    <tr>\n",
       "      <th>703520</th>\n",
       "      <td>apache</td>\n",
       "      <td>incubator-pinot</td>\n",
       "      <td>645133380</td>\n",
       "      <td>2656</td>\n",
       "      <td>2021-03-12 05:05:17+00:00</td>\n",
       "      <td>2021-03-12 07:45:31+00:00</td>\n",
       "      <td>completed</td>\n",
       "      <td>failure</td>\n",
       "      <td>1474478</td>\n",
       "      <td>2021-03-12 05:05:26+00:00</td>\n",
       "      <td>2021-03-12 07:43:50+00:00</td>\n",
       "      <td>True</td>\n",
       "      <td>9</td>\n",
       "      <td>18863</td>\n",
       "      <td>pinot</td>\n",
       "      <td>5.239722</td>\n",
       "      <td>2021-03</td>\n",
       "    </tr>\n",
       "    <tr>\n",
       "      <th>703510</th>\n",
       "      <td>apache</td>\n",
       "      <td>incubator-pinot</td>\n",
       "      <td>644563293</td>\n",
       "      <td>2647</td>\n",
       "      <td>2021-03-12 00:17:33+00:00</td>\n",
       "      <td>2021-03-12 02:58:53+00:00</td>\n",
       "      <td>completed</td>\n",
       "      <td>failure</td>\n",
       "      <td>1474478</td>\n",
       "      <td>2021-03-12 00:18:06+00:00</td>\n",
       "      <td>2021-03-12 02:52:30+00:00</td>\n",
       "      <td>True</td>\n",
       "      <td>9</td>\n",
       "      <td>18700</td>\n",
       "      <td>pinot</td>\n",
       "      <td>5.194444</td>\n",
       "      <td>2021-03</td>\n",
       "    </tr>\n",
       "    <tr>\n",
       "      <th>703238</th>\n",
       "      <td>apache</td>\n",
       "      <td>incubator-pinot</td>\n",
       "      <td>555581934</td>\n",
       "      <td>2401</td>\n",
       "      <td>2021-02-10 18:46:34+00:00</td>\n",
       "      <td>2021-02-10 21:40:21+00:00</td>\n",
       "      <td>completed</td>\n",
       "      <td>failure</td>\n",
       "      <td>1474478</td>\n",
       "      <td>2021-02-10 18:46:45+00:00</td>\n",
       "      <td>2021-02-10 21:40:16+00:00</td>\n",
       "      <td>True</td>\n",
       "      <td>9</td>\n",
       "      <td>18152</td>\n",
       "      <td>pinot</td>\n",
       "      <td>5.042222</td>\n",
       "      <td>2021-02</td>\n",
       "    </tr>\n",
       "    <tr>\n",
       "      <th>703654</th>\n",
       "      <td>apache</td>\n",
       "      <td>incubator-pinot</td>\n",
       "      <td>688497860</td>\n",
       "      <td>2777</td>\n",
       "      <td>2021-03-26 01:38:37+00:00</td>\n",
       "      <td>2021-03-26 02:54:30+00:00</td>\n",
       "      <td>completed</td>\n",
       "      <td>failure</td>\n",
       "      <td>1474478</td>\n",
       "      <td>2021-03-26 01:38:47+00:00</td>\n",
       "      <td>2021-03-26 02:54:22+00:00</td>\n",
       "      <td>True</td>\n",
       "      <td>9</td>\n",
       "      <td>17201</td>\n",
       "      <td>pinot</td>\n",
       "      <td>4.778056</td>\n",
       "      <td>2021-03</td>\n",
       "    </tr>\n",
       "    <tr>\n",
       "      <th>703682</th>\n",
       "      <td>apache</td>\n",
       "      <td>incubator-pinot</td>\n",
       "      <td>699175000</td>\n",
       "      <td>2801</td>\n",
       "      <td>2021-03-29 20:36:39+00:00</td>\n",
       "      <td>2021-03-29 22:43:26+00:00</td>\n",
       "      <td>completed</td>\n",
       "      <td>failure</td>\n",
       "      <td>1474478</td>\n",
       "      <td>2021-03-29 21:29:19+00:00</td>\n",
       "      <td>2021-03-29 22:43:19+00:00</td>\n",
       "      <td>True</td>\n",
       "      <td>9</td>\n",
       "      <td>17135</td>\n",
       "      <td>pinot</td>\n",
       "      <td>4.759722</td>\n",
       "      <td>2021-03</td>\n",
       "    </tr>\n",
       "    <tr>\n",
       "      <th>703563</th>\n",
       "      <td>apache</td>\n",
       "      <td>incubator-pinot</td>\n",
       "      <td>659226089</td>\n",
       "      <td>2695</td>\n",
       "      <td>2021-03-16 22:52:46+00:00</td>\n",
       "      <td>2021-03-17 01:30:16+00:00</td>\n",
       "      <td>completed</td>\n",
       "      <td>failure</td>\n",
       "      <td>1474478</td>\n",
       "      <td>2021-03-16 22:59:09+00:00</td>\n",
       "      <td>2021-03-17 01:29:57+00:00</td>\n",
       "      <td>True</td>\n",
       "      <td>9</td>\n",
       "      <td>16725</td>\n",
       "      <td>pinot</td>\n",
       "      <td>4.645833</td>\n",
       "      <td>2021-03</td>\n",
       "    </tr>\n",
       "    <tr>\n",
       "      <th>703462</th>\n",
       "      <td>apache</td>\n",
       "      <td>incubator-pinot</td>\n",
       "      <td>634035794</td>\n",
       "      <td>2603</td>\n",
       "      <td>2021-03-08 23:55:20+00:00</td>\n",
       "      <td>2021-03-09 02:03:23+00:00</td>\n",
       "      <td>completed</td>\n",
       "      <td>failure</td>\n",
       "      <td>1474478</td>\n",
       "      <td>2021-03-08 23:55:31+00:00</td>\n",
       "      <td>2021-03-09 02:03:16+00:00</td>\n",
       "      <td>True</td>\n",
       "      <td>9</td>\n",
       "      <td>16723</td>\n",
       "      <td>pinot</td>\n",
       "      <td>4.645278</td>\n",
       "      <td>2021-03</td>\n",
       "    </tr>\n",
       "    <tr>\n",
       "      <th>703565</th>\n",
       "      <td>apache</td>\n",
       "      <td>incubator-pinot</td>\n",
       "      <td>659314112</td>\n",
       "      <td>2697</td>\n",
       "      <td>2021-03-16 23:35:03+00:00</td>\n",
       "      <td>2021-03-17 01:51:42+00:00</td>\n",
       "      <td>completed</td>\n",
       "      <td>cancelled</td>\n",
       "      <td>1474478</td>\n",
       "      <td>2021-03-16 23:35:13+00:00</td>\n",
       "      <td>2021-03-17 01:51:37+00:00</td>\n",
       "      <td>True</td>\n",
       "      <td>9</td>\n",
       "      <td>16708</td>\n",
       "      <td>pinot</td>\n",
       "      <td>4.641111</td>\n",
       "      <td>2021-03</td>\n",
       "    </tr>\n",
       "    <tr>\n",
       "      <th>703710</th>\n",
       "      <td>apache</td>\n",
       "      <td>incubator-pinot</td>\n",
       "      <td>702038701</td>\n",
       "      <td>2827</td>\n",
       "      <td>2021-03-30 15:59:58+00:00</td>\n",
       "      <td>2021-03-30 18:19:14+00:00</td>\n",
       "      <td>completed</td>\n",
       "      <td>failure</td>\n",
       "      <td>1474478</td>\n",
       "      <td>2021-03-30 16:00:12+00:00</td>\n",
       "      <td>2021-03-30 18:19:07+00:00</td>\n",
       "      <td>True</td>\n",
       "      <td>9</td>\n",
       "      <td>16341</td>\n",
       "      <td>pinot</td>\n",
       "      <td>4.539167</td>\n",
       "      <td>2021-03</td>\n",
       "    </tr>\n",
       "    <tr>\n",
       "      <th>703490</th>\n",
       "      <td>apache</td>\n",
       "      <td>incubator-pinot</td>\n",
       "      <td>640966935</td>\n",
       "      <td>2629</td>\n",
       "      <td>2021-03-10 23:12:07+00:00</td>\n",
       "      <td>2021-03-11 01:23:17+00:00</td>\n",
       "      <td>completed</td>\n",
       "      <td>failure</td>\n",
       "      <td>1474478</td>\n",
       "      <td>2021-03-10 23:12:20+00:00</td>\n",
       "      <td>2021-03-11 01:23:10+00:00</td>\n",
       "      <td>True</td>\n",
       "      <td>9</td>\n",
       "      <td>16195</td>\n",
       "      <td>pinot</td>\n",
       "      <td>4.498611</td>\n",
       "      <td>2021-03</td>\n",
       "    </tr>\n",
       "    <tr>\n",
       "      <th>703439</th>\n",
       "      <td>apache</td>\n",
       "      <td>incubator-pinot</td>\n",
       "      <td>625965321</td>\n",
       "      <td>2583</td>\n",
       "      <td>2021-03-05 23:22:49+00:00</td>\n",
       "      <td>2021-03-06 00:54:12+00:00</td>\n",
       "      <td>completed</td>\n",
       "      <td>failure</td>\n",
       "      <td>1474478</td>\n",
       "      <td>2021-03-05 23:22:59+00:00</td>\n",
       "      <td>2021-03-06 00:54:06+00:00</td>\n",
       "      <td>True</td>\n",
       "      <td>9</td>\n",
       "      <td>15949</td>\n",
       "      <td>pinot</td>\n",
       "      <td>4.430278</td>\n",
       "      <td>2021-03</td>\n",
       "    </tr>\n",
       "    <tr>\n",
       "      <th>703167</th>\n",
       "      <td>apache</td>\n",
       "      <td>incubator-pinot</td>\n",
       "      <td>538756001</td>\n",
       "      <td>2338</td>\n",
       "      <td>2021-02-04 23:28:49+00:00</td>\n",
       "      <td>2021-02-05 00:30:03+00:00</td>\n",
       "      <td>completed</td>\n",
       "      <td>failure</td>\n",
       "      <td>1474478</td>\n",
       "      <td>2021-02-04 23:29:08+00:00</td>\n",
       "      <td>2021-02-05 00:28:30+00:00</td>\n",
       "      <td>True</td>\n",
       "      <td>9</td>\n",
       "      <td>15907</td>\n",
       "      <td>pinot</td>\n",
       "      <td>4.418611</td>\n",
       "      <td>2021-02</td>\n",
       "    </tr>\n",
       "    <tr>\n",
       "      <th>703500</th>\n",
       "      <td>apache</td>\n",
       "      <td>incubator-pinot</td>\n",
       "      <td>643848811</td>\n",
       "      <td>2638</td>\n",
       "      <td>2021-03-11 19:04:23+00:00</td>\n",
       "      <td>2021-03-11 21:05:57+00:00</td>\n",
       "      <td>completed</td>\n",
       "      <td>cancelled</td>\n",
       "      <td>1474478</td>\n",
       "      <td>2021-03-11 19:04:38+00:00</td>\n",
       "      <td>2021-03-11 21:03:21+00:00</td>\n",
       "      <td>True</td>\n",
       "      <td>9</td>\n",
       "      <td>15862</td>\n",
       "      <td>pinot</td>\n",
       "      <td>4.406111</td>\n",
       "      <td>2021-03</td>\n",
       "    </tr>\n",
       "    <tr>\n",
       "      <th>703453</th>\n",
       "      <td>apache</td>\n",
       "      <td>incubator-pinot</td>\n",
       "      <td>633730852</td>\n",
       "      <td>2596</td>\n",
       "      <td>2021-03-08 21:40:54+00:00</td>\n",
       "      <td>2021-03-08 23:16:05+00:00</td>\n",
       "      <td>completed</td>\n",
       "      <td>failure</td>\n",
       "      <td>1474478</td>\n",
       "      <td>2021-03-08 21:41:05+00:00</td>\n",
       "      <td>2021-03-08 23:15:58+00:00</td>\n",
       "      <td>True</td>\n",
       "      <td>9</td>\n",
       "      <td>15820</td>\n",
       "      <td>pinot</td>\n",
       "      <td>4.394444</td>\n",
       "      <td>2021-03</td>\n",
       "    </tr>\n",
       "    <tr>\n",
       "      <th>703693</th>\n",
       "      <td>apache</td>\n",
       "      <td>incubator-pinot</td>\n",
       "      <td>700030351</td>\n",
       "      <td>2811</td>\n",
       "      <td>2021-03-30 03:18:13+00:00</td>\n",
       "      <td>2021-03-30 05:24:06+00:00</td>\n",
       "      <td>completed</td>\n",
       "      <td>failure</td>\n",
       "      <td>1474478</td>\n",
       "      <td>2021-03-30 03:18:48+00:00</td>\n",
       "      <td>2021-03-30 05:23:58+00:00</td>\n",
       "      <td>True</td>\n",
       "      <td>9</td>\n",
       "      <td>15798</td>\n",
       "      <td>pinot</td>\n",
       "      <td>4.388333</td>\n",
       "      <td>2021-03</td>\n",
       "    </tr>\n",
       "    <tr>\n",
       "      <th>703352</th>\n",
       "      <td>apache</td>\n",
       "      <td>incubator-pinot</td>\n",
       "      <td>597825000</td>\n",
       "      <td>2504</td>\n",
       "      <td>2021-02-25 00:22:37+00:00</td>\n",
       "      <td>2021-02-25 01:58:13+00:00</td>\n",
       "      <td>completed</td>\n",
       "      <td>failure</td>\n",
       "      <td>1474478</td>\n",
       "      <td>2021-02-25 00:22:56+00:00</td>\n",
       "      <td>2021-02-25 01:58:08+00:00</td>\n",
       "      <td>True</td>\n",
       "      <td>9</td>\n",
       "      <td>15550</td>\n",
       "      <td>pinot</td>\n",
       "      <td>4.319444</td>\n",
       "      <td>2021-02</td>\n",
       "    </tr>\n",
       "    <tr>\n",
       "      <th>703700</th>\n",
       "      <td>apache</td>\n",
       "      <td>incubator-pinot</td>\n",
       "      <td>700420538</td>\n",
       "      <td>2818</td>\n",
       "      <td>2021-03-30 06:29:41+00:00</td>\n",
       "      <td>2021-03-30 08:50:17+00:00</td>\n",
       "      <td>completed</td>\n",
       "      <td>failure</td>\n",
       "      <td>1474478</td>\n",
       "      <td>2021-03-30 06:43:24+00:00</td>\n",
       "      <td>2021-03-30 08:50:08+00:00</td>\n",
       "      <td>True</td>\n",
       "      <td>9</td>\n",
       "      <td>15469</td>\n",
       "      <td>pinot</td>\n",
       "      <td>4.296944</td>\n",
       "      <td>2021-03</td>\n",
       "    </tr>\n",
       "    <tr>\n",
       "      <th>703556</th>\n",
       "      <td>apache</td>\n",
       "      <td>incubator-pinot</td>\n",
       "      <td>658720334</td>\n",
       "      <td>2689</td>\n",
       "      <td>2021-03-16 19:20:05+00:00</td>\n",
       "      <td>2021-03-16 21:45:15+00:00</td>\n",
       "      <td>completed</td>\n",
       "      <td>failure</td>\n",
       "      <td>1474478</td>\n",
       "      <td>2021-03-16 19:28:45+00:00</td>\n",
       "      <td>2021-03-16 21:45:08+00:00</td>\n",
       "      <td>True</td>\n",
       "      <td>9</td>\n",
       "      <td>15411</td>\n",
       "      <td>pinot</td>\n",
       "      <td>4.280833</td>\n",
       "      <td>2021-03</td>\n",
       "    </tr>\n",
       "    <tr>\n",
       "      <th>703650</th>\n",
       "      <td>apache</td>\n",
       "      <td>incubator-pinot</td>\n",
       "      <td>685141186</td>\n",
       "      <td>2773</td>\n",
       "      <td>2021-03-25 02:41:41+00:00</td>\n",
       "      <td>2021-03-25 04:43:09+00:00</td>\n",
       "      <td>completed</td>\n",
       "      <td>failure</td>\n",
       "      <td>1474478</td>\n",
       "      <td>2021-03-25 02:42:07+00:00</td>\n",
       "      <td>2021-03-25 04:43:02+00:00</td>\n",
       "      <td>True</td>\n",
       "      <td>9</td>\n",
       "      <td>15176</td>\n",
       "      <td>pinot</td>\n",
       "      <td>4.215556</td>\n",
       "      <td>2021-03</td>\n",
       "    </tr>\n",
       "  </tbody>\n",
       "</table>\n",
       "</div>"
      ],
      "text/plain": [
       "           org             repo         id  runnumber  \\\n",
       "703737  apache  incubator-pinot  704021928       2851   \n",
       "703736  apache  incubator-pinot  703896991       2850   \n",
       "703536  apache  incubator-pinot  653189292       2670   \n",
       "703689  apache  incubator-pinot  699342073       2808   \n",
       "703672  apache  incubator-pinot  696951297       2793   \n",
       "703511  apache  incubator-pinot  644575532       2648   \n",
       "703520  apache  incubator-pinot  645133380       2656   \n",
       "703510  apache  incubator-pinot  644563293       2647   \n",
       "703238  apache  incubator-pinot  555581934       2401   \n",
       "703654  apache  incubator-pinot  688497860       2777   \n",
       "703682  apache  incubator-pinot  699175000       2801   \n",
       "703563  apache  incubator-pinot  659226089       2695   \n",
       "703462  apache  incubator-pinot  634035794       2603   \n",
       "703565  apache  incubator-pinot  659314112       2697   \n",
       "703710  apache  incubator-pinot  702038701       2827   \n",
       "703490  apache  incubator-pinot  640966935       2629   \n",
       "703439  apache  incubator-pinot  625965321       2583   \n",
       "703167  apache  incubator-pinot  538756001       2338   \n",
       "703500  apache  incubator-pinot  643848811       2638   \n",
       "703453  apache  incubator-pinot  633730852       2596   \n",
       "703693  apache  incubator-pinot  700030351       2811   \n",
       "703352  apache  incubator-pinot  597825000       2504   \n",
       "703700  apache  incubator-pinot  700420538       2818   \n",
       "703556  apache  incubator-pinot  658720334       2689   \n",
       "703650  apache  incubator-pinot  685141186       2773   \n",
       "\n",
       "                       createdat                 updatedat     status  \\\n",
       "703737 2021-03-31 06:35:27+00:00 2021-03-31 09:26:37+00:00  completed   \n",
       "703736 2021-03-31 05:36:56+00:00 2021-03-31 06:57:10+00:00  completed   \n",
       "703536 2021-03-15 06:18:25+00:00 2021-03-15 07:29:58+00:00  completed   \n",
       "703689 2021-03-29 21:43:32+00:00 2021-03-30 01:13:25+00:00  completed   \n",
       "703672 2021-03-29 06:57:15+00:00 2021-03-29 10:10:57+00:00  completed   \n",
       "703511 2021-03-12 00:23:20+00:00 2021-03-12 03:03:33+00:00  completed   \n",
       "703520 2021-03-12 05:05:17+00:00 2021-03-12 07:45:31+00:00  completed   \n",
       "703510 2021-03-12 00:17:33+00:00 2021-03-12 02:58:53+00:00  completed   \n",
       "703238 2021-02-10 18:46:34+00:00 2021-02-10 21:40:21+00:00  completed   \n",
       "703654 2021-03-26 01:38:37+00:00 2021-03-26 02:54:30+00:00  completed   \n",
       "703682 2021-03-29 20:36:39+00:00 2021-03-29 22:43:26+00:00  completed   \n",
       "703563 2021-03-16 22:52:46+00:00 2021-03-17 01:30:16+00:00  completed   \n",
       "703462 2021-03-08 23:55:20+00:00 2021-03-09 02:03:23+00:00  completed   \n",
       "703565 2021-03-16 23:35:03+00:00 2021-03-17 01:51:42+00:00  completed   \n",
       "703710 2021-03-30 15:59:58+00:00 2021-03-30 18:19:14+00:00  completed   \n",
       "703490 2021-03-10 23:12:07+00:00 2021-03-11 01:23:17+00:00  completed   \n",
       "703439 2021-03-05 23:22:49+00:00 2021-03-06 00:54:12+00:00  completed   \n",
       "703167 2021-02-04 23:28:49+00:00 2021-02-05 00:30:03+00:00  completed   \n",
       "703500 2021-03-11 19:04:23+00:00 2021-03-11 21:05:57+00:00  completed   \n",
       "703453 2021-03-08 21:40:54+00:00 2021-03-08 23:16:05+00:00  completed   \n",
       "703693 2021-03-30 03:18:13+00:00 2021-03-30 05:24:06+00:00  completed   \n",
       "703352 2021-02-25 00:22:37+00:00 2021-02-25 01:58:13+00:00  completed   \n",
       "703700 2021-03-30 06:29:41+00:00 2021-03-30 08:50:17+00:00  completed   \n",
       "703556 2021-03-16 19:20:05+00:00 2021-03-16 21:45:15+00:00  completed   \n",
       "703650 2021-03-25 02:41:41+00:00 2021-03-25 04:43:09+00:00  completed   \n",
       "\n",
       "       conclusion  workflowid           firstjobstarted  \\\n",
       "703737  cancelled     1474478 2021-03-31 06:35:39+00:00   \n",
       "703736  cancelled     1474478 2021-03-31 05:37:33+00:00   \n",
       "703536    failure     1474478 2021-03-15 06:18:49+00:00   \n",
       "703689    failure     1474478 2021-03-29 22:01:10+00:00   \n",
       "703672    failure     1474478 2021-03-29 06:57:26+00:00   \n",
       "703511    failure     1474478 2021-03-12 00:23:32+00:00   \n",
       "703520    failure     1474478 2021-03-12 05:05:26+00:00   \n",
       "703510    failure     1474478 2021-03-12 00:18:06+00:00   \n",
       "703238    failure     1474478 2021-02-10 18:46:45+00:00   \n",
       "703654    failure     1474478 2021-03-26 01:38:47+00:00   \n",
       "703682    failure     1474478 2021-03-29 21:29:19+00:00   \n",
       "703563    failure     1474478 2021-03-16 22:59:09+00:00   \n",
       "703462    failure     1474478 2021-03-08 23:55:31+00:00   \n",
       "703565  cancelled     1474478 2021-03-16 23:35:13+00:00   \n",
       "703710    failure     1474478 2021-03-30 16:00:12+00:00   \n",
       "703490    failure     1474478 2021-03-10 23:12:20+00:00   \n",
       "703439    failure     1474478 2021-03-05 23:22:59+00:00   \n",
       "703167    failure     1474478 2021-02-04 23:29:08+00:00   \n",
       "703500  cancelled     1474478 2021-03-11 19:04:38+00:00   \n",
       "703453    failure     1474478 2021-03-08 21:41:05+00:00   \n",
       "703693    failure     1474478 2021-03-30 03:18:48+00:00   \n",
       "703352    failure     1474478 2021-02-25 00:22:56+00:00   \n",
       "703700    failure     1474478 2021-03-30 06:43:24+00:00   \n",
       "703556    failure     1474478 2021-03-16 19:28:45+00:00   \n",
       "703650    failure     1474478 2021-03-25 02:42:07+00:00   \n",
       "\n",
       "                lastjobcompleted  jobdetails  jobs  jobseconds project  \\\n",
       "703737 2021-03-31 09:19:59+00:00        True     7       59468   pinot   \n",
       "703736 2021-03-31 06:56:59+00:00        True     7       29921   pinot   \n",
       "703536 2021-03-15 07:29:52+00:00        True     9       21388   pinot   \n",
       "703689 2021-03-30 01:13:17+00:00        True     9       19789   pinot   \n",
       "703672 2021-03-29 10:10:47+00:00        True     9       19257   pinot   \n",
       "703511 2021-03-12 03:01:58+00:00        True     9       19166   pinot   \n",
       "703520 2021-03-12 07:43:50+00:00        True     9       18863   pinot   \n",
       "703510 2021-03-12 02:52:30+00:00        True     9       18700   pinot   \n",
       "703238 2021-02-10 21:40:16+00:00        True     9       18152   pinot   \n",
       "703654 2021-03-26 02:54:22+00:00        True     9       17201   pinot   \n",
       "703682 2021-03-29 22:43:19+00:00        True     9       17135   pinot   \n",
       "703563 2021-03-17 01:29:57+00:00        True     9       16725   pinot   \n",
       "703462 2021-03-09 02:03:16+00:00        True     9       16723   pinot   \n",
       "703565 2021-03-17 01:51:37+00:00        True     9       16708   pinot   \n",
       "703710 2021-03-30 18:19:07+00:00        True     9       16341   pinot   \n",
       "703490 2021-03-11 01:23:10+00:00        True     9       16195   pinot   \n",
       "703439 2021-03-06 00:54:06+00:00        True     9       15949   pinot   \n",
       "703167 2021-02-05 00:28:30+00:00        True     9       15907   pinot   \n",
       "703500 2021-03-11 21:03:21+00:00        True     9       15862   pinot   \n",
       "703453 2021-03-08 23:15:58+00:00        True     9       15820   pinot   \n",
       "703693 2021-03-30 05:23:58+00:00        True     9       15798   pinot   \n",
       "703352 2021-02-25 01:58:08+00:00        True     9       15550   pinot   \n",
       "703700 2021-03-30 08:50:08+00:00        True     9       15469   pinot   \n",
       "703556 2021-03-16 21:45:08+00:00        True     9       15411   pinot   \n",
       "703650 2021-03-25 04:43:02+00:00        True     9       15176   pinot   \n",
       "\n",
       "         jobhours    month  \n",
       "703737  16.518889  2021-03  \n",
       "703736   8.311389  2021-03  \n",
       "703536   5.941111  2021-03  \n",
       "703689   5.496944  2021-03  \n",
       "703672   5.349167  2021-03  \n",
       "703511   5.323889  2021-03  \n",
       "703520   5.239722  2021-03  \n",
       "703510   5.194444  2021-03  \n",
       "703238   5.042222  2021-02  \n",
       "703654   4.778056  2021-03  \n",
       "703682   4.759722  2021-03  \n",
       "703563   4.645833  2021-03  \n",
       "703462   4.645278  2021-03  \n",
       "703565   4.641111  2021-03  \n",
       "703710   4.539167  2021-03  \n",
       "703490   4.498611  2021-03  \n",
       "703439   4.430278  2021-03  \n",
       "703167   4.418611  2021-02  \n",
       "703500   4.406111  2021-03  \n",
       "703453   4.394444  2021-03  \n",
       "703693   4.388333  2021-03  \n",
       "703352   4.319444  2021-02  \n",
       "703700   4.296944  2021-03  \n",
       "703556   4.280833  2021-03  \n",
       "703650   4.215556  2021-03  "
      ]
     },
     "execution_count": 11,
     "metadata": {},
     "output_type": "execute_result"
    }
   ],
   "source": [
    "actions.sort_values(\"jobhours\", ascending=False).head(25)"
   ]
  },
  {
   "cell_type": "code",
   "execution_count": 12,
   "id": "05681e09",
   "metadata": {
    "execution": {
     "iopub.execute_input": "2021-04-18T09:18:51.111471Z",
     "iopub.status.busy": "2021-04-18T09:18:51.111085Z",
     "iopub.status.idle": "2021-04-18T09:18:52.324908Z",
     "shell.execute_reply": "2021-04-18T09:18:52.324528Z"
    },
    "jupyter": {
     "source_hidden": true
    },
    "papermill": {
     "duration": 1.23063,
     "end_time": "2021-04-18T09:18:52.325002",
     "exception": false,
     "start_time": "2021-04-18T09:18:51.094372",
     "status": "completed"
    },
    "tags": []
   },
   "outputs": [],
   "source": [
    "job = pd.read_csv(\"github-action-job.csv.gz\")                          \n",
    "job.startedat = pd.to_datetime(job.startedat * 1000000, utc = True)\n",
    "job.completedat = pd.to_datetime(job.completedat * 1000000, utc = True)\n",
    "job[\"project\"] = job.repo.apply(asf_project)"
   ]
  },
  {
   "cell_type": "code",
   "execution_count": 13,
   "id": "f433a7bb",
   "metadata": {
    "execution": {
     "iopub.execute_input": "2021-04-18T09:18:52.351883Z",
     "iopub.status.busy": "2021-04-18T09:18:52.351445Z",
     "iopub.status.idle": "2021-04-18T09:18:52.381193Z",
     "shell.execute_reply": "2021-04-18T09:18:52.381482Z"
    },
    "jupyter": {
     "source_hidden": true
    },
    "papermill": {
     "duration": 0.044754,
     "end_time": "2021-04-18T09:18:52.381601",
     "exception": false,
     "start_time": "2021-04-18T09:18:52.336847",
     "status": "completed"
    },
    "tags": []
   },
   "outputs": [],
   "source": [
    "job[\"jobhours\"] = (job.completedat - job.startedat).dt.seconds / 60 / 60"
   ]
  },
  {
   "cell_type": "code",
   "execution_count": 14,
   "id": "6db40ac0",
   "metadata": {
    "execution": {
     "iopub.execute_input": "2021-04-18T09:18:52.449831Z",
     "iopub.status.busy": "2021-04-18T09:18:52.449448Z",
     "iopub.status.idle": "2021-04-18T09:18:52.542174Z",
     "shell.execute_reply": "2021-04-18T09:18:52.541837Z"
    },
    "jupyter": {
     "source_hidden": true
    },
    "papermill": {
     "duration": 0.148151,
     "end_time": "2021-04-18T09:18:52.542266",
     "exception": false,
     "start_time": "2021-04-18T09:18:52.394115",
     "status": "completed"
    },
    "tags": []
   },
   "outputs": [],
   "source": [
    "job = job[job.project == project]"
   ]
  },
  {
   "cell_type": "markdown",
   "id": "c36f7374",
   "metadata": {
    "papermill": {
     "duration": 0.012143,
     "end_time": "2021-04-18T09:18:52.567065",
     "exception": false,
     "start_time": "2021-04-18T09:18:52.554922",
     "status": "completed"
    },
    "tags": []
   },
   "source": [
    "## Slowest job executions by job names"
   ]
  },
  {
   "cell_type": "code",
   "execution_count": 15,
   "id": "fced4389",
   "metadata": {
    "execution": {
     "iopub.execute_input": "2021-04-18T09:18:52.599671Z",
     "iopub.status.busy": "2021-04-18T09:18:52.599290Z",
     "iopub.status.idle": "2021-04-18T09:18:52.609144Z",
     "shell.execute_reply": "2021-04-18T09:18:52.608781Z"
    },
    "jupyter": {
     "source_hidden": true
    },
    "papermill": {
     "duration": 0.029503,
     "end_time": "2021-04-18T09:18:52.609227",
     "exception": false,
     "start_time": "2021-04-18T09:18:52.579724",
     "status": "completed"
    },
    "tags": []
   },
   "outputs": [
    {
     "data": {
      "text/html": [
       "<div>\n",
       "<style scoped>\n",
       "    .dataframe tbody tr th:only-of-type {\n",
       "        vertical-align: middle;\n",
       "    }\n",
       "\n",
       "    .dataframe tbody tr th {\n",
       "        vertical-align: top;\n",
       "    }\n",
       "\n",
       "    .dataframe thead th {\n",
       "        text-align: right;\n",
       "    }\n",
       "</style>\n",
       "<table border=\"1\" class=\"dataframe\">\n",
       "  <thead>\n",
       "    <tr style=\"text-align: right;\">\n",
       "      <th></th>\n",
       "      <th>org</th>\n",
       "      <th>repo</th>\n",
       "      <th>name</th>\n",
       "      <th>jobhours</th>\n",
       "    </tr>\n",
       "  </thead>\n",
       "  <tbody>\n",
       "    <tr>\n",
       "      <th>10</th>\n",
       "      <td>apache</td>\n",
       "      <td>incubator-pinot</td>\n",
       "      <td>integration-test</td>\n",
       "      <td>722.924722</td>\n",
       "    </tr>\n",
       "    <tr>\n",
       "      <th>11</th>\n",
       "      <td>apache</td>\n",
       "      <td>incubator-pinot</td>\n",
       "      <td>unit-test</td>\n",
       "      <td>458.141111</td>\n",
       "    </tr>\n",
       "    <tr>\n",
       "      <th>3</th>\n",
       "      <td>apache</td>\n",
       "      <td>incubator-pinot</td>\n",
       "      <td>Pinot Quickstart on JDK 11</td>\n",
       "      <td>166.364722</td>\n",
       "    </tr>\n",
       "    <tr>\n",
       "      <th>4</th>\n",
       "      <td>apache</td>\n",
       "      <td>incubator-pinot</td>\n",
       "      <td>Pinot Quickstart on JDK 12</td>\n",
       "      <td>165.298333</td>\n",
       "    </tr>\n",
       "    <tr>\n",
       "      <th>5</th>\n",
       "      <td>apache</td>\n",
       "      <td>incubator-pinot</td>\n",
       "      <td>Pinot Quickstart on JDK 13</td>\n",
       "      <td>160.976667</td>\n",
       "    </tr>\n",
       "    <tr>\n",
       "      <th>6</th>\n",
       "      <td>apache</td>\n",
       "      <td>incubator-pinot</td>\n",
       "      <td>Pinot Quickstart on JDK 14</td>\n",
       "      <td>158.130278</td>\n",
       "    </tr>\n",
       "    <tr>\n",
       "      <th>2</th>\n",
       "      <td>apache</td>\n",
       "      <td>incubator-pinot</td>\n",
       "      <td>Pinot Quickstart on JDK 10</td>\n",
       "      <td>152.932500</td>\n",
       "    </tr>\n",
       "    <tr>\n",
       "      <th>1</th>\n",
       "      <td>apache</td>\n",
       "      <td>incubator-pinot</td>\n",
       "      <td>Pinot Quickstart on JDK 1.8</td>\n",
       "      <td>152.413056</td>\n",
       "    </tr>\n",
       "    <tr>\n",
       "      <th>7</th>\n",
       "      <td>apache</td>\n",
       "      <td>incubator-pinot</td>\n",
       "      <td>Pinot Quickstart on JDK 15</td>\n",
       "      <td>79.782222</td>\n",
       "    </tr>\n",
       "    <tr>\n",
       "      <th>8</th>\n",
       "      <td>apache</td>\n",
       "      <td>incubator-pinot</td>\n",
       "      <td>Pinot Quickstart on JDK 15-ea</td>\n",
       "      <td>76.883611</td>\n",
       "    </tr>\n",
       "    <tr>\n",
       "      <th>9</th>\n",
       "      <td>apache</td>\n",
       "      <td>incubator-pinot</td>\n",
       "      <td>build</td>\n",
       "      <td>3.790278</td>\n",
       "    </tr>\n",
       "    <tr>\n",
       "      <th>0</th>\n",
       "      <td>apache</td>\n",
       "      <td>incubator-pinot</td>\n",
       "      <td>Cancel duplicate workflow runs</td>\n",
       "      <td>1.017500</td>\n",
       "    </tr>\n",
       "  </tbody>\n",
       "</table>\n",
       "</div>"
      ],
      "text/plain": [
       "       org             repo                            name    jobhours\n",
       "10  apache  incubator-pinot                integration-test  722.924722\n",
       "11  apache  incubator-pinot                       unit-test  458.141111\n",
       "3   apache  incubator-pinot      Pinot Quickstart on JDK 11  166.364722\n",
       "4   apache  incubator-pinot      Pinot Quickstart on JDK 12  165.298333\n",
       "5   apache  incubator-pinot      Pinot Quickstart on JDK 13  160.976667\n",
       "6   apache  incubator-pinot      Pinot Quickstart on JDK 14  158.130278\n",
       "2   apache  incubator-pinot      Pinot Quickstart on JDK 10  152.932500\n",
       "1   apache  incubator-pinot     Pinot Quickstart on JDK 1.8  152.413056\n",
       "7   apache  incubator-pinot      Pinot Quickstart on JDK 15   79.782222\n",
       "8   apache  incubator-pinot   Pinot Quickstart on JDK 15-ea   76.883611\n",
       "9   apache  incubator-pinot                           build    3.790278\n",
       "0   apache  incubator-pinot  Cancel duplicate workflow runs    1.017500"
      ]
     },
     "execution_count": 15,
     "metadata": {},
     "output_type": "execute_result"
    }
   ],
   "source": [
    "job[[\"jobhours\"]].groupby([job.org,job.repo, job.name]).sum().reset_index().sort_values(\"jobhours\", ascending=False).head(25)"
   ]
  },
  {
   "cell_type": "markdown",
   "id": "cb410df7",
   "metadata": {
    "papermill": {
     "duration": 0.01324,
     "end_time": "2021-04-18T09:18:52.635178",
     "exception": false,
     "start_time": "2021-04-18T09:18:52.621938",
     "status": "completed"
    },
    "tags": []
   },
   "source": [
    "## Number of job executions per status"
   ]
  },
  {
   "cell_type": "code",
   "execution_count": 16,
   "id": "140a2bce",
   "metadata": {
    "execution": {
     "iopub.execute_input": "2021-04-18T09:18:52.669339Z",
     "iopub.status.busy": "2021-04-18T09:18:52.668959Z",
     "iopub.status.idle": "2021-04-18T09:18:52.677562Z",
     "shell.execute_reply": "2021-04-18T09:18:52.677838Z"
    },
    "jupyter": {
     "source_hidden": true
    },
    "papermill": {
     "duration": 0.028922,
     "end_time": "2021-04-18T09:18:52.677947",
     "exception": false,
     "start_time": "2021-04-18T09:18:52.649025",
     "status": "completed"
    },
    "tags": []
   },
   "outputs": [
    {
     "data": {
      "text/html": [
       "<div>\n",
       "<style scoped>\n",
       "    .dataframe tbody tr th:only-of-type {\n",
       "        vertical-align: middle;\n",
       "    }\n",
       "\n",
       "    .dataframe tbody tr th {\n",
       "        vertical-align: top;\n",
       "    }\n",
       "\n",
       "    .dataframe thead th {\n",
       "        text-align: right;\n",
       "    }\n",
       "</style>\n",
       "<table border=\"1\" class=\"dataframe\">\n",
       "  <thead>\n",
       "    <tr style=\"text-align: right;\">\n",
       "      <th></th>\n",
       "      <th>org</th>\n",
       "      <th>repo</th>\n",
       "      <th>conclusion</th>\n",
       "      <th>id</th>\n",
       "    </tr>\n",
       "  </thead>\n",
       "  <tbody>\n",
       "    <tr>\n",
       "      <th>3</th>\n",
       "      <td>apache</td>\n",
       "      <td>incubator-pinot</td>\n",
       "      <td>success</td>\n",
       "      <td>6015</td>\n",
       "    </tr>\n",
       "    <tr>\n",
       "      <th>0</th>\n",
       "      <td>apache</td>\n",
       "      <td>incubator-pinot</td>\n",
       "      <td>cancelled</td>\n",
       "      <td>1654</td>\n",
       "    </tr>\n",
       "    <tr>\n",
       "      <th>1</th>\n",
       "      <td>apache</td>\n",
       "      <td>incubator-pinot</td>\n",
       "      <td>failure</td>\n",
       "      <td>464</td>\n",
       "    </tr>\n",
       "    <tr>\n",
       "      <th>2</th>\n",
       "      <td>apache</td>\n",
       "      <td>incubator-pinot</td>\n",
       "      <td>neutral</td>\n",
       "      <td>1</td>\n",
       "    </tr>\n",
       "  </tbody>\n",
       "</table>\n",
       "</div>"
      ],
      "text/plain": [
       "      org             repo conclusion    id\n",
       "3  apache  incubator-pinot    success  6015\n",
       "0  apache  incubator-pinot  cancelled  1654\n",
       "1  apache  incubator-pinot    failure   464\n",
       "2  apache  incubator-pinot    neutral     1"
      ]
     },
     "execution_count": 16,
     "metadata": {},
     "output_type": "execute_result"
    }
   ],
   "source": [
    "job[[\"id\"]].groupby([job.org,job.repo,  job.conclusion]).count().reset_index().sort_values(\"id\", ascending=False).head(25)"
   ]
  },
  {
   "cell_type": "code",
   "execution_count": 17,
   "id": "cd8ebdef",
   "metadata": {
    "execution": {
     "iopub.execute_input": "2021-04-18T09:18:52.712778Z",
     "iopub.status.busy": "2021-04-18T09:18:52.711723Z",
     "iopub.status.idle": "2021-04-18T09:18:52.718107Z",
     "shell.execute_reply": "2021-04-18T09:18:52.717749Z"
    },
    "jupyter": {
     "source_hidden": true
    },
    "papermill": {
     "duration": 0.026594,
     "end_time": "2021-04-18T09:18:52.718190",
     "exception": false,
     "start_time": "2021-04-18T09:18:52.691596",
     "status": "completed"
    },
    "tags": []
   },
   "outputs": [],
   "source": [
    "start = job.loc[:,[\"org\",\"repo\",\"project\",\"id\",\"runid\",\"startedat\"]]\n",
    "start[\"value\"] = 1\n",
    "start = start.rename(columns={\"startedat\":\"date\"})\n",
    "\n",
    "end = job.loc[:,[\"org\",\"repo\",\"project\",\"id\",\"runid\",\"completedat\"]]\n",
    "end[\"value\"] = -1\n",
    "end = end.rename(columns={\"completedat\":\"date\"})\n",
    "events = pd.concat([start, end]).sort_values(\"date\")\n",
    "events[\"running\"] = events.value.cumsum()\n"
   ]
  },
  {
   "cell_type": "markdown",
   "id": "0283a53c",
   "metadata": {
    "papermill": {
     "duration": 0.014414,
     "end_time": "2021-04-18T09:18:52.746055",
     "exception": false,
     "start_time": "2021-04-18T09:18:52.731641",
     "status": "completed"
    },
    "tags": []
   },
   "source": [
    "## Average (12h window) parallel running/queued job at a given time"
   ]
  },
  {
   "cell_type": "code",
   "execution_count": 18,
   "id": "77dffb66",
   "metadata": {
    "execution": {
     "iopub.execute_input": "2021-04-18T09:18:52.779504Z",
     "iopub.status.busy": "2021-04-18T09:18:52.779120Z",
     "iopub.status.idle": "2021-04-18T09:18:52.927599Z",
     "shell.execute_reply": "2021-04-18T09:18:52.927231Z"
    },
    "jupyter": {
     "source_hidden": true
    },
    "papermill": {
     "duration": 0.166446,
     "end_time": "2021-04-18T09:18:52.927682",
     "exception": false,
     "start_time": "2021-04-18T09:18:52.761236",
     "status": "completed"
    },
    "tags": []
   },
   "outputs": [
    {
     "data": {
      "image/png": "[encoded data removed]",
      "text/plain": [
       "<Figure size 1440x576 with 1 Axes>"
      ]
     },
     "metadata": {
      "needs_background": "light"
     },
     "output_type": "display_data"
    }
   ],
   "source": [
    "\n",
    "r = events.set_index('date')\n",
    "r = r.sort_index()\n",
    "r = r.resample(\"12H\").mean().fillna(0)\n",
    "\n",
    "plt.figure(figsize=(20,8))\n",
    "plt.plot(r.index,r.running)\n",
    "plt.show()"
   ]
  },
  {
   "cell_type": "code",
   "execution_count": 19,
   "id": "5e7cefbb",
   "metadata": {
    "execution": {
     "iopub.execute_input": "2021-04-18T09:18:52.958396Z",
     "iopub.status.busy": "2021-04-18T09:18:52.958012Z",
     "iopub.status.idle": "2021-04-18T09:18:52.959376Z",
     "shell.execute_reply": "2021-04-18T09:18:52.959661Z"
    },
    "jupyter": {
     "source_hidden": true
    },
    "papermill": {
     "duration": 0.018017,
     "end_time": "2021-04-18T09:18:52.959761",
     "exception": false,
     "start_time": "2021-04-18T09:18:52.941744",
     "status": "completed"
    },
    "tags": []
   },
   "outputs": [],
   "source": [
    "## Max (12h window) parallel running/queued job at a given time"
   ]
  },
  {
   "cell_type": "code",
   "execution_count": 20,
   "id": "a5ddedf1",
   "metadata": {
    "execution": {
     "iopub.execute_input": "2021-04-18T09:18:52.993946Z",
     "iopub.status.busy": "2021-04-18T09:18:52.993534Z",
     "iopub.status.idle": "2021-04-18T09:18:53.164029Z",
     "shell.execute_reply": "2021-04-18T09:18:53.163647Z"
    },
    "jupyter": {
     "source_hidden": true
    },
    "papermill": {
     "duration": 0.18965,
     "end_time": "2021-04-18T09:18:53.164122",
     "exception": false,
     "start_time": "2021-04-18T09:18:52.974472",
     "status": "completed"
    },
    "tags": []
   },
   "outputs": [
    {
     "data": {
      "image/png": "[encoded data removed]",
      "text/plain": [
       "<Figure size 1440x576 with 1 Axes>"
      ]
     },
     "metadata": {
      "needs_background": "light"
     },
     "output_type": "display_data"
    }
   ],
   "source": [
    "\n",
    "r = events.set_index('date')\n",
    "r = r.sort_index()\n",
    "r = r.resample(\"12H\").max().fillna(0)\n",
    "\n",
    "plt.figure(figsize=(20,8))\n",
    "plt.plot(r.index,r.running)\n",
    "plt.show()"
   ]
  },
  {
   "cell_type": "code",
   "execution_count": null,
   "id": "70d654b9",
   "metadata": {
    "jupyter": {
     "source_hidden": true
    },
    "papermill": {
     "duration": 0.015519,
     "end_time": "2021-04-18T09:18:53.194951",
     "exception": false,
     "start_time": "2021-04-18T09:18:53.179432",
     "status": "completed"
    },
    "tags": []
   },
   "outputs": [],
   "source": []
  }
 ],
 "metadata": {
  "kernelspec": {
   "display_name": "Python 3",
   "language": "python",
   "name": "python3"
  },
  "language_info": {
   "codemirror_mode": {
    "name": "ipython",
    "version": 3
   },
   "file_extension": ".py",
   "mimetype": "text/x-python",
   "name": "python",
   "nbconvert_exporter": "python",
   "pygments_lexer": "ipython3",
   "version": "3.8.8"
  },
  "papermill": {
   "default_parameters": {},
   "duration": 12.644961,
   "end_time": "2021-04-18T09:18:53.517374",
   "environment_variables": {},
   "exception": null,
   "input_path": "per-project-usage.ipynb",
   "output_path": "per-project-usage-pinot.ipynb",
   "parameters": {
    "project": "pinot"
   },
   "start_time": "2021-04-18T09:18:40.872413",
   "version": "2.3.3"
  }
 },
 "nbformat": 4,
 "nbformat_minor": 5
}